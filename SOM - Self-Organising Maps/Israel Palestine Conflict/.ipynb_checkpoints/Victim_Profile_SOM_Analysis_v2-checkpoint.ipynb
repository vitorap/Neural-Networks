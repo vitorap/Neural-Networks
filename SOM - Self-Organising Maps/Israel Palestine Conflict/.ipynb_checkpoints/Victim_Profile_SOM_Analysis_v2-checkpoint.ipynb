{
 "cells": [
  {
   "cell_type": "markdown",
   "id": "95836ee4",
   "metadata": {},
   "source": [
    "# Análise de Perfis de Vítimas no Conflito Israel-Palestina\n"
   ]
  },
  {
   "cell_type": "markdown",
   "id": "64069a6d",
   "metadata": {},
   "source": [
    "## 1. Introdução\n",
    "### Contexto\n",
    "O conflito Israel-Palestina tem sido uma fonte prolongada de tensões e violência na região do Oriente Médio. A análise de dados referente às fatalidades e circunstâncias associadas pode oferecer insights sobre os padrões e características das vítimas envolvidas.\n",
    "### Objetivo\n",
    "Este projeto visa explorar e identificar perfis de vítimas utilizando a Rede SOM (Self-Organizing Map) para revelar padrões e agrupamentos nos dados disponíveis sobre os incidentes e fatalidades."
   ]
  },
  {
   "cell_type": "markdown",
   "id": "8b8a2165",
   "metadata": {},
   "source": [
    "## 2. Importação e Preparação dos Dados\n",
    "### Importação de Bibliotecas e Dados\n"
   ]
  },
  {
   "cell_type": "code",
   "execution_count": 2,
   "id": "9362b288",
   "metadata": {},
   "outputs": [],
   "source": [
    "import pandas as pd\n",
    "import numpy as np\n",
    "import matplotlib.pyplot as plt\n",
    "import seaborn as sns\n",
    "from sklearn.preprocessing import MinMaxScaler, OneHotEncoder\n",
    "from minisom import MiniSom\n",
    "\n",
    "# Carregando os dados\n",
    "data = pd.read_csv('fatalities_isr_pse_conflict_2000_to_2023.csv')"
   ]
  },
  {
   "cell_type": "markdown",
   "id": "371fd054",
   "metadata": {},
   "source": [
    "### Exploração Inicial dos Dados"
   ]
  },
  {
   "cell_type": "code",
   "execution_count": 3,
   "id": "eeaa3f00",
   "metadata": {},
   "outputs": [
    {
     "name": "stdout",
     "output_type": "stream",
     "text": [
      "<class 'pandas.core.frame.DataFrame'>\n",
      "RangeIndex: 11124 entries, 0 to 11123\n",
      "Data columns (total 16 columns):\n",
      " #   Column                        Non-Null Count  Dtype  \n",
      "---  ------                        --------------  -----  \n",
      " 0   name                          11124 non-null  object \n",
      " 1   date_of_event                 11124 non-null  object \n",
      " 2   age                           10995 non-null  float64\n",
      " 3   citizenship                   11124 non-null  object \n",
      " 4   event_location                11124 non-null  object \n",
      " 5   event_location_district       11124 non-null  object \n",
      " 6   event_location_region         11124 non-null  object \n",
      " 7   date_of_death                 11124 non-null  object \n",
      " 8   gender                        11104 non-null  object \n",
      " 9   took_part_in_the_hostilities  9694 non-null   object \n",
      " 10  place_of_residence            11056 non-null  object \n",
      " 11  place_of_residence_district   11056 non-null  object \n",
      " 12  type_of_injury                10833 non-null  object \n",
      " 13  ammunition                    5871 non-null   object \n",
      " 14  killed_by                     11124 non-null  object \n",
      " 15  notes                         10844 non-null  object \n",
      "dtypes: float64(1), object(15)\n",
      "memory usage: 1.4+ MB\n"
     ]
    }
   ],
   "source": [
    "data.head()\n",
    "data.info()"
   ]
  },
  {
   "cell_type": "markdown",
   "id": "1e2b1a1b",
   "metadata": {},
   "source": [
    "### Limpeza e Pré-processamento de Dados"
   ]
  },
  {
   "cell_type": "code",
   "execution_count": null,
   "id": "67acf734",
   "metadata": {},
   "outputs": [],
   "source": [
    "# Tratamento de dados ausentes e codificação de variáveis categóricas será realizado aqui\n",
    "# ...\n",
    "# ...\n"
   ]
  },
  {
   "cell_type": "markdown",
   "id": "bf4c472d",
   "metadata": {},
   "source": [
    "## 3. Análise Exploratória de Dados (AED)\n",
    "### Análise Univariada\n"
   ]
  },
  {
   "cell_type": "code",
   "execution_count": null,
   "id": "7e846a3f",
   "metadata": {},
   "outputs": [],
   "source": [
    "# Códigos para visualização e análise univariada\n",
    "# ...\n",
    "# ...\n"
   ]
  },
  {
   "cell_type": "markdown",
   "id": "69b28060",
   "metadata": {},
   "source": [
    "### Análise Bivariada\n"
   ]
  },
  {
   "cell_type": "code",
   "execution_count": null,
   "id": "97ccef35",
   "metadata": {},
   "outputs": [],
   "source": [
    "# Códigos para visualização e análise bivariada\n",
    "# ...\n",
    "# ...\n"
   ]
  },
  {
   "cell_type": "markdown",
   "id": "286f8746",
   "metadata": {},
   "source": [
    "## 4. Modelagem com SOM\n",
    "### Preparação dos Dados\n"
   ]
  },
  {
   "cell_type": "code",
   "execution_count": null,
   "id": "05486833",
   "metadata": {},
   "outputs": [],
   "source": [
    "# Códigos para a preparação final dos dados para a SOM\n",
    "# Normalização, etc.\n",
    "# ...\n",
    "# ...\n"
   ]
  },
  {
   "cell_type": "markdown",
   "id": "342262bd",
   "metadata": {},
   "source": [
    "### Treinamento da SOM"
   ]
  },
  {
   "cell_type": "code",
   "execution_count": null,
   "id": "06273d58",
   "metadata": {},
   "outputs": [],
   "source": [
    "# Códigos para treinamento da SOM e visualização dos mapas de componentes\n",
    "# ...\n",
    "# ...\n"
   ]
  }
 ],
 "metadata": {
  "kernelspec": {
   "display_name": "Python 3 (ipykernel)",
   "language": "python",
   "name": "python3"
  },
  "language_info": {
   "codemirror_mode": {
    "name": "ipython",
    "version": 3
   },
   "file_extension": ".py",
   "mimetype": "text/x-python",
   "name": "python",
   "nbconvert_exporter": "python",
   "pygments_lexer": "ipython3",
   "version": "3.8.18"
  }
 },
 "nbformat": 4,
 "nbformat_minor": 5
}
