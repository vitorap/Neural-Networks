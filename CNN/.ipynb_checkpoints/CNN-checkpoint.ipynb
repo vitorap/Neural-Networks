{
 "cells": [
  {
   "cell_type": "code",
   "execution_count": 1,
   "id": "32361c3f",
   "metadata": {},
   "outputs": [
    {
     "name": "stdout",
     "output_type": "stream",
     "text": [
      "Requirement already satisfied: tensorflow in c:\\users\\ealbvit\\appdata\\local\\anaconda3\\envs\\redes_neurais\\lib\\site-packages (2.13.0)\n",
      "Requirement already satisfied: optuna in c:\\users\\ealbvit\\appdata\\local\\anaconda3\\envs\\redes_neurais\\lib\\site-packages (3.4.0)\n",
      "Requirement already satisfied: matplotlib in c:\\users\\ealbvit\\appdata\\local\\anaconda3\\envs\\redes_neurais\\lib\\site-packages (3.7.2)\n",
      "Requirement already satisfied: scikit-learn in c:\\users\\ealbvit\\appdata\\local\\anaconda3\\envs\\redes_neurais\\lib\\site-packages (1.3.0)\n",
      "Requirement already satisfied: tensorflow-intel==2.13.0 in c:\\users\\ealbvit\\appdata\\local\\anaconda3\\envs\\redes_neurais\\lib\\site-packages (from tensorflow) (2.13.0)\n",
      "Requirement already satisfied: absl-py>=1.0.0 in c:\\users\\ealbvit\\appdata\\local\\anaconda3\\envs\\redes_neurais\\lib\\site-packages (from tensorflow-intel==2.13.0->tensorflow) (1.4.0)\n",
      "Requirement already satisfied: astunparse>=1.6.0 in c:\\users\\ealbvit\\appdata\\local\\anaconda3\\envs\\redes_neurais\\lib\\site-packages (from tensorflow-intel==2.13.0->tensorflow) (1.6.3)\n",
      "Requirement already satisfied: flatbuffers>=23.1.21 in c:\\users\\ealbvit\\appdata\\local\\anaconda3\\envs\\redes_neurais\\lib\\site-packages (from tensorflow-intel==2.13.0->tensorflow) (23.5.26)\n",
      "Requirement already satisfied: gast<=0.4.0,>=0.2.1 in c:\\users\\ealbvit\\appdata\\local\\anaconda3\\envs\\redes_neurais\\lib\\site-packages (from tensorflow-intel==2.13.0->tensorflow) (0.4.0)\n",
      "Requirement already satisfied: google-pasta>=0.1.1 in c:\\users\\ealbvit\\appdata\\local\\anaconda3\\envs\\redes_neurais\\lib\\site-packages (from tensorflow-intel==2.13.0->tensorflow) (0.2.0)\n",
      "Requirement already satisfied: h5py>=2.9.0 in c:\\users\\ealbvit\\appdata\\local\\anaconda3\\envs\\redes_neurais\\lib\\site-packages (from tensorflow-intel==2.13.0->tensorflow) (3.9.0)\n",
      "Requirement already satisfied: libclang>=13.0.0 in c:\\users\\ealbvit\\appdata\\local\\anaconda3\\envs\\redes_neurais\\lib\\site-packages (from tensorflow-intel==2.13.0->tensorflow) (16.0.6)\n",
      "Requirement already satisfied: numpy<=1.24.3,>=1.22 in c:\\users\\ealbvit\\appdata\\local\\anaconda3\\envs\\redes_neurais\\lib\\site-packages (from tensorflow-intel==2.13.0->tensorflow) (1.24.3)\n",
      "Requirement already satisfied: opt-einsum>=2.3.2 in c:\\users\\ealbvit\\appdata\\local\\anaconda3\\envs\\redes_neurais\\lib\\site-packages (from tensorflow-intel==2.13.0->tensorflow) (3.3.0)\n",
      "Requirement already satisfied: packaging in c:\\users\\ealbvit\\appdata\\local\\anaconda3\\envs\\redes_neurais\\lib\\site-packages (from tensorflow-intel==2.13.0->tensorflow) (23.1)\n",
      "Requirement already satisfied: protobuf!=4.21.0,!=4.21.1,!=4.21.2,!=4.21.3,!=4.21.4,!=4.21.5,<5.0.0dev,>=3.20.3 in c:\\users\\ealbvit\\appdata\\local\\anaconda3\\envs\\redes_neurais\\lib\\site-packages (from tensorflow-intel==2.13.0->tensorflow) (3.20.3)\n",
      "Requirement already satisfied: setuptools in c:\\users\\ealbvit\\appdata\\local\\anaconda3\\envs\\redes_neurais\\lib\\site-packages (from tensorflow-intel==2.13.0->tensorflow) (68.0.0)\n",
      "Requirement already satisfied: six>=1.12.0 in c:\\users\\ealbvit\\appdata\\local\\anaconda3\\envs\\redes_neurais\\lib\\site-packages (from tensorflow-intel==2.13.0->tensorflow) (1.16.0)\n",
      "Requirement already satisfied: termcolor>=1.1.0 in c:\\users\\ealbvit\\appdata\\local\\anaconda3\\envs\\redes_neurais\\lib\\site-packages (from tensorflow-intel==2.13.0->tensorflow) (2.3.0)\n",
      "Requirement already satisfied: typing-extensions<4.6.0,>=3.6.6 in c:\\users\\ealbvit\\appdata\\local\\anaconda3\\envs\\redes_neurais\\lib\\site-packages (from tensorflow-intel==2.13.0->tensorflow) (4.5.0)\n",
      "Requirement already satisfied: wrapt>=1.11.0 in c:\\users\\ealbvit\\appdata\\local\\anaconda3\\envs\\redes_neurais\\lib\\site-packages (from tensorflow-intel==2.13.0->tensorflow) (1.15.0)\n",
      "Requirement already satisfied: grpcio<2.0,>=1.24.3 in c:\\users\\ealbvit\\appdata\\local\\anaconda3\\envs\\redes_neurais\\lib\\site-packages (from tensorflow-intel==2.13.0->tensorflow) (1.59.0)\n",
      "Requirement already satisfied: tensorboard<2.14,>=2.13 in c:\\users\\ealbvit\\appdata\\local\\anaconda3\\envs\\redes_neurais\\lib\\site-packages (from tensorflow-intel==2.13.0->tensorflow) (2.13.0)\n",
      "Requirement already satisfied: tensorflow-estimator<2.14,>=2.13.0 in c:\\users\\ealbvit\\appdata\\local\\anaconda3\\envs\\redes_neurais\\lib\\site-packages (from tensorflow-intel==2.13.0->tensorflow) (2.13.0)\n",
      "Requirement already satisfied: keras<2.14,>=2.13.1 in c:\\users\\ealbvit\\appdata\\local\\anaconda3\\envs\\redes_neurais\\lib\\site-packages (from tensorflow-intel==2.13.0->tensorflow) (2.13.1)\n",
      "Requirement already satisfied: tensorflow-io-gcs-filesystem>=0.23.1 in c:\\users\\ealbvit\\appdata\\local\\anaconda3\\envs\\redes_neurais\\lib\\site-packages (from tensorflow-intel==2.13.0->tensorflow) (0.31.0)\n",
      "Requirement already satisfied: alembic>=1.5.0 in c:\\users\\ealbvit\\appdata\\local\\anaconda3\\envs\\redes_neurais\\lib\\site-packages (from optuna) (1.12.1)\n",
      "Requirement already satisfied: colorlog in c:\\users\\ealbvit\\appdata\\local\\anaconda3\\envs\\redes_neurais\\lib\\site-packages (from optuna) (6.7.0)\n",
      "Requirement already satisfied: sqlalchemy>=1.3.0 in c:\\users\\ealbvit\\appdata\\local\\anaconda3\\envs\\redes_neurais\\lib\\site-packages (from optuna) (2.0.23)\n",
      "Requirement already satisfied: tqdm in c:\\users\\ealbvit\\appdata\\local\\anaconda3\\envs\\redes_neurais\\lib\\site-packages (from optuna) (4.66.1)\n",
      "Requirement already satisfied: PyYAML in c:\\users\\ealbvit\\appdata\\local\\anaconda3\\envs\\redes_neurais\\lib\\site-packages (from optuna) (6.0.1)\n",
      "Requirement already satisfied: contourpy>=1.0.1 in c:\\users\\ealbvit\\appdata\\local\\anaconda3\\envs\\redes_neurais\\lib\\site-packages (from matplotlib) (1.0.5)\n",
      "Requirement already satisfied: cycler>=0.10 in c:\\users\\ealbvit\\appdata\\local\\anaconda3\\envs\\redes_neurais\\lib\\site-packages (from matplotlib) (0.11.0)\n",
      "Requirement already satisfied: fonttools>=4.22.0 in c:\\users\\ealbvit\\appdata\\local\\anaconda3\\envs\\redes_neurais\\lib\\site-packages (from matplotlib) (4.25.0)\n",
      "Requirement already satisfied: kiwisolver>=1.0.1 in c:\\users\\ealbvit\\appdata\\local\\anaconda3\\envs\\redes_neurais\\lib\\site-packages (from matplotlib) (1.4.4)\n",
      "Requirement already satisfied: pillow>=6.2.0 in c:\\users\\ealbvit\\appdata\\local\\anaconda3\\envs\\redes_neurais\\lib\\site-packages (from matplotlib) (9.4.0)\n",
      "Requirement already satisfied: pyparsing<3.1,>=2.3.1 in c:\\users\\ealbvit\\appdata\\local\\anaconda3\\envs\\redes_neurais\\lib\\site-packages (from matplotlib) (3.0.9)\n",
      "Requirement already satisfied: python-dateutil>=2.7 in c:\\users\\ealbvit\\appdata\\local\\anaconda3\\envs\\redes_neurais\\lib\\site-packages (from matplotlib) (2.8.2)\n",
      "Requirement already satisfied: importlib-resources>=3.2.0 in c:\\users\\ealbvit\\appdata\\local\\anaconda3\\envs\\redes_neurais\\lib\\site-packages (from matplotlib) (5.2.0)\n",
      "Requirement already satisfied: scipy>=1.5.0 in c:\\users\\ealbvit\\appdata\\local\\anaconda3\\envs\\redes_neurais\\lib\\site-packages (from scikit-learn) (1.10.1)\n",
      "Requirement already satisfied: joblib>=1.1.1 in c:\\users\\ealbvit\\appdata\\local\\anaconda3\\envs\\redes_neurais\\lib\\site-packages (from scikit-learn) (1.2.0)\n",
      "Requirement already satisfied: threadpoolctl>=2.0.0 in c:\\users\\ealbvit\\appdata\\local\\anaconda3\\envs\\redes_neurais\\lib\\site-packages (from scikit-learn) (2.2.0)\n",
      "Requirement already satisfied: Mako in c:\\users\\ealbvit\\appdata\\local\\anaconda3\\envs\\redes_neurais\\lib\\site-packages (from alembic>=1.5.0->optuna) (1.3.0)\n",
      "Requirement already satisfied: importlib-metadata in c:\\users\\ealbvit\\appdata\\local\\anaconda3\\envs\\redes_neurais\\lib\\site-packages (from alembic>=1.5.0->optuna) (6.8.0)\n",
      "Requirement already satisfied: zipp>=3.1.0 in c:\\users\\ealbvit\\appdata\\local\\anaconda3\\envs\\redes_neurais\\lib\\site-packages (from importlib-resources>=3.2.0->matplotlib) (3.11.0)\n",
      "Requirement already satisfied: greenlet!=0.4.17 in c:\\users\\ealbvit\\appdata\\local\\anaconda3\\envs\\redes_neurais\\lib\\site-packages (from sqlalchemy>=1.3.0->optuna) (3.0.1)\n",
      "Requirement already satisfied: colorama in c:\\users\\ealbvit\\appdata\\local\\anaconda3\\envs\\redes_neurais\\lib\\site-packages (from colorlog->optuna) (0.4.6)\n",
      "Requirement already satisfied: wheel<1.0,>=0.23.0 in c:\\users\\ealbvit\\appdata\\local\\anaconda3\\envs\\redes_neurais\\lib\\site-packages (from astunparse>=1.6.0->tensorflow-intel==2.13.0->tensorflow) (0.41.2)\n",
      "Requirement already satisfied: google-auth<3,>=1.6.3 in c:\\users\\ealbvit\\appdata\\local\\anaconda3\\envs\\redes_neurais\\lib\\site-packages (from tensorboard<2.14,>=2.13->tensorflow-intel==2.13.0->tensorflow) (2.23.2)\n",
      "Requirement already satisfied: google-auth-oauthlib<1.1,>=0.5 in c:\\users\\ealbvit\\appdata\\local\\anaconda3\\envs\\redes_neurais\\lib\\site-packages (from tensorboard<2.14,>=2.13->tensorflow-intel==2.13.0->tensorflow) (1.0.0)\n",
      "Requirement already satisfied: markdown>=2.6.8 in c:\\users\\ealbvit\\appdata\\local\\anaconda3\\envs\\redes_neurais\\lib\\site-packages (from tensorboard<2.14,>=2.13->tensorflow-intel==2.13.0->tensorflow) (3.4.4)\n",
      "Requirement already satisfied: requests<3,>=2.21.0 in c:\\users\\ealbvit\\appdata\\local\\anaconda3\\envs\\redes_neurais\\lib\\site-packages (from tensorboard<2.14,>=2.13->tensorflow-intel==2.13.0->tensorflow) (2.31.0)\n",
      "Requirement already satisfied: tensorboard-data-server<0.8.0,>=0.7.0 in c:\\users\\ealbvit\\appdata\\local\\anaconda3\\envs\\redes_neurais\\lib\\site-packages (from tensorboard<2.14,>=2.13->tensorflow-intel==2.13.0->tensorflow) (0.7.1)\n",
      "Requirement already satisfied: werkzeug>=1.0.1 in c:\\users\\ealbvit\\appdata\\local\\anaconda3\\envs\\redes_neurais\\lib\\site-packages (from tensorboard<2.14,>=2.13->tensorflow-intel==2.13.0->tensorflow) (3.0.0)\n",
      "Requirement already satisfied: MarkupSafe>=0.9.2 in c:\\users\\ealbvit\\appdata\\local\\anaconda3\\envs\\redes_neurais\\lib\\site-packages (from Mako->alembic>=1.5.0->optuna) (2.1.1)\n",
      "Requirement already satisfied: cachetools<6.0,>=2.0.0 in c:\\users\\ealbvit\\appdata\\local\\anaconda3\\envs\\redes_neurais\\lib\\site-packages (from google-auth<3,>=1.6.3->tensorboard<2.14,>=2.13->tensorflow-intel==2.13.0->tensorflow) (5.3.1)\n",
      "Requirement already satisfied: pyasn1-modules>=0.2.1 in c:\\users\\ealbvit\\appdata\\local\\anaconda3\\envs\\redes_neurais\\lib\\site-packages (from google-auth<3,>=1.6.3->tensorboard<2.14,>=2.13->tensorflow-intel==2.13.0->tensorflow) (0.3.0)\n",
      "Requirement already satisfied: rsa<5,>=3.1.4 in c:\\users\\ealbvit\\appdata\\local\\anaconda3\\envs\\redes_neurais\\lib\\site-packages (from google-auth<3,>=1.6.3->tensorboard<2.14,>=2.13->tensorflow-intel==2.13.0->tensorflow) (4.9)\n",
      "Requirement already satisfied: requests-oauthlib>=0.7.0 in c:\\users\\ealbvit\\appdata\\local\\anaconda3\\envs\\redes_neurais\\lib\\site-packages (from google-auth-oauthlib<1.1,>=0.5->tensorboard<2.14,>=2.13->tensorflow-intel==2.13.0->tensorflow) (1.3.1)\n",
      "Requirement already satisfied: charset-normalizer<4,>=2 in c:\\users\\ealbvit\\appdata\\local\\anaconda3\\envs\\redes_neurais\\lib\\site-packages (from requests<3,>=2.21.0->tensorboard<2.14,>=2.13->tensorflow-intel==2.13.0->tensorflow) (2.0.4)\n",
      "Requirement already satisfied: idna<4,>=2.5 in c:\\users\\ealbvit\\appdata\\local\\anaconda3\\envs\\redes_neurais\\lib\\site-packages (from requests<3,>=2.21.0->tensorboard<2.14,>=2.13->tensorflow-intel==2.13.0->tensorflow) (3.4)\n",
      "Requirement already satisfied: urllib3<3,>=1.21.1 in c:\\users\\ealbvit\\appdata\\local\\anaconda3\\envs\\redes_neurais\\lib\\site-packages (from requests<3,>=2.21.0->tensorboard<2.14,>=2.13->tensorflow-intel==2.13.0->tensorflow) (1.26.16)\n",
      "Requirement already satisfied: certifi>=2017.4.17 in c:\\users\\ealbvit\\appdata\\local\\anaconda3\\envs\\redes_neurais\\lib\\site-packages (from requests<3,>=2.21.0->tensorboard<2.14,>=2.13->tensorflow-intel==2.13.0->tensorflow) (2023.7.22)\n",
      "Requirement already satisfied: pyasn1<0.6.0,>=0.4.6 in c:\\users\\ealbvit\\appdata\\local\\anaconda3\\envs\\redes_neurais\\lib\\site-packages (from pyasn1-modules>=0.2.1->google-auth<3,>=1.6.3->tensorboard<2.14,>=2.13->tensorflow-intel==2.13.0->tensorflow) (0.5.0)\n",
      "Requirement already satisfied: oauthlib>=3.0.0 in c:\\users\\ealbvit\\appdata\\local\\anaconda3\\envs\\redes_neurais\\lib\\site-packages (from requests-oauthlib>=0.7.0->google-auth-oauthlib<1.1,>=0.5->tensorboard<2.14,>=2.13->tensorflow-intel==2.13.0->tensorflow) (3.2.2)\n"
     ]
    },
    {
     "name": "stderr",
     "output_type": "stream",
     "text": [
      "WARNING: Ignoring invalid distribution -rotobuf (c:\\users\\ealbvit\\appdata\\local\\anaconda3\\envs\\redes_neurais\\lib\\site-packages)\n",
      "WARNING: Ignoring invalid distribution -rotobuf (c:\\users\\ealbvit\\appdata\\local\\anaconda3\\envs\\redes_neurais\\lib\\site-packages)\n"
     ]
    },
    {
     "data": {
      "text/plain": [
       "((50000, 32, 32, 3), (10000, 32, 32, 3), (50000, 10), (10000, 10))"
      ]
     },
     "execution_count": 1,
     "metadata": {},
     "output_type": "execute_result"
    }
   ],
   "source": [
    "!pip install tensorflow optuna matplotlib scikit-learn\n",
    "\n",
    "import tensorflow as tf\n",
    "from tensorflow.keras.datasets import cifar10\n",
    "from tensorflow.keras.utils import to_categorical\n",
    "\n",
    "# Carregar o dataset CIFAR-10\n",
    "(x_train, y_train), (x_test, y_test) = cifar10.load_data()\n",
    "\n",
    "# Normalização dos dados de imagem\n",
    "x_train = x_train.astype('float32') / 255.0\n",
    "x_test = x_test.astype('float32') / 255.0\n",
    "\n",
    "# Codificação one-hot para as etiquetas de classe\n",
    "y_train = to_categorical(y_train, 10)\n",
    "y_test = to_categorical(y_test, 10)\n",
    "\n",
    "# Verificar as dimensões dos dados\n",
    "x_train.shape, x_test.shape, y_train.shape, y_test.shape\n"
   ]
  },
  {
   "cell_type": "code",
   "execution_count": 2,
   "id": "aab53e25",
   "metadata": {},
   "outputs": [
    {
     "name": "stdout",
     "output_type": "stream",
     "text": [
      "(50000, 32, 32, 3) (10000, 32, 32, 3) (50000, 10) (10000, 10)\n"
     ]
    }
   ],
   "source": [
    "import tensorflow as tf\n",
    "from tensorflow.keras.datasets import cifar10\n",
    "from tensorflow.keras.utils import to_categorical\n",
    "\n",
    "# Carregar o dataset CIFAR-10\n",
    "(x_train, y_train), (x_test, y_test) = cifar10.load_data()\n",
    "\n",
    "# Normalização dos dados de imagem\n",
    "x_train = x_train.astype('float32') / 255.0\n",
    "x_test = x_test.astype('float32') / 255.0\n",
    "\n",
    "# Codificação one-hot para as etiquetas de classe\n",
    "y_train = to_categorical(y_train, 10)\n",
    "y_test = to_categorical(y_test, 10)\n",
    "\n",
    "# Verificar as dimensões dos dados\n",
    "print(x_train.shape, x_test.shape, y_train.shape, y_test.shape)\n"
   ]
  },
  {
   "cell_type": "markdown",
   "id": "062b75bc",
   "metadata": {},
   "source": [
    "#  Definir a Estrutura da CNN"
   ]
  },
  {
   "cell_type": "code",
   "execution_count": 3,
   "id": "f3a009cf",
   "metadata": {},
   "outputs": [],
   "source": [
    "from tensorflow.keras.models import Sequential\n",
    "from tensorflow.keras.layers import Conv2D, MaxPooling2D, Flatten, Dense, Dropout\n",
    "\n",
    "def create_cnn_model(n_layers, n_filters, kernel_size, dropout_rate, optimizer):\n",
    "    model = Sequential()\n",
    "    model.add(Conv2D(n_filters, kernel_size, activation='relu', input_shape=(32, 32, 3)))\n",
    "    \n",
    "    for _ in range(n_layers - 1):\n",
    "        model.add(Conv2D(n_filters, kernel_size, activation='relu'))\n",
    "        model.add(MaxPooling2D(pool_size=(2, 2)))\n",
    "        model.add(Dropout(dropout_rate))\n",
    "\n",
    "    model.add(Flatten())\n",
    "    model.add(Dense(64, activation='relu'))\n",
    "    model.add(Dropout(dropout_rate))\n",
    "    model.add(Dense(10, activation='softmax'))\n",
    "\n",
    "    model.compile(optimizer=optimizer, loss='categorical_crossentropy', metrics=['accuracy'])\n",
    "    return model\n"
   ]
  },
  {
   "cell_type": "markdown",
   "id": "623b18ed",
   "metadata": {},
   "source": [
    "# Configuração do Optuna para Otimização de Hiperparâmetros"
   ]
  },
  {
   "cell_type": "code",
   "execution_count": null,
   "id": "db04499e",
   "metadata": {},
   "outputs": [
    {
     "name": "stderr",
     "output_type": "stream",
     "text": [
      "[I 2023-12-14 19:40:48,506] A new study created in memory with name: no-name-03e4d5a7-b632-496d-bae8-d1535ca2002e\n"
     ]
    },
    {
     "name": "stdout",
     "output_type": "stream",
     "text": [
      "A new study created in memory with name: no-name-03e4d5a7-b632-496d-bae8-d1535ca2002e\n"
     ]
    },
    {
     "name": "stderr",
     "output_type": "stream",
     "text": [
      "C:\\Users\\ealbvit\\AppData\\Local\\anaconda3\\envs\\redes_neurais\\lib\\site-packages\\optuna\\distributions.py:524: UserWarning: Choices for a categorical distribution should be a tuple of None, bool, int, float and str for persistent storage but contains (3, 3) which is of type tuple.\n",
      "  warnings.warn(message)\n",
      "C:\\Users\\ealbvit\\AppData\\Local\\Temp\\ipykernel_10912\\557870599.py:15: FutureWarning: suggest_uniform has been deprecated in v3.0.0. This feature will be removed in v6.0.0. See https://github.com/optuna/optuna/releases/tag/v3.0.0. Use suggest_float instead.\n",
      "  dropout_rate = trial.suggest_uniform('dropout_rate', 0.1, 0.5)\n",
      "C:\\Users\\ealbvit\\AppData\\Local\\anaconda3\\envs\\redes_neurais\\lib\\site-packages\\optuna\\distributions.py:524: UserWarning: Choices for a categorical distribution should be a tuple of None, bool, int, float and str for persistent storage but contains (5, 5) which is of type tuple.\n",
      "  warnings.warn(message)\n",
      "[I 2023-12-14 22:47:51,159] Trial 1 finished with value: 0.5892000198364258 and parameters: {'n_layers': 1, 'n_filters': 32, 'kernel_size': (5, 5), 'dropout_rate': 0.20896273062473109, 'optimizer': 'sgd'}. Best is trial 1 with value: 0.5892000198364258.\n"
     ]
    },
    {
     "name": "stdout",
     "output_type": "stream",
     "text": [
      "Trial 1 finished with value: 0.5892000198364258 and parameters: {'n_layers': 1, 'n_filters': 32, 'kernel_size': (5, 5), 'dropout_rate': 0.20896273062473109, 'optimizer': 'sgd'}. Best is trial 1 with value: 0.5892000198364258.\n",
      "Trial 1 finished with value: 0.5892000198364258 and parameters: {'n_layers': 1, 'n_filters': 32, 'kernel_size': (5, 5), 'dropout_rate': 0.20896273062473109, 'optimizer': 'sgd'}.\n",
      "Best trial so far: Trial 1 with value: 0.5892000198364258.\n"
     ]
    },
    {
     "name": "stderr",
     "output_type": "stream",
     "text": [
      "[I 2023-12-14 23:47:22,199] Trial 10 finished with value: 0.545199990272522 and parameters: {'n_layers': 1, 'n_filters': 64, 'kernel_size': (3, 3), 'dropout_rate': 0.2883688253126353, 'optimizer': 'adam'}. Best is trial 1 with value: 0.5892000198364258.\n"
     ]
    },
    {
     "name": "stdout",
     "output_type": "stream",
     "text": [
      "Trial 10 finished with value: 0.545199990272522 and parameters: {'n_layers': 1, 'n_filters': 64, 'kernel_size': (3, 3), 'dropout_rate': 0.2883688253126353, 'optimizer': 'adam'}. Best is trial 1 with value: 0.5892000198364258.\n",
      "Trial 10 finished with value: 0.545199990272522 and parameters: {'n_layers': 1, 'n_filters': 64, 'kernel_size': (3, 3), 'dropout_rate': 0.2883688253126353, 'optimizer': 'adam'}.\n",
      "Best trial so far: Trial 1 with value: 0.5892000198364258.\n"
     ]
    },
    {
     "name": "stderr",
     "output_type": "stream",
     "text": [
      "[I 2023-12-14 23:47:49,903] Trial 4 finished with value: 0.5823000073432922 and parameters: {'n_layers': 1, 'n_filters': 64, 'kernel_size': (3, 3), 'dropout_rate': 0.18593113688224078, 'optimizer': 'adam'}. Best is trial 1 with value: 0.5892000198364258.\n"
     ]
    },
    {
     "name": "stdout",
     "output_type": "stream",
     "text": [
      "Trial 4 finished with value: 0.5823000073432922 and parameters: {'n_layers': 1, 'n_filters': 64, 'kernel_size': (3, 3), 'dropout_rate': 0.18593113688224078, 'optimizer': 'adam'}. Best is trial 1 with value: 0.5892000198364258.\n",
      "Trial 4 finished with value: 0.5823000073432922 and parameters: {'n_layers': 1, 'n_filters': 64, 'kernel_size': (3, 3), 'dropout_rate': 0.18593113688224078, 'optimizer': 'adam'}.\n",
      "Best trial so far: Trial 1 with value: 0.5892000198364258.\n"
     ]
    },
    {
     "name": "stderr",
     "output_type": "stream",
     "text": [
      "[I 2023-12-15 00:44:24,211] Trial 6 finished with value: 0.6840000152587891 and parameters: {'n_layers': 2, 'n_filters': 32, 'kernel_size': (3, 3), 'dropout_rate': 0.27323920366831034, 'optimizer': 'sgd'}. Best is trial 6 with value: 0.6840000152587891.\n"
     ]
    },
    {
     "name": "stdout",
     "output_type": "stream",
     "text": [
      "Trial 6 finished with value: 0.6840000152587891 and parameters: {'n_layers': 2, 'n_filters': 32, 'kernel_size': (3, 3), 'dropout_rate': 0.27323920366831034, 'optimizer': 'sgd'}. Best is trial 6 with value: 0.6840000152587891.\n",
      "Trial 6 finished with value: 0.6840000152587891 and parameters: {'n_layers': 2, 'n_filters': 32, 'kernel_size': (3, 3), 'dropout_rate': 0.27323920366831034, 'optimizer': 'sgd'}.\n",
      "Best trial so far: Trial 6 with value: 0.6840000152587891.\n"
     ]
    },
    {
     "name": "stderr",
     "output_type": "stream",
     "text": [
      "[I 2023-12-15 01:34:17,189] Trial 9 finished with value: 0.6796000003814697 and parameters: {'n_layers': 3, 'n_filters': 32, 'kernel_size': (3, 3), 'dropout_rate': 0.2199948357430626, 'optimizer': 'sgd'}. Best is trial 6 with value: 0.6840000152587891.\n"
     ]
    },
    {
     "name": "stdout",
     "output_type": "stream",
     "text": [
      "Trial 9 finished with value: 0.6796000003814697 and parameters: {'n_layers': 3, 'n_filters': 32, 'kernel_size': (3, 3), 'dropout_rate': 0.2199948357430626, 'optimizer': 'sgd'}. Best is trial 6 with value: 0.6840000152587891.\n",
      "Trial 9 finished with value: 0.6796000003814697 and parameters: {'n_layers': 3, 'n_filters': 32, 'kernel_size': (3, 3), 'dropout_rate': 0.2199948357430626, 'optimizer': 'sgd'}.\n",
      "Best trial so far: Trial 6 with value: 0.6840000152587891.\n"
     ]
    },
    {
     "name": "stderr",
     "output_type": "stream",
     "text": [
      "[I 2023-12-15 02:08:40,936] Trial 11 finished with value: 0.6690000295639038 and parameters: {'n_layers': 2, 'n_filters': 32, 'kernel_size': (5, 5), 'dropout_rate': 0.3878278033386251, 'optimizer': 'sgd'}. Best is trial 6 with value: 0.6840000152587891.\n"
     ]
    },
    {
     "name": "stdout",
     "output_type": "stream",
     "text": [
      "Trial 11 finished with value: 0.6690000295639038 and parameters: {'n_layers': 2, 'n_filters': 32, 'kernel_size': (5, 5), 'dropout_rate': 0.3878278033386251, 'optimizer': 'sgd'}. Best is trial 6 with value: 0.6840000152587891.\n",
      "Trial 11 finished with value: 0.6690000295639038 and parameters: {'n_layers': 2, 'n_filters': 32, 'kernel_size': (5, 5), 'dropout_rate': 0.3878278033386251, 'optimizer': 'sgd'}.\n",
      "Best trial so far: Trial 6 with value: 0.6840000152587891.\n"
     ]
    },
    {
     "name": "stderr",
     "output_type": "stream",
     "text": [
      "[I 2023-12-15 02:09:32,802] Trial 7 finished with value: 0.6608999967575073 and parameters: {'n_layers': 2, 'n_filters': 32, 'kernel_size': (5, 5), 'dropout_rate': 0.3240684039319607, 'optimizer': 'sgd'}. Best is trial 6 with value: 0.6840000152587891.\n"
     ]
    },
    {
     "name": "stdout",
     "output_type": "stream",
     "text": [
      "Trial 7 finished with value: 0.6608999967575073 and parameters: {'n_layers': 2, 'n_filters': 32, 'kernel_size': (5, 5), 'dropout_rate': 0.3240684039319607, 'optimizer': 'sgd'}. Best is trial 6 with value: 0.6840000152587891.\n",
      "Trial 7 finished with value: 0.6608999967575073 and parameters: {'n_layers': 2, 'n_filters': 32, 'kernel_size': (5, 5), 'dropout_rate': 0.3240684039319607, 'optimizer': 'sgd'}.\n",
      "Best trial so far: Trial 6 with value: 0.6840000152587891.\n"
     ]
    },
    {
     "name": "stderr",
     "output_type": "stream",
     "text": [
      "[I 2023-12-15 06:04:34,092] Trial 15 finished with value: 0.6499000191688538 and parameters: {'n_layers': 2, 'n_filters': 32, 'kernel_size': (3, 3), 'dropout_rate': 0.10227188384030228, 'optimizer': 'adam'}. Best is trial 6 with value: 0.6840000152587891.\n"
     ]
    },
    {
     "name": "stdout",
     "output_type": "stream",
     "text": [
      "Trial 15 finished with value: 0.6499000191688538 and parameters: {'n_layers': 2, 'n_filters': 32, 'kernel_size': (3, 3), 'dropout_rate': 0.10227188384030228, 'optimizer': 'adam'}. Best is trial 6 with value: 0.6840000152587891.\n",
      "Trial 15 finished with value: 0.6499000191688538 and parameters: {'n_layers': 2, 'n_filters': 32, 'kernel_size': (3, 3), 'dropout_rate': 0.10227188384030228, 'optimizer': 'adam'}.\n",
      "Best trial so far: Trial 6 with value: 0.6840000152587891.\n"
     ]
    }
   ],
   "source": [
    "import optuna\n",
    "import os\n",
    "import logging\n",
    "import sys\n",
    "\n",
    "# Definir uma função de callback para exibir informações de progresso\n",
    "def print_progress(study, trial):\n",
    "    print(f\"Trial {trial.number} finished with value: {trial.value} and parameters: {trial.params}.\")\n",
    "    print(f\"Best trial so far: Trial {study.best_trial.number} with value: {study.best_trial.value}.\")\n",
    "\n",
    "def objective(trial):\n",
    "    n_layers = trial.suggest_int('n_layers', 1, 3)\n",
    "    n_filters = trial.suggest_categorical('n_filters', [32, 64, 128])\n",
    "    kernel_size = trial.suggest_categorical('kernel_size', [(3, 3), (5, 5)])\n",
    "    dropout_rate = trial.suggest_uniform('dropout_rate', 0.1, 0.5)\n",
    "    optimizer = trial.suggest_categorical('optimizer', ['adam', 'sgd'])\n",
    "\n",
    "    model = create_cnn_model(n_layers, n_filters, kernel_size, dropout_rate, optimizer)\n",
    "    model.fit(x_train, y_train, validation_split=0.1, epochs=25, verbose=0)\n",
    "    \n",
    "    loss, accuracy = model.evaluate(x_test, y_test, verbose=0)\n",
    "    return accuracy\n",
    "\n",
    "# Configurar o logging\n",
    "optuna.logging.get_logger(\"optuna\").addHandler(logging.StreamHandler(sys.stdout))\n",
    "optuna.logging.set_verbosity(optuna.logging.INFO)\n",
    "\n",
    "# Definir o número máximo de threads\n",
    "max_threads = os.cpu_count()\n",
    "\n",
    "# Criar e executar o estudo do Optuna\n",
    "study = optuna.create_study(direction='maximize')\n",
    "study.optimize(objective, n_trials=16, n_jobs=max_threads, callbacks=[print_progress])\n"
   ]
  },
  {
   "cell_type": "markdown",
   "id": "abb2c935",
   "metadata": {},
   "source": [
    "# Análise dos Resultados do Optuna"
   ]
  },
  {
   "cell_type": "code",
   "execution_count": null,
   "id": "3f92d78c",
   "metadata": {},
   "outputs": [],
   "source": [
    "from optuna.visualization import plot_slice, plot_contour, plot_parallel_coordinate, plot_param_importances\n",
    "from IPython.display import display\n",
    "\n",
    "# Slice Plot\n",
    "display(plot_slice(study))\n",
    "\n",
    "# Contour Plot\n",
    "display(plot_contour(study))\n",
    "\n",
    "# Parallel Coordinate Plot\n",
    "display(plot_parallel_coordinate(study))\n",
    "\n",
    "# Importance Plot\n",
    "display(plot_param_importances(study))\n"
   ]
  },
  {
   "cell_type": "markdown",
   "id": "52f51a2a",
   "metadata": {},
   "source": [
    "Ficou evidente que o numero de layers é o hiperparametro mais relevante. Como o maximo no meu estudo ainda nao parece ser o melhor, faremos agora novos estudos com os melhores hiperparametros obtidos e iremos variar apenas o n_layers"
   ]
  },
  {
   "cell_type": "code",
   "execution_count": null,
   "id": "be2559d7",
   "metadata": {},
   "outputs": [],
   "source": []
  }
 ],
 "metadata": {
  "kernelspec": {
   "display_name": "Python 3 (ipykernel)",
   "language": "python",
   "name": "python3"
  },
  "language_info": {
   "codemirror_mode": {
    "name": "ipython",
    "version": 3
   },
   "file_extension": ".py",
   "mimetype": "text/x-python",
   "name": "python",
   "nbconvert_exporter": "python",
   "pygments_lexer": "ipython3",
   "version": "3.8.18"
  }
 },
 "nbformat": 4,
 "nbformat_minor": 5
}
