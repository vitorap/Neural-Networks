{
 "cells": [
  {
   "cell_type": "code",
   "execution_count": 6,
   "id": "32361c3f",
   "metadata": {},
   "outputs": [
    {
     "name": "stderr",
     "output_type": "stream",
     "text": [
      "WARNING: Ignoring invalid distribution -rotobuf (c:\\users\\ealbvit\\appdata\\local\\anaconda3\\envs\\redes_neurais\\lib\\site-packages)\n",
      "WARNING: Ignoring invalid distribution -rotobuf (c:\\users\\ealbvit\\appdata\\local\\anaconda3\\envs\\redes_neurais\\lib\\site-packages)\n"
     ]
    },
    {
     "name": "stdout",
     "output_type": "stream",
     "text": [
      "Requirement already satisfied: tensorflow in c:\\users\\ealbvit\\appdata\\local\\anaconda3\\envs\\redes_neurais\\lib\\site-packages (2.13.0)\n",
      "Requirement already satisfied: optuna in c:\\users\\ealbvit\\appdata\\local\\anaconda3\\envs\\redes_neurais\\lib\\site-packages (3.4.0)\n",
      "Requirement already satisfied: matplotlib in c:\\users\\ealbvit\\appdata\\local\\anaconda3\\envs\\redes_neurais\\lib\\site-packages (3.7.2)\n",
      "Requirement already satisfied: scikit-learn in c:\\users\\ealbvit\\appdata\\local\\anaconda3\\envs\\redes_neurais\\lib\\site-packages (1.3.0)\n",
      "Requirement already satisfied: tensorflow-intel==2.13.0 in c:\\users\\ealbvit\\appdata\\local\\anaconda3\\envs\\redes_neurais\\lib\\site-packages (from tensorflow) (2.13.0)\n",
      "Requirement already satisfied: absl-py>=1.0.0 in c:\\users\\ealbvit\\appdata\\local\\anaconda3\\envs\\redes_neurais\\lib\\site-packages (from tensorflow-intel==2.13.0->tensorflow) (1.4.0)\n",
      "Requirement already satisfied: astunparse>=1.6.0 in c:\\users\\ealbvit\\appdata\\local\\anaconda3\\envs\\redes_neurais\\lib\\site-packages (from tensorflow-intel==2.13.0->tensorflow) (1.6.3)\n",
      "Requirement already satisfied: flatbuffers>=23.1.21 in c:\\users\\ealbvit\\appdata\\local\\anaconda3\\envs\\redes_neurais\\lib\\site-packages (from tensorflow-intel==2.13.0->tensorflow) (23.5.26)\n",
      "Requirement already satisfied: gast<=0.4.0,>=0.2.1 in c:\\users\\ealbvit\\appdata\\local\\anaconda3\\envs\\redes_neurais\\lib\\site-packages (from tensorflow-intel==2.13.0->tensorflow) (0.4.0)\n",
      "Requirement already satisfied: google-pasta>=0.1.1 in c:\\users\\ealbvit\\appdata\\local\\anaconda3\\envs\\redes_neurais\\lib\\site-packages (from tensorflow-intel==2.13.0->tensorflow) (0.2.0)\n",
      "Requirement already satisfied: h5py>=2.9.0 in c:\\users\\ealbvit\\appdata\\local\\anaconda3\\envs\\redes_neurais\\lib\\site-packages (from tensorflow-intel==2.13.0->tensorflow) (3.9.0)\n",
      "Requirement already satisfied: libclang>=13.0.0 in c:\\users\\ealbvit\\appdata\\local\\anaconda3\\envs\\redes_neurais\\lib\\site-packages (from tensorflow-intel==2.13.0->tensorflow) (16.0.6)\n",
      "Requirement already satisfied: numpy<=1.24.3,>=1.22 in c:\\users\\ealbvit\\appdata\\local\\anaconda3\\envs\\redes_neurais\\lib\\site-packages (from tensorflow-intel==2.13.0->tensorflow) (1.24.3)\n",
      "Requirement already satisfied: opt-einsum>=2.3.2 in c:\\users\\ealbvit\\appdata\\local\\anaconda3\\envs\\redes_neurais\\lib\\site-packages (from tensorflow-intel==2.13.0->tensorflow) (3.3.0)\n",
      "Requirement already satisfied: packaging in c:\\users\\ealbvit\\appdata\\local\\anaconda3\\envs\\redes_neurais\\lib\\site-packages (from tensorflow-intel==2.13.0->tensorflow) (23.1)\n",
      "Requirement already satisfied: protobuf!=4.21.0,!=4.21.1,!=4.21.2,!=4.21.3,!=4.21.4,!=4.21.5,<5.0.0dev,>=3.20.3 in c:\\users\\ealbvit\\appdata\\local\\anaconda3\\envs\\redes_neurais\\lib\\site-packages (from tensorflow-intel==2.13.0->tensorflow) (3.20.3)\n",
      "Requirement already satisfied: setuptools in c:\\users\\ealbvit\\appdata\\local\\anaconda3\\envs\\redes_neurais\\lib\\site-packages (from tensorflow-intel==2.13.0->tensorflow) (68.0.0)\n",
      "Requirement already satisfied: six>=1.12.0 in c:\\users\\ealbvit\\appdata\\local\\anaconda3\\envs\\redes_neurais\\lib\\site-packages (from tensorflow-intel==2.13.0->tensorflow) (1.16.0)\n",
      "Requirement already satisfied: termcolor>=1.1.0 in c:\\users\\ealbvit\\appdata\\local\\anaconda3\\envs\\redes_neurais\\lib\\site-packages (from tensorflow-intel==2.13.0->tensorflow) (2.3.0)\n",
      "Requirement already satisfied: typing-extensions<4.6.0,>=3.6.6 in c:\\users\\ealbvit\\appdata\\local\\anaconda3\\envs\\redes_neurais\\lib\\site-packages (from tensorflow-intel==2.13.0->tensorflow) (4.5.0)\n",
      "Requirement already satisfied: wrapt>=1.11.0 in c:\\users\\ealbvit\\appdata\\local\\anaconda3\\envs\\redes_neurais\\lib\\site-packages (from tensorflow-intel==2.13.0->tensorflow) (1.15.0)\n",
      "Requirement already satisfied: grpcio<2.0,>=1.24.3 in c:\\users\\ealbvit\\appdata\\local\\anaconda3\\envs\\redes_neurais\\lib\\site-packages (from tensorflow-intel==2.13.0->tensorflow) (1.59.0)\n",
      "Requirement already satisfied: tensorboard<2.14,>=2.13 in c:\\users\\ealbvit\\appdata\\local\\anaconda3\\envs\\redes_neurais\\lib\\site-packages (from tensorflow-intel==2.13.0->tensorflow) (2.13.0)\n",
      "Requirement already satisfied: tensorflow-estimator<2.14,>=2.13.0 in c:\\users\\ealbvit\\appdata\\local\\anaconda3\\envs\\redes_neurais\\lib\\site-packages (from tensorflow-intel==2.13.0->tensorflow) (2.13.0)\n",
      "Requirement already satisfied: keras<2.14,>=2.13.1 in c:\\users\\ealbvit\\appdata\\local\\anaconda3\\envs\\redes_neurais\\lib\\site-packages (from tensorflow-intel==2.13.0->tensorflow) (2.13.1)\n",
      "Requirement already satisfied: tensorflow-io-gcs-filesystem>=0.23.1 in c:\\users\\ealbvit\\appdata\\local\\anaconda3\\envs\\redes_neurais\\lib\\site-packages (from tensorflow-intel==2.13.0->tensorflow) (0.31.0)\n",
      "Requirement already satisfied: alembic>=1.5.0 in c:\\users\\ealbvit\\appdata\\local\\anaconda3\\envs\\redes_neurais\\lib\\site-packages (from optuna) (1.12.1)\n",
      "Requirement already satisfied: colorlog in c:\\users\\ealbvit\\appdata\\local\\anaconda3\\envs\\redes_neurais\\lib\\site-packages (from optuna) (6.7.0)\n",
      "Requirement already satisfied: sqlalchemy>=1.3.0 in c:\\users\\ealbvit\\appdata\\local\\anaconda3\\envs\\redes_neurais\\lib\\site-packages (from optuna) (2.0.23)\n",
      "Requirement already satisfied: tqdm in c:\\users\\ealbvit\\appdata\\local\\anaconda3\\envs\\redes_neurais\\lib\\site-packages (from optuna) (4.66.1)\n",
      "Requirement already satisfied: PyYAML in c:\\users\\ealbvit\\appdata\\local\\anaconda3\\envs\\redes_neurais\\lib\\site-packages (from optuna) (6.0.1)\n",
      "Requirement already satisfied: contourpy>=1.0.1 in c:\\users\\ealbvit\\appdata\\local\\anaconda3\\envs\\redes_neurais\\lib\\site-packages (from matplotlib) (1.0.5)\n",
      "Requirement already satisfied: cycler>=0.10 in c:\\users\\ealbvit\\appdata\\local\\anaconda3\\envs\\redes_neurais\\lib\\site-packages (from matplotlib) (0.11.0)\n",
      "Requirement already satisfied: fonttools>=4.22.0 in c:\\users\\ealbvit\\appdata\\local\\anaconda3\\envs\\redes_neurais\\lib\\site-packages (from matplotlib) (4.25.0)\n",
      "Requirement already satisfied: kiwisolver>=1.0.1 in c:\\users\\ealbvit\\appdata\\local\\anaconda3\\envs\\redes_neurais\\lib\\site-packages (from matplotlib) (1.4.4)\n",
      "Requirement already satisfied: pillow>=6.2.0 in c:\\users\\ealbvit\\appdata\\local\\anaconda3\\envs\\redes_neurais\\lib\\site-packages (from matplotlib) (9.4.0)\n",
      "Requirement already satisfied: pyparsing<3.1,>=2.3.1 in c:\\users\\ealbvit\\appdata\\local\\anaconda3\\envs\\redes_neurais\\lib\\site-packages (from matplotlib) (3.0.9)\n",
      "Requirement already satisfied: python-dateutil>=2.7 in c:\\users\\ealbvit\\appdata\\local\\anaconda3\\envs\\redes_neurais\\lib\\site-packages (from matplotlib) (2.8.2)\n",
      "Requirement already satisfied: importlib-resources>=3.2.0 in c:\\users\\ealbvit\\appdata\\local\\anaconda3\\envs\\redes_neurais\\lib\\site-packages (from matplotlib) (5.2.0)\n",
      "Requirement already satisfied: scipy>=1.5.0 in c:\\users\\ealbvit\\appdata\\local\\anaconda3\\envs\\redes_neurais\\lib\\site-packages (from scikit-learn) (1.10.1)\n",
      "Requirement already satisfied: joblib>=1.1.1 in c:\\users\\ealbvit\\appdata\\local\\anaconda3\\envs\\redes_neurais\\lib\\site-packages (from scikit-learn) (1.2.0)\n",
      "Requirement already satisfied: threadpoolctl>=2.0.0 in c:\\users\\ealbvit\\appdata\\local\\anaconda3\\envs\\redes_neurais\\lib\\site-packages (from scikit-learn) (2.2.0)\n",
      "Requirement already satisfied: Mako in c:\\users\\ealbvit\\appdata\\local\\anaconda3\\envs\\redes_neurais\\lib\\site-packages (from alembic>=1.5.0->optuna) (1.3.0)\n",
      "Requirement already satisfied: importlib-metadata in c:\\users\\ealbvit\\appdata\\local\\anaconda3\\envs\\redes_neurais\\lib\\site-packages (from alembic>=1.5.0->optuna) (6.8.0)\n",
      "Requirement already satisfied: zipp>=3.1.0 in c:\\users\\ealbvit\\appdata\\local\\anaconda3\\envs\\redes_neurais\\lib\\site-packages (from importlib-resources>=3.2.0->matplotlib) (3.11.0)\n",
      "Requirement already satisfied: greenlet!=0.4.17 in c:\\users\\ealbvit\\appdata\\local\\anaconda3\\envs\\redes_neurais\\lib\\site-packages (from sqlalchemy>=1.3.0->optuna) (3.0.1)\n",
      "Requirement already satisfied: colorama in c:\\users\\ealbvit\\appdata\\local\\anaconda3\\envs\\redes_neurais\\lib\\site-packages (from colorlog->optuna) (0.4.6)\n",
      "Requirement already satisfied: wheel<1.0,>=0.23.0 in c:\\users\\ealbvit\\appdata\\local\\anaconda3\\envs\\redes_neurais\\lib\\site-packages (from astunparse>=1.6.0->tensorflow-intel==2.13.0->tensorflow) (0.41.2)\n",
      "Requirement already satisfied: google-auth<3,>=1.6.3 in c:\\users\\ealbvit\\appdata\\local\\anaconda3\\envs\\redes_neurais\\lib\\site-packages (from tensorboard<2.14,>=2.13->tensorflow-intel==2.13.0->tensorflow) (2.23.2)\n",
      "Requirement already satisfied: google-auth-oauthlib<1.1,>=0.5 in c:\\users\\ealbvit\\appdata\\local\\anaconda3\\envs\\redes_neurais\\lib\\site-packages (from tensorboard<2.14,>=2.13->tensorflow-intel==2.13.0->tensorflow) (1.0.0)\n",
      "Requirement already satisfied: markdown>=2.6.8 in c:\\users\\ealbvit\\appdata\\local\\anaconda3\\envs\\redes_neurais\\lib\\site-packages (from tensorboard<2.14,>=2.13->tensorflow-intel==2.13.0->tensorflow) (3.4.4)\n",
      "Requirement already satisfied: requests<3,>=2.21.0 in c:\\users\\ealbvit\\appdata\\local\\anaconda3\\envs\\redes_neurais\\lib\\site-packages (from tensorboard<2.14,>=2.13->tensorflow-intel==2.13.0->tensorflow) (2.31.0)\n",
      "Requirement already satisfied: tensorboard-data-server<0.8.0,>=0.7.0 in c:\\users\\ealbvit\\appdata\\local\\anaconda3\\envs\\redes_neurais\\lib\\site-packages (from tensorboard<2.14,>=2.13->tensorflow-intel==2.13.0->tensorflow) (0.7.1)\n",
      "Requirement already satisfied: werkzeug>=1.0.1 in c:\\users\\ealbvit\\appdata\\local\\anaconda3\\envs\\redes_neurais\\lib\\site-packages (from tensorboard<2.14,>=2.13->tensorflow-intel==2.13.0->tensorflow) (3.0.0)\n",
      "Requirement already satisfied: MarkupSafe>=0.9.2 in c:\\users\\ealbvit\\appdata\\local\\anaconda3\\envs\\redes_neurais\\lib\\site-packages (from Mako->alembic>=1.5.0->optuna) (2.1.1)\n",
      "Requirement already satisfied: cachetools<6.0,>=2.0.0 in c:\\users\\ealbvit\\appdata\\local\\anaconda3\\envs\\redes_neurais\\lib\\site-packages (from google-auth<3,>=1.6.3->tensorboard<2.14,>=2.13->tensorflow-intel==2.13.0->tensorflow) (5.3.1)\n",
      "Requirement already satisfied: pyasn1-modules>=0.2.1 in c:\\users\\ealbvit\\appdata\\local\\anaconda3\\envs\\redes_neurais\\lib\\site-packages (from google-auth<3,>=1.6.3->tensorboard<2.14,>=2.13->tensorflow-intel==2.13.0->tensorflow) (0.3.0)\n",
      "Requirement already satisfied: rsa<5,>=3.1.4 in c:\\users\\ealbvit\\appdata\\local\\anaconda3\\envs\\redes_neurais\\lib\\site-packages (from google-auth<3,>=1.6.3->tensorboard<2.14,>=2.13->tensorflow-intel==2.13.0->tensorflow) (4.9)\n",
      "Requirement already satisfied: requests-oauthlib>=0.7.0 in c:\\users\\ealbvit\\appdata\\local\\anaconda3\\envs\\redes_neurais\\lib\\site-packages (from google-auth-oauthlib<1.1,>=0.5->tensorboard<2.14,>=2.13->tensorflow-intel==2.13.0->tensorflow) (1.3.1)\n",
      "Requirement already satisfied: charset-normalizer<4,>=2 in c:\\users\\ealbvit\\appdata\\local\\anaconda3\\envs\\redes_neurais\\lib\\site-packages (from requests<3,>=2.21.0->tensorboard<2.14,>=2.13->tensorflow-intel==2.13.0->tensorflow) (2.0.4)\n",
      "Requirement already satisfied: idna<4,>=2.5 in c:\\users\\ealbvit\\appdata\\local\\anaconda3\\envs\\redes_neurais\\lib\\site-packages (from requests<3,>=2.21.0->tensorboard<2.14,>=2.13->tensorflow-intel==2.13.0->tensorflow) (3.4)\n",
      "Requirement already satisfied: urllib3<3,>=1.21.1 in c:\\users\\ealbvit\\appdata\\local\\anaconda3\\envs\\redes_neurais\\lib\\site-packages (from requests<3,>=2.21.0->tensorboard<2.14,>=2.13->tensorflow-intel==2.13.0->tensorflow) (1.26.16)\n",
      "Requirement already satisfied: certifi>=2017.4.17 in c:\\users\\ealbvit\\appdata\\local\\anaconda3\\envs\\redes_neurais\\lib\\site-packages (from requests<3,>=2.21.0->tensorboard<2.14,>=2.13->tensorflow-intel==2.13.0->tensorflow) (2023.7.22)\n",
      "Requirement already satisfied: pyasn1<0.6.0,>=0.4.6 in c:\\users\\ealbvit\\appdata\\local\\anaconda3\\envs\\redes_neurais\\lib\\site-packages (from pyasn1-modules>=0.2.1->google-auth<3,>=1.6.3->tensorboard<2.14,>=2.13->tensorflow-intel==2.13.0->tensorflow) (0.5.0)\n",
      "Requirement already satisfied: oauthlib>=3.0.0 in c:\\users\\ealbvit\\appdata\\local\\anaconda3\\envs\\redes_neurais\\lib\\site-packages (from requests-oauthlib>=0.7.0->google-auth-oauthlib<1.1,>=0.5->tensorboard<2.14,>=2.13->tensorflow-intel==2.13.0->tensorflow) (3.2.2)\n"
     ]
    },
    {
     "data": {
      "text/plain": [
       "((50000, 32, 32, 3), (10000, 32, 32, 3), (50000, 10), (10000, 10))"
      ]
     },
     "execution_count": 6,
     "metadata": {},
     "output_type": "execute_result"
    }
   ],
   "source": [
    "!pip install tensorflow optuna matplotlib scikit-learn\n",
    "\n",
    "import tensorflow as tf\n",
    "from tensorflow.keras.datasets import cifar10\n",
    "from tensorflow.keras.utils import to_categorical\n",
    "\n",
    "# Carregar o dataset CIFAR-10\n",
    "(x_train, y_train), (x_test, y_test) = cifar10.load_data()\n",
    "\n",
    "# Normalização dos dados de imagem\n",
    "x_train = x_train.astype('float32') / 255.0\n",
    "x_test = x_test.astype('float32') / 255.0\n",
    "\n",
    "# Codificação one-hot para as etiquetas de classe\n",
    "y_train = to_categorical(y_train, 10)\n",
    "y_test = to_categorical(y_test, 10)\n",
    "\n",
    "# Verificar as dimensões dos dados\n",
    "x_train.shape, x_test.shape, y_train.shape, y_test.shape\n"
   ]
  },
  {
   "cell_type": "code",
   "execution_count": 7,
   "id": "aab53e25",
   "metadata": {},
   "outputs": [
    {
     "name": "stdout",
     "output_type": "stream",
     "text": [
      "(50000, 32, 32, 3) (10000, 32, 32, 3) (50000, 10) (10000, 10)\n"
     ]
    }
   ],
   "source": [
    "import tensorflow as tf\n",
    "from tensorflow.keras.datasets import cifar10\n",
    "from tensorflow.keras.utils import to_categorical\n",
    "\n",
    "# Carregar o dataset CIFAR-10\n",
    "(x_train, y_train), (x_test, y_test) = cifar10.load_data()\n",
    "\n",
    "# Normalização dos dados de imagem\n",
    "x_train = x_train.astype('float32') / 255.0\n",
    "x_test = x_test.astype('float32') / 255.0\n",
    "\n",
    "# Codificação one-hot para as etiquetas de classe\n",
    "y_train = to_categorical(y_train, 10)\n",
    "y_test = to_categorical(y_test, 10)\n",
    "\n",
    "# Verificar as dimensões dos dados\n",
    "print(x_train.shape, x_test.shape, y_train.shape, y_test.shape)\n"
   ]
  },
  {
   "cell_type": "markdown",
   "id": "062b75bc",
   "metadata": {},
   "source": [
    "#  Definir a Estrutura da CNN"
   ]
  },
  {
   "cell_type": "code",
   "execution_count": 9,
   "id": "f3a009cf",
   "metadata": {},
   "outputs": [],
   "source": [
    "from tensorflow.keras.models import Sequential\n",
    "from tensorflow.keras.layers import Conv2D, MaxPooling2D, Flatten, Dense, Dropout\n",
    "\n",
    "def create_cnn_model(n_layers, n_filters, kernel_size, dropout_rate, optimizer):\n",
    "    model = Sequential()\n",
    "    model.add(Conv2D(n_filters, kernel_size, activation='relu', input_shape=(32, 32, 3)))\n",
    "    \n",
    "    for _ in range(n_layers - 1):\n",
    "        model.add(Conv2D(n_filters, kernel_size, activation='relu'))\n",
    "        model.add(MaxPooling2D(pool_size=(2, 2)))\n",
    "        model.add(Dropout(dropout_rate))\n",
    "\n",
    "    model.add(Flatten())\n",
    "    model.add(Dense(64, activation='relu'))\n",
    "    model.add(Dropout(dropout_rate))\n",
    "    model.add(Dense(10, activation='softmax'))\n",
    "\n",
    "    model.compile(optimizer=optimizer, loss='categorical_crossentropy', metrics=['accuracy'])\n",
    "    return model\n"
   ]
  },
  {
   "cell_type": "markdown",
   "id": "623b18ed",
   "metadata": {},
   "source": [
    "# Configuração do Optuna para Otimização de Hiperparâmetros"
   ]
  },
  {
   "cell_type": "code",
   "execution_count": null,
   "id": "db04499e",
   "metadata": {},
   "outputs": [
    {
     "name": "stderr",
     "output_type": "stream",
     "text": [
      "[I 2023-12-16 19:00:12,536] A new study created in memory with name: no-name-a7657ce1-7c35-4e26-9f88-54424e609153\n"
     ]
    },
    {
     "name": "stdout",
     "output_type": "stream",
     "text": [
      "A new study created in memory with name: no-name-a7657ce1-7c35-4e26-9f88-54424e609153\n"
     ]
    },
    {
     "name": "stderr",
     "output_type": "stream",
     "text": [
      "C:\\Users\\ealbvit\\AppData\\Local\\Temp\\ipykernel_15316\\3697548424.py:15: FutureWarning: suggest_uniform has been deprecated in v3.0.0. This feature will be removed in v6.0.0. See https://github.com/optuna/optuna/releases/tag/v3.0.0. Use suggest_float instead.\n",
      "  dropout_rate = trial.suggest_uniform('dropout_rate', 0.1, 0.5)\n",
      "C:\\Users\\ealbvit\\AppData\\Local\\anaconda3\\envs\\redes_neurais\\lib\\site-packages\\optuna\\distributions.py:524: UserWarning: Choices for a categorical distribution should be a tuple of None, bool, int, float and str for persistent storage but contains (3, 3) which is of type tuple.\n",
      "  warnings.warn(message)\n",
      "C:\\Users\\ealbvit\\AppData\\Local\\anaconda3\\envs\\redes_neurais\\lib\\site-packages\\optuna\\distributions.py:524: UserWarning: Choices for a categorical distribution should be a tuple of None, bool, int, float and str for persistent storage but contains (5, 5) which is of type tuple.\n",
      "  warnings.warn(message)\n",
      "[I 2023-12-16 19:45:43,024] Trial 6 finished with value: 0.574999988079071 and parameters: {'n_layers': 1, 'n_filters': 64, 'kernel_size': (5, 5), 'dropout_rate': 0.27026550952370554, 'optimizer': 'sgd'}. Best is trial 6 with value: 0.574999988079071.\n"
     ]
    },
    {
     "name": "stdout",
     "output_type": "stream",
     "text": [
      "Trial 6 finished with value: 0.574999988079071 and parameters: {'n_layers': 1, 'n_filters': 64, 'kernel_size': (5, 5), 'dropout_rate': 0.27026550952370554, 'optimizer': 'sgd'}. Best is trial 6 with value: 0.574999988079071.\n",
      "Trial 6 finished with value: 0.574999988079071 and parameters: {'n_layers': 1, 'n_filters': 64, 'kernel_size': (5, 5), 'dropout_rate': 0.27026550952370554, 'optimizer': 'sgd'}.\n",
      "Best trial so far: Trial 6 with value: 0.574999988079071.\n"
     ]
    },
    {
     "name": "stderr",
     "output_type": "stream",
     "text": [
      "[I 2023-12-16 19:47:50,931] Trial 7 finished with value: 0.5450000166893005 and parameters: {'n_layers': 1, 'n_filters': 32, 'kernel_size': (5, 5), 'dropout_rate': 0.41639259237258797, 'optimizer': 'adam'}. Best is trial 6 with value: 0.574999988079071.\n"
     ]
    },
    {
     "name": "stdout",
     "output_type": "stream",
     "text": [
      "Trial 7 finished with value: 0.5450000166893005 and parameters: {'n_layers': 1, 'n_filters': 32, 'kernel_size': (5, 5), 'dropout_rate': 0.41639259237258797, 'optimizer': 'adam'}. Best is trial 6 with value: 0.574999988079071.\n",
      "Trial 7 finished with value: 0.5450000166893005 and parameters: {'n_layers': 1, 'n_filters': 32, 'kernel_size': (5, 5), 'dropout_rate': 0.41639259237258797, 'optimizer': 'adam'}.\n",
      "Best trial so far: Trial 6 with value: 0.574999988079071.\n"
     ]
    },
    {
     "name": "stderr",
     "output_type": "stream",
     "text": [
      "[I 2023-12-16 19:53:54,258] Trial 8 finished with value: 0.5577999949455261 and parameters: {'n_layers': 1, 'n_filters': 128, 'kernel_size': (3, 3), 'dropout_rate': 0.15005183742678005, 'optimizer': 'sgd'}. Best is trial 6 with value: 0.574999988079071.\n"
     ]
    },
    {
     "name": "stdout",
     "output_type": "stream",
     "text": [
      "Trial 8 finished with value: 0.5577999949455261 and parameters: {'n_layers': 1, 'n_filters': 128, 'kernel_size': (3, 3), 'dropout_rate': 0.15005183742678005, 'optimizer': 'sgd'}. Best is trial 6 with value: 0.574999988079071.\n",
      "Trial 8 finished with value: 0.5577999949455261 and parameters: {'n_layers': 1, 'n_filters': 128, 'kernel_size': (3, 3), 'dropout_rate': 0.15005183742678005, 'optimizer': 'sgd'}.\n",
      "Best trial so far: Trial 6 with value: 0.574999988079071.\n"
     ]
    },
    {
     "name": "stderr",
     "output_type": "stream",
     "text": [
      "[I 2023-12-16 19:54:01,787] Trial 11 finished with value: 0.535099983215332 and parameters: {'n_layers': 1, 'n_filters': 128, 'kernel_size': (3, 3), 'dropout_rate': 0.4193080918036838, 'optimizer': 'sgd'}. Best is trial 6 with value: 0.574999988079071.\n"
     ]
    },
    {
     "name": "stdout",
     "output_type": "stream",
     "text": [
      "Trial 11 finished with value: 0.535099983215332 and parameters: {'n_layers': 1, 'n_filters': 128, 'kernel_size': (3, 3), 'dropout_rate': 0.4193080918036838, 'optimizer': 'sgd'}. Best is trial 6 with value: 0.574999988079071.\n",
      "Trial 11 finished with value: 0.535099983215332 and parameters: {'n_layers': 1, 'n_filters': 128, 'kernel_size': (3, 3), 'dropout_rate': 0.4193080918036838, 'optimizer': 'sgd'}.\n",
      "Best trial so far: Trial 6 with value: 0.574999988079071.\n"
     ]
    },
    {
     "name": "stderr",
     "output_type": "stream",
     "text": [
      "[I 2023-12-16 20:09:03,324] Trial 2 finished with value: 0.5695000290870667 and parameters: {'n_layers': 1, 'n_filters': 128, 'kernel_size': (5, 5), 'dropout_rate': 0.3078604573510558, 'optimizer': 'adam'}. Best is trial 6 with value: 0.574999988079071.\n"
     ]
    },
    {
     "name": "stdout",
     "output_type": "stream",
     "text": [
      "Trial 2 finished with value: 0.5695000290870667 and parameters: {'n_layers': 1, 'n_filters': 128, 'kernel_size': (5, 5), 'dropout_rate': 0.3078604573510558, 'optimizer': 'adam'}. Best is trial 6 with value: 0.574999988079071.\n",
      "Trial 2 finished with value: 0.5695000290870667 and parameters: {'n_layers': 1, 'n_filters': 128, 'kernel_size': (5, 5), 'dropout_rate': 0.3078604573510558, 'optimizer': 'adam'}.\n",
      "Best trial so far: Trial 6 with value: 0.574999988079071.\n"
     ]
    },
    {
     "name": "stderr",
     "output_type": "stream",
     "text": [
      "[I 2023-12-16 20:16:28,430] Trial 5 finished with value: 0.6650000214576721 and parameters: {'n_layers': 2, 'n_filters': 32, 'kernel_size': (3, 3), 'dropout_rate': 0.3164845495404709, 'optimizer': 'adam'}. Best is trial 5 with value: 0.6650000214576721.\n"
     ]
    },
    {
     "name": "stdout",
     "output_type": "stream",
     "text": [
      "Trial 5 finished with value: 0.6650000214576721 and parameters: {'n_layers': 2, 'n_filters': 32, 'kernel_size': (3, 3), 'dropout_rate': 0.3164845495404709, 'optimizer': 'adam'}. Best is trial 5 with value: 0.6650000214576721.\n",
      "Trial 5 finished with value: 0.6650000214576721 and parameters: {'n_layers': 2, 'n_filters': 32, 'kernel_size': (3, 3), 'dropout_rate': 0.3164845495404709, 'optimizer': 'adam'}.\n",
      "Best trial so far: Trial 5 with value: 0.6650000214576721.\n"
     ]
    },
    {
     "name": "stderr",
     "output_type": "stream",
     "text": [
      "[I 2023-12-16 20:21:42,914] Trial 0 finished with value: 0.4401000142097473 and parameters: {'n_layers': 3, 'n_filters': 32, 'kernel_size': (3, 3), 'dropout_rate': 0.49244626189850693, 'optimizer': 'sgd'}. Best is trial 5 with value: 0.6650000214576721.\n"
     ]
    },
    {
     "name": "stdout",
     "output_type": "stream",
     "text": [
      "Trial 0 finished with value: 0.4401000142097473 and parameters: {'n_layers': 3, 'n_filters': 32, 'kernel_size': (3, 3), 'dropout_rate': 0.49244626189850693, 'optimizer': 'sgd'}. Best is trial 5 with value: 0.6650000214576721.\n",
      "Trial 0 finished with value: 0.4401000142097473 and parameters: {'n_layers': 3, 'n_filters': 32, 'kernel_size': (3, 3), 'dropout_rate': 0.49244626189850693, 'optimizer': 'sgd'}.\n",
      "Best trial so far: Trial 5 with value: 0.6650000214576721.\n"
     ]
    },
    {
     "name": "stderr",
     "output_type": "stream",
     "text": [
      "[I 2023-12-16 20:33:25,828] Trial 12 finished with value: 0.554099977016449 and parameters: {'n_layers': 1, 'n_filters': 128, 'kernel_size': (3, 3), 'dropout_rate': 0.11191852647433587, 'optimizer': 'sgd'}. Best is trial 5 with value: 0.6650000214576721.\n"
     ]
    },
    {
     "name": "stdout",
     "output_type": "stream",
     "text": [
      "Trial 12 finished with value: 0.554099977016449 and parameters: {'n_layers': 1, 'n_filters': 128, 'kernel_size': (3, 3), 'dropout_rate': 0.11191852647433587, 'optimizer': 'sgd'}. Best is trial 5 with value: 0.6650000214576721.\n",
      "Trial 12 finished with value: 0.554099977016449 and parameters: {'n_layers': 1, 'n_filters': 128, 'kernel_size': (3, 3), 'dropout_rate': 0.11191852647433587, 'optimizer': 'sgd'}.\n",
      "Best trial so far: Trial 5 with value: 0.6650000214576721.\n"
     ]
    },
    {
     "name": "stderr",
     "output_type": "stream",
     "text": [
      "[I 2023-12-16 20:33:38,945] Trial 14 finished with value: 0.5719000101089478 and parameters: {'n_layers': 1, 'n_filters': 32, 'kernel_size': (5, 5), 'dropout_rate': 0.22767110734507603, 'optimizer': 'adam'}. Best is trial 5 with value: 0.6650000214576721.\n"
     ]
    },
    {
     "name": "stdout",
     "output_type": "stream",
     "text": [
      "Trial 14 finished with value: 0.5719000101089478 and parameters: {'n_layers': 1, 'n_filters': 32, 'kernel_size': (5, 5), 'dropout_rate': 0.22767110734507603, 'optimizer': 'adam'}. Best is trial 5 with value: 0.6650000214576721.\n",
      "Trial 14 finished with value: 0.5719000101089478 and parameters: {'n_layers': 1, 'n_filters': 32, 'kernel_size': (5, 5), 'dropout_rate': 0.22767110734507603, 'optimizer': 'adam'}.\n",
      "Best trial so far: Trial 5 with value: 0.6650000214576721.\n"
     ]
    },
    {
     "name": "stderr",
     "output_type": "stream",
     "text": [
      "[I 2023-12-16 20:33:48,898] Trial 9 finished with value: 0.6312999725341797 and parameters: {'n_layers': 3, 'n_filters': 32, 'kernel_size': (5, 5), 'dropout_rate': 0.258994065836871, 'optimizer': 'adam'}. Best is trial 5 with value: 0.6650000214576721.\n"
     ]
    },
    {
     "name": "stdout",
     "output_type": "stream",
     "text": [
      "Trial 9 finished with value: 0.6312999725341797 and parameters: {'n_layers': 3, 'n_filters': 32, 'kernel_size': (5, 5), 'dropout_rate': 0.258994065836871, 'optimizer': 'adam'}. Best is trial 5 with value: 0.6650000214576721.\n",
      "Trial 9 finished with value: 0.6312999725341797 and parameters: {'n_layers': 3, 'n_filters': 32, 'kernel_size': (5, 5), 'dropout_rate': 0.258994065836871, 'optimizer': 'adam'}.\n",
      "Best trial so far: Trial 5 with value: 0.6650000214576721.\n"
     ]
    },
    {
     "name": "stderr",
     "output_type": "stream",
     "text": [
      "[I 2023-12-16 20:33:50,090] Trial 3 finished with value: 0.6136999726295471 and parameters: {'n_layers': 3, 'n_filters': 32, 'kernel_size': (5, 5), 'dropout_rate': 0.2933006170728807, 'optimizer': 'adam'}. Best is trial 5 with value: 0.6650000214576721.\n"
     ]
    },
    {
     "name": "stdout",
     "output_type": "stream",
     "text": [
      "Trial 3 finished with value: 0.6136999726295471 and parameters: {'n_layers': 3, 'n_filters': 32, 'kernel_size': (5, 5), 'dropout_rate': 0.2933006170728807, 'optimizer': 'adam'}. Best is trial 5 with value: 0.6650000214576721.\n",
      "Trial 3 finished with value: 0.6136999726295471 and parameters: {'n_layers': 3, 'n_filters': 32, 'kernel_size': (5, 5), 'dropout_rate': 0.2933006170728807, 'optimizer': 'adam'}.\n",
      "Best trial so far: Trial 5 with value: 0.6650000214576721.\n"
     ]
    },
    {
     "name": "stderr",
     "output_type": "stream",
     "text": [
      "[I 2023-12-16 20:42:19,642] Trial 4 finished with value: 0.65829998254776 and parameters: {'n_layers': 2, 'n_filters': 64, 'kernel_size': (3, 3), 'dropout_rate': 0.4100341809622188, 'optimizer': 'adam'}. Best is trial 5 with value: 0.6650000214576721.\n"
     ]
    },
    {
     "name": "stdout",
     "output_type": "stream",
     "text": [
      "Trial 4 finished with value: 0.65829998254776 and parameters: {'n_layers': 2, 'n_filters': 64, 'kernel_size': (3, 3), 'dropout_rate': 0.4100341809622188, 'optimizer': 'adam'}. Best is trial 5 with value: 0.6650000214576721.\n",
      "Trial 4 finished with value: 0.65829998254776 and parameters: {'n_layers': 2, 'n_filters': 64, 'kernel_size': (3, 3), 'dropout_rate': 0.4100341809622188, 'optimizer': 'adam'}.\n",
      "Best trial so far: Trial 5 with value: 0.6650000214576721.\n"
     ]
    },
    {
     "name": "stderr",
     "output_type": "stream",
     "text": [
      "[I 2023-12-16 20:50:55,658] Trial 1 finished with value: 0.6470000147819519 and parameters: {'n_layers': 3, 'n_filters': 64, 'kernel_size': (3, 3), 'dropout_rate': 0.4844914550019569, 'optimizer': 'adam'}. Best is trial 5 with value: 0.6650000214576721.\n"
     ]
    },
    {
     "name": "stdout",
     "output_type": "stream",
     "text": [
      "Trial 1 finished with value: 0.6470000147819519 and parameters: {'n_layers': 3, 'n_filters': 64, 'kernel_size': (3, 3), 'dropout_rate': 0.4844914550019569, 'optimizer': 'adam'}. Best is trial 5 with value: 0.6650000214576721.\n",
      "Trial 1 finished with value: 0.6470000147819519 and parameters: {'n_layers': 3, 'n_filters': 64, 'kernel_size': (3, 3), 'dropout_rate': 0.4844914550019569, 'optimizer': 'adam'}.\n",
      "Best trial so far: Trial 5 with value: 0.6650000214576721.\n"
     ]
    },
    {
     "name": "stderr",
     "output_type": "stream",
     "text": [
      "[I 2023-12-16 20:51:23,380] Trial 10 finished with value: 0.5820000171661377 and parameters: {'n_layers': 3, 'n_filters': 64, 'kernel_size': (3, 3), 'dropout_rate': 0.18368745069898018, 'optimizer': 'sgd'}. Best is trial 5 with value: 0.6650000214576721.\n"
     ]
    },
    {
     "name": "stdout",
     "output_type": "stream",
     "text": [
      "Trial 10 finished with value: 0.5820000171661377 and parameters: {'n_layers': 3, 'n_filters': 64, 'kernel_size': (3, 3), 'dropout_rate': 0.18368745069898018, 'optimizer': 'sgd'}. Best is trial 5 with value: 0.6650000214576721.\n",
      "Trial 10 finished with value: 0.5820000171661377 and parameters: {'n_layers': 3, 'n_filters': 64, 'kernel_size': (3, 3), 'dropout_rate': 0.18368745069898018, 'optimizer': 'sgd'}.\n",
      "Best trial so far: Trial 5 with value: 0.6650000214576721.\n"
     ]
    },
    {
     "name": "stderr",
     "output_type": "stream",
     "text": [
      "[I 2023-12-16 21:21:21,629] Trial 13 finished with value: 0.6545000076293945 and parameters: {'n_layers': 3, 'n_filters': 64, 'kernel_size': (5, 5), 'dropout_rate': 0.14530599921142928, 'optimizer': 'adam'}. Best is trial 5 with value: 0.6650000214576721.\n"
     ]
    },
    {
     "name": "stdout",
     "output_type": "stream",
     "text": [
      "Trial 13 finished with value: 0.6545000076293945 and parameters: {'n_layers': 3, 'n_filters': 64, 'kernel_size': (5, 5), 'dropout_rate': 0.14530599921142928, 'optimizer': 'adam'}. Best is trial 5 with value: 0.6650000214576721.\n",
      "Trial 13 finished with value: 0.6545000076293945 and parameters: {'n_layers': 3, 'n_filters': 64, 'kernel_size': (5, 5), 'dropout_rate': 0.14530599921142928, 'optimizer': 'adam'}.\n",
      "Best trial so far: Trial 5 with value: 0.6650000214576721.\n"
     ]
    }
   ],
   "source": [
    "import optuna\n",
    "import os\n",
    "import logging\n",
    "import sys\n",
    "\n",
    "# Definir uma função de callback para exibir informações de progresso\n",
    "def print_progress(study, trial):\n",
    "    print(f\"Trial {trial.number} finished with value: {trial.value} and parameters: {trial.params}.\")\n",
    "    print(f\"Best trial so far: Trial {study.best_trial.number} with value: {study.best_trial.value}.\")\n",
    "\n",
    "def objective(trial):\n",
    "    n_layers = trial.suggest_int('n_layers', 1, 3)\n",
    "    n_filters = trial.suggest_categorical('n_filters', [32, 64, 128])\n",
    "    kernel_size = trial.suggest_categorical('kernel_size', [(3, 3), (5, 5)])\n",
    "    dropout_rate = trial.suggest_uniform('dropout_rate', 0.1, 0.5)\n",
    "    optimizer = trial.suggest_categorical('optimizer', ['adam', 'sgd'])\n",
    "\n",
    "    model = create_cnn_model(n_layers, n_filters, kernel_size, dropout_rate, optimizer)\n",
    "    model.fit(x_train, y_train, validation_split=0.1, epochs=7, verbose=0)\n",
    "    \n",
    "    loss, accuracy = model.evaluate(x_test, y_test, verbose=0)\n",
    "    return accuracy\n",
    "\n",
    "# Configurar o logging\n",
    "optuna.logging.get_logger(\"optuna\").addHandler(logging.StreamHandler(sys.stdout))\n",
    "optuna.logging.set_verbosity(optuna.logging.INFO)\n",
    "\n",
    "# Definir o número máximo de threads\n",
    "max_threads = os.cpu_count()\n",
    "\n",
    "# Criar e executar o estudo do Optuna\n",
    "study = optuna.create_study(direction='maximize')\n",
    "study.optimize(objective, n_trials=16, n_jobs=max_threads, callbacks=[print_progress])\n"
   ]
  },
  {
   "cell_type": "markdown",
   "id": "abb2c935",
   "metadata": {},
   "source": [
    "# Análise dos Resultados do Optuna"
   ]
  },
  {
   "cell_type": "code",
   "execution_count": null,
   "id": "3f92d78c",
   "metadata": {},
   "outputs": [],
   "source": [
    "from optuna.visualization import plot_slice, plot_contour, plot_parallel_coordinate, plot_param_importances\n",
    "from IPython.display import display\n",
    "\n",
    "# Slice Plot\n",
    "display(plot_slice(study))\n",
    "\n",
    "# Contour Plot\n",
    "display(plot_contour(study))\n",
    "\n",
    "# Parallel Coordinate Plot\n",
    "display(plot_parallel_coordinate(study))\n",
    "\n",
    "# Importance Plot\n",
    "display(plot_param_importances(study))\n"
   ]
  },
  {
   "cell_type": "markdown",
   "id": "52f51a2a",
   "metadata": {},
   "source": [
    "Ficou evidente que o numero de layers é o hiperparametro mais relevante. Como o maximo no meu estudo ainda nao parece ser o melhor, faremos agora novos estudos com os melhores hiperparametros obtidos e iremos variar apenas o n_layers"
   ]
  },
  {
   "cell_type": "code",
   "execution_count": 11,
   "id": "85d37404",
   "metadata": {},
   "outputs": [],
   "source": [
    "import numpy as np\n",
    "import matplotlib.pyplot as plt\n",
    "import seaborn as sns\n",
    "from sklearn.metrics import confusion_matrix\n",
    "import tensorflow as tf\n",
    "\n",
    "# Função para calcular e plotar a matriz de confusão\n",
    "def plot_confusion_matrix(model, x_test, y_test, title):\n",
    "    y_pred = model.predict(x_test)\n",
    "    y_pred_classes = np.argmax(y_pred, axis=1)\n",
    "    y_true = np.argmax(y_test, axis=1)\n",
    "    conf_matrix = confusion_matrix(y_true, y_pred_classes)\n",
    "\n",
    "    plt.figure(figsize=(8, 6))\n",
    "    sns.heatmap(conf_matrix, annot=True, fmt='d', cmap='Blues')\n",
    "    plt.ylabel('True Label')\n",
    "    plt.xlabel('Predicted Label')\n",
    "    plt.title(title)\n",
    "    plt.show()\n"
   ]
  },
  {
   "cell_type": "code",
   "execution_count": null,
   "id": "be2559d7",
   "metadata": {},
   "outputs": [],
   "source": [
    "from concurrent.futures import ThreadPoolExecutor, as_completed\n",
    "\n",
    "def train_model(params):\n",
    "    model = create_cnn_model(**params)\n",
    "    model.fit(x_train, y_train, epochs=30, verbose=1)\n",
    "    return model\n",
    "\n",
    "def train_and_plot_confusion_matrix(best_trial_params):\n",
    "    print(\"Treinando modelo com hiperparâmetros:\", best_trial_params)\n",
    "    model = train_model(best_trial_params)\n",
    "    title = 'Matriz de Confusão\\nHiperparâmetros: ' + str(best_trial_params)\n",
    "    plot_confusion_matrix(model, x_test, y_test, title)\n",
    "\n",
    "best_trials = sorted(study.trials, key=lambda t: t.value, reverse=True)\n",
    "best_trial_params_1 = best_trials[0].params\n",
    "best_trial_params_2 = best_trials[1].params\n",
    "\n",
    "with ThreadPoolExecutor(max_workers=2) as executor:\n",
    "    futures = [executor.submit(train_and_plot_confusion_matrix, best_trial_params_1),\n",
    "               executor.submit(train_and_plot_confusion_matrix, best_trial_params_2)]\n",
    "\n",
    "    for future in as_completed(futures):\n",
    "        future.result()  # Aguardar cada treinamento ser concluído\n"
   ]
  },
  {
   "cell_type": "code",
   "execution_count": null,
   "id": "b8feec36",
   "metadata": {},
   "outputs": [
    {
     "name": "stdout",
     "output_type": "stream",
     "text": [
      "Treinando modelo com hiperparâmetros: {'n_layers': 2, 'n_filters': 32, 'kernel_size': (3, 3), 'dropout_rate': 0.3164845495404709, 'optimizer': 'adam'}\n",
      "Treinando modelo com hiperparâmetros: {'n_layers': 1, 'n_filters': 64, 'kernel_size': (5, 5), 'dropout_rate': 0.27026550952370554, 'optimizer': 'sgd'}\n",
      "Epoch 1/30\n",
      "Epoch 1/30\n",
      "1563/1563 [==============================] - 86s 54ms/step - loss: 1.9217 - accuracy: 0.3045\n",
      "Epoch 2/30\n",
      "1563/1563 [==============================] - 132s 84ms/step - loss: 1.5476 - accuracy: 0.4404\n",
      " 840/1563 [===============>..............] - ETA: 40s - loss: 1.6441 - accuracy: 0.4100Epoch 2/30\n",
      "1563/1563 [==============================] - 87s 56ms/step - loss: 1.5920 - accuracy: 0.4290\n",
      "Epoch 3/30\n",
      "1563/1563 [==============================] - 84s 54ms/step - loss: 1.4472 - accuracy: 0.4824\n",
      "Epoch 4/30\n",
      "1563/1563 [==============================] - 130s 83ms/step - loss: 1.2539 - accuracy: 0.5528\n",
      "Epoch 3/30\n",
      "1563/1563 [==============================] - 82s 53ms/step - loss: 1.3622 - accuracy: 0.5171\n",
      "Epoch 5/30\n",
      "1563/1563 [==============================] - 126s 80ms/step - loss: 1.1471 - accuracy: 0.5944\n",
      "Epoch 4/30\n",
      "1563/1563 [==============================] - 82s 52ms/step - loss: 1.3045 - accuracy: 0.5376\n",
      "Epoch 6/30\n",
      "1563/1563 [==============================] - 82s 52ms/step - loss: 1.2542 - accuracy: 0.5555\n",
      "1426/1563 [==========================>...] - ETA: 11s - loss: 1.0758 - accuracy: 0.6174Epoch 7/30\n",
      "1563/1563 [==============================] - 126s 81ms/step - loss: 1.0787 - accuracy: 0.6167\n",
      "Epoch 5/30\n",
      "1563/1563 [==============================] - 83s 53ms/step - loss: 1.2113 - accuracy: 0.5704\n",
      "Epoch 8/30\n",
      "1563/1563 [==============================] - 135s 86ms/step - loss: 1.0230 - accuracy: 0.6342\n",
      "Epoch 6/30\n",
      "1563/1563 [==============================] - 99s 63ms/step - loss: 1.1665 - accuracy: 0.5865\n",
      "Epoch 9/30\n",
      "1563/1563 [==============================] - 101s 64ms/step - loss: 1.1254 - accuracy: 0.6029\n",
      "Epoch 10/30\n",
      "1563/1563 [==============================] - 146s 93ms/step - loss: 0.9857 - accuracy: 0.6465\n",
      "Epoch 7/30\n",
      "1563/1563 [==============================] - 180s 115ms/step - loss: 0.9471 - accuracy: 0.6626\n",
      "Epoch 8/30\n",
      "1563/1563 [==============================] - 171s 109ms/step - loss: 0.9238 - accuracy: 0.6692\n",
      "Epoch 9/30\n",
      "1563/1563 [==============================] - 115s 74ms/step - loss: 1.0167 - accuracy: 0.6408\n",
      "Epoch 13/30\n",
      "1563/1563 [==============================] - 99s 63ms/step - loss: 0.9833 - accuracy: 0.6537\n",
      "Epoch 14/30\n",
      "1563/1563 [==============================] - 147s 94ms/step - loss: 0.8908 - accuracy: 0.6790\n",
      "Epoch 10/30\n",
      "1563/1563 [==============================] - 93s 59ms/step - loss: 0.9450 - accuracy: 0.6669\n",
      " 569/1563 [=========>....................] - ETA: 1:28 - loss: 0.8501 - accuracy: 0.6934Epoch 15/30\n",
      "1563/1563 [==============================] - 138s 88ms/step - loss: 0.8686 - accuracy: 0.6901\n",
      "Epoch 11/30\n",
      "1563/1563 [==============================] - 91s 58ms/step - loss: 0.9162 - accuracy: 0.6784\n",
      "Epoch 16/30\n",
      "1563/1563 [==============================] - 90s 58ms/step - loss: 0.8845 - accuracy: 0.6856\n",
      "Epoch 17/30\n",
      "1563/1563 [==============================] - 137s 87ms/step - loss: 0.8491 - accuracy: 0.6942\n",
      "Epoch 12/30\n",
      "1563/1563 [==============================] - 90s 58ms/step - loss: 0.8509 - accuracy: 0.6996\n",
      "Epoch 18/30\n",
      "1563/1563 [==============================] - 90s 57ms/step - loss: 0.8239 - accuracy: 0.7073\n",
      "Epoch 19/30\n",
      "1563/1563 [==============================] - 137s 88ms/step - loss: 0.8226 - accuracy: 0.7034\n",
      "Epoch 13/30\n",
      "1563/1563 [==============================] - 90s 58ms/step - loss: 0.7951 - accuracy: 0.7172\n",
      "Epoch 20/30\n",
      "1563/1563 [==============================] - 130s 83ms/step - loss: 0.8205 - accuracy: 0.7046\n",
      "Epoch 14/30\n",
      "1563/1563 [==============================] - 70s 45ms/step - loss: 0.7673 - accuracy: 0.7260\n",
      "Epoch 21/30\n",
      "1563/1563 [==============================] - 90s 57ms/step - loss: 0.7426 - accuracy: 0.7348\n",
      "Epoch 22/30\n",
      "1563/1563 [==============================] - 123s 79ms/step - loss: 0.8107 - accuracy: 0.7052\n",
      "Epoch 15/30\n",
      "1563/1563 [==============================] - 89s 57ms/step - loss: 0.7152 - accuracy: 0.7449\n",
      "Epoch 23/30\n",
      "1563/1563 [==============================] - 136s 87ms/step - loss: 0.7886 - accuracy: 0.7132\n",
      " 887/1563 [================>.............] - ETA: 39s - loss: 0.6662 - accuracy: 0.7619Epoch 16/30\n",
      "1563/1563 [==============================] - 90s 58ms/step - loss: 0.6838 - accuracy: 0.7560\n",
      "Epoch 24/30\n",
      "1563/1563 [==============================] - 105s 67ms/step - loss: 0.6647 - accuracy: 0.7637\n",
      "Epoch 25/30\n",
      "1563/1563 [==============================] - 150s 96ms/step - loss: 0.7759 - accuracy: 0.7175\n",
      "Epoch 17/30\n",
      "1563/1563 [==============================] - 111s 71ms/step - loss: 0.6137 - accuracy: 0.7789\n",
      "Epoch 27/30\n",
      "1563/1563 [==============================] - 141s 90ms/step - loss: 0.7536 - accuracy: 0.7252\n",
      "Epoch 19/30\n",
      "1563/1563 [==============================] - 98s 62ms/step - loss: 0.5928 - accuracy: 0.7882\n",
      "Epoch 28/30\n",
      "1563/1563 [==============================] - 98s 63ms/step - loss: 0.5701 - accuracy: 0.7972\n",
      "Epoch 29/30\n",
      "1563/1563 [==============================] - 142s 91ms/step - loss: 0.7342 - accuracy: 0.7342\n",
      "Epoch 20/30\n",
      "1037/1563 [==================>...........] - ETA: 32s - loss: 0.5397 - accuracy: 0.8068"
     ]
    }
   ],
   "source": [
    "\n",
    "from concurrent.futures import ThreadPoolExecutor, as_completed\n",
    "\n",
    "# Definindo os melhores hiperparâmetros diretamente\n",
    "best_trial_params_1 = {'n_layers': 2, 'n_filters': 32, 'kernel_size': (3, 3), 'dropout_rate': 0.3164845495404709, 'optimizer': 'adam'}  # Trial 5\n",
    "best_trial_params_2 = {'n_layers': 1, 'n_filters': 64, 'kernel_size': (5, 5), 'dropout_rate': 0.27026550952370554, 'optimizer': 'sgd'}  # Trial 6\n",
    "\n",
    "def train_model(params):\n",
    "    model = create_cnn_model(**params)\n",
    "    model.fit(x_train, y_train, epochs=30, verbose=1)\n",
    "    return model\n",
    "\n",
    "def train_and_plot_confusion_matrix(best_trial_params):\n",
    "    print(\"Treinando modelo com hiperparâmetros:\", best_trial_params)\n",
    "    model = train_model(best_trial_params)\n",
    "    title = 'Matriz de Confusão\\nHiperparâmetros: ' + str(best_trial_params)\n",
    "    plot_confusion_matrix(model, x_test, y_test, title)\n",
    "\n",
    "with ThreadPoolExecutor(max_workers=2) as executor:\n",
    "    futures = [executor.submit(train_and_plot_confusion_matrix, best_trial_params_1),\n",
    "               executor.submit(train_and_plot_confusion_matrix, best_trial_params_2)]\n",
    "\n",
    "    for future in as_completed(futures):\n",
    "        future.result()  # Aguardar cada treinamento ser concluído\n"
   ]
  },
  {
   "cell_type": "code",
   "execution_count": 2,
   "id": "ef75bb4b",
   "metadata": {
    "scrolled": true
   },
   "outputs": [
    {
     "ename": "NameError",
     "evalue": "name 'best_model_1' is not defined",
     "output_type": "error",
     "traceback": [
      "\u001b[1;31m---------------------------------------------------------------------------\u001b[0m",
      "\u001b[1;31mNameError\u001b[0m                                 Traceback (most recent call last)",
      "Cell \u001b[1;32mIn[2], line 1\u001b[0m\n\u001b[1;32m----> 1\u001b[0m plot_confusion_matrix(\u001b[43mbest_model_1\u001b[49m, x_test, y_test, \u001b[38;5;124m'\u001b[39m\u001b[38;5;124mMatriz de Confusão do Melhor Modelo\u001b[39m\u001b[38;5;124m'\u001b[39m)\n",
      "\u001b[1;31mNameError\u001b[0m: name 'best_model_1' is not defined"
     ]
    }
   ],
   "source": [
    "plot_confusion_matrix(best_model_1, x_test, y_test, 'Matriz de Confusão do Melhor Modelo')"
   ]
  }
 ],
 "metadata": {
  "kernelspec": {
   "display_name": "Python 3 (ipykernel)",
   "language": "python",
   "name": "python3"
  },
  "language_info": {
   "codemirror_mode": {
    "name": "ipython",
    "version": 3
   },
   "file_extension": ".py",
   "mimetype": "text/x-python",
   "name": "python",
   "nbconvert_exporter": "python",
   "pygments_lexer": "ipython3",
   "version": "3.8.18"
  }
 },
 "nbformat": 4,
 "nbformat_minor": 5
}
