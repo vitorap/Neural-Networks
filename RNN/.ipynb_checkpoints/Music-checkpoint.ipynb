{
 "cells": [
  {
   "cell_type": "code",
   "execution_count": 1,
   "id": "f65d44fb",
   "metadata": {},
   "outputs": [
    {
     "name": "stdout",
     "output_type": "stream",
     "text": [
      "Requirement already satisfied: tensorflow in c:\\users\\ealbvit\\appdata\\local\\anaconda3\\envs\\redes_neurais\\lib\\site-packages (2.13.0)\n",
      "Collecting pretty_midi\n",
      "  Downloading pretty_midi-0.2.10.tar.gz (5.6 MB)\n",
      "     ---------------------------------------- 0.0/5.6 MB ? eta -:--:--\n",
      "     ---------------------------------------- 0.0/5.6 MB 660.6 kB/s eta 0:00:09\n",
      "     ---------------------------------------- 0.1/5.6 MB 656.4 kB/s eta 0:00:09\n",
      "     - -------------------------------------- 0.1/5.6 MB 950.9 kB/s eta 0:00:06\n",
      "     - -------------------------------------- 0.2/5.6 MB 1.1 MB/s eta 0:00:06\n",
      "     - -------------------------------------- 0.2/5.6 MB 1.1 MB/s eta 0:00:06\n",
      "     --- ------------------------------------ 0.5/5.6 MB 1.8 MB/s eta 0:00:03\n",
      "     --- ------------------------------------ 0.5/5.6 MB 1.5 MB/s eta 0:00:04\n",
      "     --- ------------------------------------ 0.5/5.6 MB 1.4 MB/s eta 0:00:04\n",
      "     ----- ---------------------------------- 0.8/5.6 MB 1.9 MB/s eta 0:00:03\n",
      "     ------ --------------------------------- 1.0/5.6 MB 1.9 MB/s eta 0:00:03\n",
      "     --------- ------------------------------ 1.4/5.6 MB 2.4 MB/s eta 0:00:02\n",
      "     ---------- ----------------------------- 1.4/5.6 MB 2.6 MB/s eta 0:00:02\n",
      "     ---------- ----------------------------- 1.5/5.6 MB 2.2 MB/s eta 0:00:02\n",
      "     ---------- ----------------------------- 1.5/5.6 MB 2.1 MB/s eta 0:00:02\n",
      "     -------------- ------------------------- 2.0/5.6 MB 2.6 MB/s eta 0:00:02\n",
      "     ------------------ --------------------- 2.5/5.6 MB 3.1 MB/s eta 0:00:01\n",
      "     ------------------ --------------------- 2.5/5.6 MB 3.1 MB/s eta 0:00:01\n",
      "     ------------------ --------------------- 2.6/5.6 MB 2.9 MB/s eta 0:00:02\n",
      "     -------------------- ------------------- 2.9/5.6 MB 3.0 MB/s eta 0:00:01\n",
      "     ------------------------ --------------- 3.5/5.6 MB 3.4 MB/s eta 0:00:01\n",
      "     -------------------------- ------------- 3.7/5.6 MB 3.5 MB/s eta 0:00:01\n",
      "     -------------------------- ------------- 3.7/5.6 MB 3.4 MB/s eta 0:00:01\n",
      "     -------------------------- ------------- 3.7/5.6 MB 3.4 MB/s eta 0:00:01\n",
      "     ------------------------------ --------- 4.3/5.6 MB 3.5 MB/s eta 0:00:01\n",
      "     ------------------------------- -------- 4.4/5.6 MB 3.5 MB/s eta 0:00:01\n",
      "     --------------------------------- ------ 4.7/5.6 MB 3.6 MB/s eta 0:00:01\n",
      "     ---------------------------------- ----- 4.8/5.6 MB 3.5 MB/s eta 0:00:01\n",
      "     ---------------------------------- ----- 4.8/5.6 MB 3.5 MB/s eta 0:00:01\n",
      "     ----------------------------------- ---- 4.9/5.6 MB 3.3 MB/s eta 0:00:01\n",
      "     ------------------------------------- -- 5.3/5.6 MB 3.4 MB/s eta 0:00:01\n",
      "     -------------------------------------- - 5.4/5.6 MB 3.4 MB/s eta 0:00:01\n",
      "     -------------------------------------- - 5.4/5.6 MB 3.4 MB/s eta 0:00:01\n",
      "     ---------------------------------------  5.5/5.6 MB 3.3 MB/s eta 0:00:01\n",
      "     ---------------------------------------  5.6/5.6 MB 3.2 MB/s eta 0:00:01\n",
      "     ---------------------------------------- 5.6/5.6 MB 3.2 MB/s eta 0:00:00\n",
      "  Preparing metadata (setup.py): started\n",
      "  Preparing metadata (setup.py): finished with status 'done'\n",
      "Requirement already satisfied: tensorflow-intel==2.13.0 in c:\\users\\ealbvit\\appdata\\local\\anaconda3\\envs\\redes_neurais\\lib\\site-packages (from tensorflow) (2.13.0)\n",
      "Requirement already satisfied: absl-py>=1.0.0 in c:\\users\\ealbvit\\appdata\\local\\anaconda3\\envs\\redes_neurais\\lib\\site-packages (from tensorflow-intel==2.13.0->tensorflow) (1.4.0)\n",
      "Requirement already satisfied: astunparse>=1.6.0 in c:\\users\\ealbvit\\appdata\\local\\anaconda3\\envs\\redes_neurais\\lib\\site-packages (from tensorflow-intel==2.13.0->tensorflow) (1.6.3)\n",
      "Requirement already satisfied: flatbuffers>=23.1.21 in c:\\users\\ealbvit\\appdata\\local\\anaconda3\\envs\\redes_neurais\\lib\\site-packages (from tensorflow-intel==2.13.0->tensorflow) (23.5.26)\n",
      "Requirement already satisfied: gast<=0.4.0,>=0.2.1 in c:\\users\\ealbvit\\appdata\\local\\anaconda3\\envs\\redes_neurais\\lib\\site-packages (from tensorflow-intel==2.13.0->tensorflow) (0.4.0)\n",
      "Requirement already satisfied: google-pasta>=0.1.1 in c:\\users\\ealbvit\\appdata\\local\\anaconda3\\envs\\redes_neurais\\lib\\site-packages (from tensorflow-intel==2.13.0->tensorflow) (0.2.0)\n",
      "Requirement already satisfied: h5py>=2.9.0 in c:\\users\\ealbvit\\appdata\\local\\anaconda3\\envs\\redes_neurais\\lib\\site-packages (from tensorflow-intel==2.13.0->tensorflow) (3.9.0)\n",
      "Requirement already satisfied: libclang>=13.0.0 in c:\\users\\ealbvit\\appdata\\local\\anaconda3\\envs\\redes_neurais\\lib\\site-packages (from tensorflow-intel==2.13.0->tensorflow) (16.0.6)\n",
      "Requirement already satisfied: numpy<=1.24.3,>=1.22 in c:\\users\\ealbvit\\appdata\\local\\anaconda3\\envs\\redes_neurais\\lib\\site-packages (from tensorflow-intel==2.13.0->tensorflow) (1.24.3)\n",
      "Requirement already satisfied: opt-einsum>=2.3.2 in c:\\users\\ealbvit\\appdata\\local\\anaconda3\\envs\\redes_neurais\\lib\\site-packages (from tensorflow-intel==2.13.0->tensorflow) (3.3.0)\n",
      "Requirement already satisfied: packaging in c:\\users\\ealbvit\\appdata\\local\\anaconda3\\envs\\redes_neurais\\lib\\site-packages (from tensorflow-intel==2.13.0->tensorflow) (23.1)\n",
      "Requirement already satisfied: protobuf!=4.21.0,!=4.21.1,!=4.21.2,!=4.21.3,!=4.21.4,!=4.21.5,<5.0.0dev,>=3.20.3 in c:\\users\\ealbvit\\appdata\\local\\anaconda3\\envs\\redes_neurais\\lib\\site-packages (from tensorflow-intel==2.13.0->tensorflow) (3.20.3)\n",
      "Requirement already satisfied: setuptools in c:\\users\\ealbvit\\appdata\\local\\anaconda3\\envs\\redes_neurais\\lib\\site-packages (from tensorflow-intel==2.13.0->tensorflow) (68.0.0)\n",
      "Requirement already satisfied: six>=1.12.0 in c:\\users\\ealbvit\\appdata\\local\\anaconda3\\envs\\redes_neurais\\lib\\site-packages (from tensorflow-intel==2.13.0->tensorflow) (1.16.0)\n",
      "Requirement already satisfied: termcolor>=1.1.0 in c:\\users\\ealbvit\\appdata\\local\\anaconda3\\envs\\redes_neurais\\lib\\site-packages (from tensorflow-intel==2.13.0->tensorflow) (2.3.0)\n",
      "Requirement already satisfied: typing-extensions<4.6.0,>=3.6.6 in c:\\users\\ealbvit\\appdata\\local\\anaconda3\\envs\\redes_neurais\\lib\\site-packages (from tensorflow-intel==2.13.0->tensorflow) (4.5.0)\n",
      "Requirement already satisfied: wrapt>=1.11.0 in c:\\users\\ealbvit\\appdata\\local\\anaconda3\\envs\\redes_neurais\\lib\\site-packages (from tensorflow-intel==2.13.0->tensorflow) (1.15.0)\n",
      "Requirement already satisfied: grpcio<2.0,>=1.24.3 in c:\\users\\ealbvit\\appdata\\local\\anaconda3\\envs\\redes_neurais\\lib\\site-packages (from tensorflow-intel==2.13.0->tensorflow) (1.59.0)\n",
      "Requirement already satisfied: tensorboard<2.14,>=2.13 in c:\\users\\ealbvit\\appdata\\local\\anaconda3\\envs\\redes_neurais\\lib\\site-packages (from tensorflow-intel==2.13.0->tensorflow) (2.13.0)\n",
      "Requirement already satisfied: tensorflow-estimator<2.14,>=2.13.0 in c:\\users\\ealbvit\\appdata\\local\\anaconda3\\envs\\redes_neurais\\lib\\site-packages (from tensorflow-intel==2.13.0->tensorflow) (2.13.0)\n",
      "Requirement already satisfied: keras<2.14,>=2.13.1 in c:\\users\\ealbvit\\appdata\\local\\anaconda3\\envs\\redes_neurais\\lib\\site-packages (from tensorflow-intel==2.13.0->tensorflow) (2.13.1)\n",
      "Requirement already satisfied: tensorflow-io-gcs-filesystem>=0.23.1 in c:\\users\\ealbvit\\appdata\\local\\anaconda3\\envs\\redes_neurais\\lib\\site-packages (from tensorflow-intel==2.13.0->tensorflow) (0.31.0)\n",
      "Collecting mido>=1.1.16 (from pretty_midi)\n",
      "  Obtaining dependency information for mido>=1.1.16 from https://files.pythonhosted.org/packages/b0/0e/b551e09391220208764c00ed2b382e198414329d8b6037eeb54a8008d737/mido-1.3.0-py3-none-any.whl.metadata\n",
      "  Downloading mido-1.3.0-py3-none-any.whl.metadata (5.1 kB)\n",
      "Requirement already satisfied: wheel<1.0,>=0.23.0 in c:\\users\\ealbvit\\appdata\\local\\anaconda3\\envs\\redes_neurais\\lib\\site-packages (from astunparse>=1.6.0->tensorflow-intel==2.13.0->tensorflow) (0.41.2)\n",
      "Requirement already satisfied: google-auth<3,>=1.6.3 in c:\\users\\ealbvit\\appdata\\local\\anaconda3\\envs\\redes_neurais\\lib\\site-packages (from tensorboard<2.14,>=2.13->tensorflow-intel==2.13.0->tensorflow) (2.23.2)\n",
      "Requirement already satisfied: google-auth-oauthlib<1.1,>=0.5 in c:\\users\\ealbvit\\appdata\\local\\anaconda3\\envs\\redes_neurais\\lib\\site-packages (from tensorboard<2.14,>=2.13->tensorflow-intel==2.13.0->tensorflow) (1.0.0)\n",
      "Requirement already satisfied: markdown>=2.6.8 in c:\\users\\ealbvit\\appdata\\local\\anaconda3\\envs\\redes_neurais\\lib\\site-packages (from tensorboard<2.14,>=2.13->tensorflow-intel==2.13.0->tensorflow) (3.4.4)\n",
      "Requirement already satisfied: requests<3,>=2.21.0 in c:\\users\\ealbvit\\appdata\\local\\anaconda3\\envs\\redes_neurais\\lib\\site-packages (from tensorboard<2.14,>=2.13->tensorflow-intel==2.13.0->tensorflow) (2.31.0)\n",
      "Requirement already satisfied: tensorboard-data-server<0.8.0,>=0.7.0 in c:\\users\\ealbvit\\appdata\\local\\anaconda3\\envs\\redes_neurais\\lib\\site-packages (from tensorboard<2.14,>=2.13->tensorflow-intel==2.13.0->tensorflow) (0.7.1)\n",
      "Requirement already satisfied: werkzeug>=1.0.1 in c:\\users\\ealbvit\\appdata\\local\\anaconda3\\envs\\redes_neurais\\lib\\site-packages (from tensorboard<2.14,>=2.13->tensorflow-intel==2.13.0->tensorflow) (3.0.0)\n",
      "Requirement already satisfied: cachetools<6.0,>=2.0.0 in c:\\users\\ealbvit\\appdata\\local\\anaconda3\\envs\\redes_neurais\\lib\\site-packages (from google-auth<3,>=1.6.3->tensorboard<2.14,>=2.13->tensorflow-intel==2.13.0->tensorflow) (5.3.1)\n",
      "Requirement already satisfied: pyasn1-modules>=0.2.1 in c:\\users\\ealbvit\\appdata\\local\\anaconda3\\envs\\redes_neurais\\lib\\site-packages (from google-auth<3,>=1.6.3->tensorboard<2.14,>=2.13->tensorflow-intel==2.13.0->tensorflow) (0.3.0)\n",
      "Requirement already satisfied: rsa<5,>=3.1.4 in c:\\users\\ealbvit\\appdata\\local\\anaconda3\\envs\\redes_neurais\\lib\\site-packages (from google-auth<3,>=1.6.3->tensorboard<2.14,>=2.13->tensorflow-intel==2.13.0->tensorflow) (4.9)\n",
      "Requirement already satisfied: requests-oauthlib>=0.7.0 in c:\\users\\ealbvit\\appdata\\local\\anaconda3\\envs\\redes_neurais\\lib\\site-packages (from google-auth-oauthlib<1.1,>=0.5->tensorboard<2.14,>=2.13->tensorflow-intel==2.13.0->tensorflow) (1.3.1)\n",
      "Requirement already satisfied: importlib-metadata>=4.4 in c:\\users\\ealbvit\\appdata\\local\\anaconda3\\envs\\redes_neurais\\lib\\site-packages (from markdown>=2.6.8->tensorboard<2.14,>=2.13->tensorflow-intel==2.13.0->tensorflow) (6.8.0)\n",
      "Requirement already satisfied: charset-normalizer<4,>=2 in c:\\users\\ealbvit\\appdata\\local\\anaconda3\\envs\\redes_neurais\\lib\\site-packages (from requests<3,>=2.21.0->tensorboard<2.14,>=2.13->tensorflow-intel==2.13.0->tensorflow) (2.0.4)\n",
      "Requirement already satisfied: idna<4,>=2.5 in c:\\users\\ealbvit\\appdata\\local\\anaconda3\\envs\\redes_neurais\\lib\\site-packages (from requests<3,>=2.21.0->tensorboard<2.14,>=2.13->tensorflow-intel==2.13.0->tensorflow) (3.4)\n",
      "Requirement already satisfied: urllib3<3,>=1.21.1 in c:\\users\\ealbvit\\appdata\\local\\anaconda3\\envs\\redes_neurais\\lib\\site-packages (from requests<3,>=2.21.0->tensorboard<2.14,>=2.13->tensorflow-intel==2.13.0->tensorflow) (1.26.16)\n",
      "Requirement already satisfied: certifi>=2017.4.17 in c:\\users\\ealbvit\\appdata\\local\\anaconda3\\envs\\redes_neurais\\lib\\site-packages (from requests<3,>=2.21.0->tensorboard<2.14,>=2.13->tensorflow-intel==2.13.0->tensorflow) (2023.7.22)\n",
      "Requirement already satisfied: MarkupSafe>=2.1.1 in c:\\users\\ealbvit\\appdata\\local\\anaconda3\\envs\\redes_neurais\\lib\\site-packages (from werkzeug>=1.0.1->tensorboard<2.14,>=2.13->tensorflow-intel==2.13.0->tensorflow) (2.1.1)\n",
      "Requirement already satisfied: zipp>=0.5 in c:\\users\\ealbvit\\appdata\\local\\anaconda3\\envs\\redes_neurais\\lib\\site-packages (from importlib-metadata>=4.4->markdown>=2.6.8->tensorboard<2.14,>=2.13->tensorflow-intel==2.13.0->tensorflow) (3.11.0)\n",
      "Requirement already satisfied: pyasn1<0.6.0,>=0.4.6 in c:\\users\\ealbvit\\appdata\\local\\anaconda3\\envs\\redes_neurais\\lib\\site-packages (from pyasn1-modules>=0.2.1->google-auth<3,>=1.6.3->tensorboard<2.14,>=2.13->tensorflow-intel==2.13.0->tensorflow) (0.5.0)\n",
      "Requirement already satisfied: oauthlib>=3.0.0 in c:\\users\\ealbvit\\appdata\\local\\anaconda3\\envs\\redes_neurais\\lib\\site-packages (from requests-oauthlib>=0.7.0->google-auth-oauthlib<1.1,>=0.5->tensorboard<2.14,>=2.13->tensorflow-intel==2.13.0->tensorflow) (3.2.2)\n",
      "Downloading mido-1.3.0-py3-none-any.whl (50 kB)\n",
      "   ---------------------------------------- 0.0/50.3 kB ? eta -:--:--\n",
      "   ---------------------------------------- 50.3/50.3 kB 1.3 MB/s eta 0:00:00\n",
      "Building wheels for collected packages: pretty_midi\n",
      "  Building wheel for pretty_midi (setup.py): started\n",
      "  Building wheel for pretty_midi (setup.py): finished with status 'done'\n",
      "  Created wheel for pretty_midi: filename=pretty_midi-0.2.10-py3-none-any.whl size=5592296 sha256=1994640cd129e333a39ff64d680b3a400066a215b04c3d176a85aaed84fb4f42\n",
      "  Stored in directory: c:\\users\\ealbvit\\appdata\\local\\pip\\cache\\wheels\\96\\4a\\bd\\ea2d2c62f684a0bcce6e6d277cb69e4463b5fd372c422c2481\n",
      "Successfully built pretty_midi\n",
      "Installing collected packages: mido, pretty_midi\n",
      "Successfully installed mido-1.3.0 pretty_midi-0.2.10\n"
     ]
    },
    {
     "name": "stderr",
     "output_type": "stream",
     "text": [
      "WARNING: Ignoring invalid distribution -rotobuf (c:\\users\\ealbvit\\appdata\\local\\anaconda3\\envs\\redes_neurais\\lib\\site-packages)\n",
      "WARNING: Ignoring invalid distribution -rotobuf (c:\\users\\ealbvit\\appdata\\local\\anaconda3\\envs\\redes_neurais\\lib\\site-packages)\n"
     ]
    }
   ],
   "source": [
    "!pip install tensorflow pretty_midi\n"
   ]
  },
  {
   "cell_type": "code",
   "execution_count": 2,
   "id": "831b35f8",
   "metadata": {},
   "outputs": [
    {
     "name": "stderr",
     "output_type": "stream",
     "text": [
      "C:\\Users\\ealbvit\\AppData\\Local\\anaconda3\\envs\\redes_neurais\\lib\\site-packages\\pretty_midi\\pretty_midi.py:100: RuntimeWarning: Tempo, Key or Time signature change events found on non-zero tracks.  This is not a valid type 0 or type 1 MIDI file.  Tempo, Key or Time Signature may be wrong.\n",
      "  warnings.warn(\n"
     ]
    }
   ],
   "source": [
    "import os\n",
    "import pretty_midi\n",
    "\n",
    "def ler_arquivos_midi(caminho_pasta):\n",
    "    arquivos_midi = []\n",
    "    for arquivo in os.listdir(caminho_pasta):\n",
    "        if arquivo.endswith('.mid') or arquivo.endswith('.midi'):\n",
    "            caminho = os.path.join(caminho_pasta, arquivo)\n",
    "            midi = pretty_midi.PrettyMIDI(caminho)\n",
    "            arquivos_midi.append(midi)\n",
    "    return arquivos_midi\n",
    "\n",
    "# Caminho para a pasta com arquivos MIDI\n",
    "caminho_pasta_midi = 'midi'\n",
    "musicas_midi = ler_arquivos_midi(caminho_pasta_midi)\n"
   ]
  },
  {
   "cell_type": "code",
   "execution_count": 4,
   "id": "685db6b2",
   "metadata": {},
   "outputs": [],
   "source": [
    "def extrair_notas_e_duracoes(midi_file):\n",
    "    notas_duracoes = []\n",
    "    for instrument in midi_file.instruments:\n",
    "        if not instrument.is_drum:\n",
    "            for nota in instrument.notes:\n",
    "                inicio = nota.start\n",
    "                fim = nota.end\n",
    "                duracao = fim - inicio\n",
    "                nota_duracao = (nota.pitch, duracao)\n",
    "                notas_duracoes.append(nota_duracao)\n",
    "    return notas_duracoes\n",
    "\n",
    "dados_midi = [extrair_notas_e_duracoes(midi) for midi in musicas_midi]\n"
   ]
  },
  {
   "cell_type": "code",
   "execution_count": 9,
   "id": "728a1fb5",
   "metadata": {},
   "outputs": [],
   "source": [
    "tamanho_sequencia = 20  # Número de pares nota-duração na sequência de entrada\n",
    "entradas, saidas = [], []\n",
    "\n",
    "for musica in dados_midi:\n",
    "    for i in range(0, len(musica) - tamanho_sequencia):\n",
    "        entrada = musica[i:i + tamanho_sequencia]\n",
    "        saida = musica[i + tamanho_sequencia]\n",
    "        entradas.append(entrada)\n",
    "        saidas.append(saida)\n"
   ]
  },
  {
   "cell_type": "code",
   "execution_count": 6,
   "id": "f293743e",
   "metadata": {},
   "outputs": [],
   "source": [
    "#1. Mapeamento de Notas e Durações para Índices\n",
    "\n",
    "notas = set()\n",
    "duracoes = set()\n",
    "\n",
    "for musica in dados_midi:\n",
    "    for nota, duracao in musica:\n",
    "        notas.add(nota)\n",
    "        duracoes.add(duracao)\n",
    "\n",
    "# Mapeamento de notas e durações para índices\n",
    "nota_para_indice = {nota: i for i, nota in enumerate(sorted(notas))}\n",
    "duracao_para_indice = {duracao: i for i, duracao in enumerate(sorted(duracoes))}\n"
   ]
  },
  {
   "cell_type": "code",
   "execution_count": 15,
   "id": "4b921d25",
   "metadata": {},
   "outputs": [
    {
     "name": "stderr",
     "output_type": "stream",
     "text": [
      "Processando entradas: 100%|██████████████████████████████████████████████████| 374362/374362 [01:08<00:00, 5453.54it/s]\n",
      "Processando saídas: 100%|██████████████████████████████████████████████████| 374362/374362 [00:03<00:00, 102120.66it/s]\n"
     ]
    }
   ],
   "source": [
    "#One hot encoding \n",
    "\n",
    "import numpy as np\n",
    "\n",
    "entradas = []\n",
    "saidas = []\n",
    "\n",
    "entradas = []\n",
    "saidas = []\n",
    "\n",
    "for musica in dados_midi:\n",
    "    for i in range(0, len(musica) - tamanho_sequencia):\n",
    "        entrada_seq = musica[i:i + tamanho_sequencia]\n",
    "        saida_seq = musica[i + tamanho_sequencia]\n",
    "\n",
    "        entrada = [(nota_para_indice[n], duracao_para_indice[d]) for n, d in entrada_seq]\n",
    "        saida = (nota_para_indice[saida_seq[0]], duracao_para_indice[saida_seq[1]])\n",
    "\n",
    "        entradas.append(entrada)\n",
    "        saidas.append(saida)\n",
    "\n",
    "from scipy.sparse import lil_matrix\n",
    "from tqdm import tqdm\n",
    "\n",
    "# Criar matrizes esparsas para entradas e saídas\n",
    "entradas_one_hot = lil_matrix((len(entradas), tamanho_sequencia * (num_notas + num_duracoes)), dtype='float32')\n",
    "saidas_one_hot = lil_matrix((len(saidas), num_notas + num_duracoes), dtype='float32')\n",
    "\n",
    "# Usando tqdm para mostrar o progresso\n",
    "for i in tqdm(range(len(entradas)), desc=\"Processando entradas\"):\n",
    "    seq = entradas[i]\n",
    "    for j, (nota_indice, duracao_indice) in enumerate(seq):\n",
    "        entradas_one_hot[i, j * (num_notas + num_duracoes) + nota_indice] = 1\n",
    "        entradas_one_hot[i, j * (num_notas + num_duracoes) + num_notas + duracao_indice] = 1\n",
    "\n",
    "for i in tqdm(range(len(saidas)), desc=\"Processando saídas\"):\n",
    "    nota_indice, duracao_indice = saidas[i]\n",
    "    saidas_one_hot[i, nota_indice] = 1\n",
    "    saidas_one_hot[i, num_notas + duracao_indice] = 1\n",
    "\n",
    "    from scipy.sparse import csr_matrix\n",
    "\n",
    "# Suponha que 'entradas_one_hot' e 'saidas_one_hot' são as suas matrizes one-hot\n",
    "entradas_csr = csr_matrix(entradas_one_hot)\n",
    "saidas_csr = csr_matrix(saidas_one_hot)\n"
   ]
  },
  {
   "cell_type": "code",
   "execution_count": 17,
   "id": "d23d2e06",
   "metadata": {},
   "outputs": [],
   "source": [
    "# Definindo o Codificador (Encoder)\n",
    "\n",
    "from tensorflow.keras.layers import Input, LSTM, RepeatVector\n",
    "from tensorflow.keras.models import Model\n",
    "\n",
    "# Definindo o tamanho da sequência de entrada e o número de features\n",
    "tamanho_sequencia = entradas_csr.shape[1]\n",
    "num_features = entradas_csr.shape[1]\n",
    "\n",
    "# Camada de entrada\n",
    "entrada = Input(shape=(tamanho_sequencia, num_features))\n",
    "\n",
    "# Codificador\n",
    "encoder = LSTM(256, return_state=True)\n",
    "encoder_outputs, state_h, state_c = encoder(entrada)\n",
    "\n",
    "# Nós apenas precisamos dos estados, não das saídas\n",
    "encoder_states = [state_h, state_c]\n"
   ]
  },
  {
   "cell_type": "code",
   "execution_count": 18,
   "id": "b0b6c268",
   "metadata": {},
   "outputs": [],
   "source": [
    "#Definindo o Decodificador (Decoder)\n",
    "\n",
    "# Decodificador\n",
    "decoder_lstm = LSTM(256, return_sequences=True, return_state=True)\n",
    "decoder_outputs, _, _ = decoder_lstm(RepeatVector(tamanho_sequencia)(encoder_outputs), initial_state=encoder_states)\n"
   ]
  },
  {
   "cell_type": "code",
   "execution_count": 21,
   "id": "58be01e3",
   "metadata": {},
   "outputs": [],
   "source": [
    "# Construindo o Modelo Completo\n",
    "\n",
    "from tensorflow.keras.layers import Dense\n",
    "\n",
    "decoder_dense = Dense(num_features, activation='softmax')\n",
    "decoder_outputs = decoder_dense(decoder_outputs)\n",
    "\n",
    "# Modelo completo\n",
    "model = Model(entrada, decoder_outputs)\n",
    "\n",
    "# Compilação do modelo\n",
    "model.compile(optimizer='adam', loss='categorical_crossentropy')\n"
   ]
  },
  {
   "cell_type": "code",
   "execution_count": 22,
   "id": "b423ff14",
   "metadata": {},
   "outputs": [
    {
     "name": "stdout",
     "output_type": "stream",
     "text": [
      "Epoch 1/50\n"
     ]
    },
    {
     "ename": "ValueError",
     "evalue": "in user code:\n\n    File \"C:\\Users\\ealbvit\\AppData\\Local\\anaconda3\\envs\\redes_neurais\\lib\\site-packages\\keras\\src\\engine\\training.py\", line 1338, in train_function  *\n        return step_function(self, iterator)\n    File \"C:\\Users\\ealbvit\\AppData\\Local\\anaconda3\\envs\\redes_neurais\\lib\\site-packages\\keras\\src\\engine\\training.py\", line 1322, in step_function  **\n        outputs = model.distribute_strategy.run(run_step, args=(data,))\n    File \"C:\\Users\\ealbvit\\AppData\\Local\\anaconda3\\envs\\redes_neurais\\lib\\site-packages\\keras\\src\\engine\\training.py\", line 1303, in run_step  **\n        outputs = model.train_step(data)\n    File \"C:\\Users\\ealbvit\\AppData\\Local\\anaconda3\\envs\\redes_neurais\\lib\\site-packages\\keras\\src\\engine\\training.py\", line 1080, in train_step\n        y_pred = self(x, training=True)\n    File \"C:\\Users\\ealbvit\\AppData\\Local\\anaconda3\\envs\\redes_neurais\\lib\\site-packages\\keras\\src\\utils\\traceback_utils.py\", line 70, in error_handler\n        raise e.with_traceback(filtered_tb) from None\n    File \"C:\\Users\\ealbvit\\AppData\\Local\\anaconda3\\envs\\redes_neurais\\lib\\site-packages\\keras\\src\\engine\\input_spec.py\", line 235, in assert_input_compatibility\n        raise ValueError(\n\n    ValueError: Exception encountered when calling layer 'model' (type Functional).\n    \n    Input 0 of layer \"lstm\" is incompatible with the layer: expected ndim=3, found ndim=2. Full shape received: (None, 119620)\n    \n    Call arguments received by layer 'model' (type Functional):\n      • inputs=SparseTensor(indices=Tensor(\"DeserializeSparse:0\", shape=(None, 2), dtype=int64), values=Tensor(\"DeserializeSparse:1\", shape=(None,), dtype=float32), dense_shape=Tensor(\"stack:0\", shape=(2,), dtype=int64))\n      • training=True\n      • mask=None\n",
     "output_type": "error",
     "traceback": [
      "\u001b[1;31m---------------------------------------------------------------------------\u001b[0m",
      "\u001b[1;31mValueError\u001b[0m                                Traceback (most recent call last)",
      "Cell \u001b[1;32mIn[22], line 1\u001b[0m\n\u001b[1;32m----> 1\u001b[0m \u001b[43mmodel\u001b[49m\u001b[38;5;241;43m.\u001b[39;49m\u001b[43mfit\u001b[49m\u001b[43m(\u001b[49m\u001b[43mentradas_csr\u001b[49m\u001b[43m,\u001b[49m\u001b[43m \u001b[49m\u001b[43msaidas_csr\u001b[49m\u001b[43m,\u001b[49m\u001b[43m \u001b[49m\u001b[43mbatch_size\u001b[49m\u001b[38;5;241;43m=\u001b[39;49m\u001b[38;5;241;43m64\u001b[39;49m\u001b[43m,\u001b[49m\u001b[43m \u001b[49m\u001b[43mepochs\u001b[49m\u001b[38;5;241;43m=\u001b[39;49m\u001b[38;5;241;43m50\u001b[39;49m\u001b[43m)\u001b[49m\n",
      "File \u001b[1;32m~\\AppData\\Local\\anaconda3\\envs\\redes_neurais\\lib\\site-packages\\keras\\src\\utils\\traceback_utils.py:70\u001b[0m, in \u001b[0;36mfilter_traceback.<locals>.error_handler\u001b[1;34m(*args, **kwargs)\u001b[0m\n\u001b[0;32m     67\u001b[0m     filtered_tb \u001b[38;5;241m=\u001b[39m _process_traceback_frames(e\u001b[38;5;241m.\u001b[39m__traceback__)\n\u001b[0;32m     68\u001b[0m     \u001b[38;5;66;03m# To get the full stack trace, call:\u001b[39;00m\n\u001b[0;32m     69\u001b[0m     \u001b[38;5;66;03m# `tf.debugging.disable_traceback_filtering()`\u001b[39;00m\n\u001b[1;32m---> 70\u001b[0m     \u001b[38;5;28;01mraise\u001b[39;00m e\u001b[38;5;241m.\u001b[39mwith_traceback(filtered_tb) \u001b[38;5;28;01mfrom\u001b[39;00m \u001b[38;5;28;01mNone\u001b[39;00m\n\u001b[0;32m     71\u001b[0m \u001b[38;5;28;01mfinally\u001b[39;00m:\n\u001b[0;32m     72\u001b[0m     \u001b[38;5;28;01mdel\u001b[39;00m filtered_tb\n",
      "File \u001b[1;32m~\\AppData\\Local\\Temp\\__autograph_generated_filefdv6hgms.py:15\u001b[0m, in \u001b[0;36mouter_factory.<locals>.inner_factory.<locals>.tf__train_function\u001b[1;34m(iterator)\u001b[0m\n\u001b[0;32m     13\u001b[0m \u001b[38;5;28;01mtry\u001b[39;00m:\n\u001b[0;32m     14\u001b[0m     do_return \u001b[38;5;241m=\u001b[39m \u001b[38;5;28;01mTrue\u001b[39;00m\n\u001b[1;32m---> 15\u001b[0m     retval_ \u001b[38;5;241m=\u001b[39m ag__\u001b[38;5;241m.\u001b[39mconverted_call(ag__\u001b[38;5;241m.\u001b[39mld(step_function), (ag__\u001b[38;5;241m.\u001b[39mld(\u001b[38;5;28mself\u001b[39m), ag__\u001b[38;5;241m.\u001b[39mld(iterator)), \u001b[38;5;28;01mNone\u001b[39;00m, fscope)\n\u001b[0;32m     16\u001b[0m \u001b[38;5;28;01mexcept\u001b[39;00m:\n\u001b[0;32m     17\u001b[0m     do_return \u001b[38;5;241m=\u001b[39m \u001b[38;5;28;01mFalse\u001b[39;00m\n",
      "\u001b[1;31mValueError\u001b[0m: in user code:\n\n    File \"C:\\Users\\ealbvit\\AppData\\Local\\anaconda3\\envs\\redes_neurais\\lib\\site-packages\\keras\\src\\engine\\training.py\", line 1338, in train_function  *\n        return step_function(self, iterator)\n    File \"C:\\Users\\ealbvit\\AppData\\Local\\anaconda3\\envs\\redes_neurais\\lib\\site-packages\\keras\\src\\engine\\training.py\", line 1322, in step_function  **\n        outputs = model.distribute_strategy.run(run_step, args=(data,))\n    File \"C:\\Users\\ealbvit\\AppData\\Local\\anaconda3\\envs\\redes_neurais\\lib\\site-packages\\keras\\src\\engine\\training.py\", line 1303, in run_step  **\n        outputs = model.train_step(data)\n    File \"C:\\Users\\ealbvit\\AppData\\Local\\anaconda3\\envs\\redes_neurais\\lib\\site-packages\\keras\\src\\engine\\training.py\", line 1080, in train_step\n        y_pred = self(x, training=True)\n    File \"C:\\Users\\ealbvit\\AppData\\Local\\anaconda3\\envs\\redes_neurais\\lib\\site-packages\\keras\\src\\utils\\traceback_utils.py\", line 70, in error_handler\n        raise e.with_traceback(filtered_tb) from None\n    File \"C:\\Users\\ealbvit\\AppData\\Local\\anaconda3\\envs\\redes_neurais\\lib\\site-packages\\keras\\src\\engine\\input_spec.py\", line 235, in assert_input_compatibility\n        raise ValueError(\n\n    ValueError: Exception encountered when calling layer 'model' (type Functional).\n    \n    Input 0 of layer \"lstm\" is incompatible with the layer: expected ndim=3, found ndim=2. Full shape received: (None, 119620)\n    \n    Call arguments received by layer 'model' (type Functional):\n      • inputs=SparseTensor(indices=Tensor(\"DeserializeSparse:0\", shape=(None, 2), dtype=int64), values=Tensor(\"DeserializeSparse:1\", shape=(None,), dtype=float32), dense_shape=Tensor(\"stack:0\", shape=(2,), dtype=int64))\n      • training=True\n      • mask=None\n"
     ]
    }
   ],
   "source": [
    "model.fit(entradas_csr, saidas_csr, batch_size=64, epochs=50)"
   ]
  },
  {
   "cell_type": "code",
   "execution_count": 23,
   "id": "7d25b70f",
   "metadata": {},
   "outputs": [
    {
     "ename": "MemoryError",
     "evalue": "Unable to allocate 167. GiB for an array with shape (374362, 119620) and data type float32",
     "output_type": "error",
     "traceback": [
      "\u001b[1;31m---------------------------------------------------------------------------\u001b[0m",
      "\u001b[1;31mMemoryError\u001b[0m                               Traceback (most recent call last)",
      "Cell \u001b[1;32mIn[23], line 2\u001b[0m\n\u001b[0;32m      1\u001b[0m \u001b[38;5;66;03m# Converter as matrizes esparsas de volta para o formato denso\u001b[39;00m\n\u001b[1;32m----> 2\u001b[0m entradas_dense \u001b[38;5;241m=\u001b[39m \u001b[43mentradas_csr\u001b[49m\u001b[38;5;241;43m.\u001b[39;49m\u001b[43mtodense\u001b[49m\u001b[43m(\u001b[49m\u001b[43m)\u001b[49m\n\u001b[0;32m      3\u001b[0m saidas_dense \u001b[38;5;241m=\u001b[39m saidas_csr\u001b[38;5;241m.\u001b[39mtodense()\n\u001b[0;32m      5\u001b[0m \u001b[38;5;66;03m# Remodelar as entradas para a forma [samples, time steps, features]\u001b[39;00m\n",
      "File \u001b[1;32m~\\AppData\\Local\\anaconda3\\envs\\redes_neurais\\lib\\site-packages\\scipy\\sparse\\_base.py:946\u001b[0m, in \u001b[0;36mspmatrix.todense\u001b[1;34m(self, order, out)\u001b[0m\n\u001b[0;32m    916\u001b[0m \u001b[38;5;28;01mdef\u001b[39;00m \u001b[38;5;21mtodense\u001b[39m(\u001b[38;5;28mself\u001b[39m, order\u001b[38;5;241m=\u001b[39m\u001b[38;5;28;01mNone\u001b[39;00m, out\u001b[38;5;241m=\u001b[39m\u001b[38;5;28;01mNone\u001b[39;00m):\n\u001b[0;32m    917\u001b[0m \u001b[38;5;250m    \u001b[39m\u001b[38;5;124;03m\"\"\"\u001b[39;00m\n\u001b[0;32m    918\u001b[0m \u001b[38;5;124;03m    Return a dense matrix representation of this matrix.\u001b[39;00m\n\u001b[0;32m    919\u001b[0m \n\u001b[1;32m   (...)\u001b[0m\n\u001b[0;32m    944\u001b[0m \u001b[38;5;124;03m        `numpy.matrix` object that shares the same memory.\u001b[39;00m\n\u001b[0;32m    945\u001b[0m \u001b[38;5;124;03m    \"\"\"\u001b[39;00m\n\u001b[1;32m--> 946\u001b[0m     \u001b[38;5;28;01mreturn\u001b[39;00m \u001b[38;5;28mself\u001b[39m\u001b[38;5;241m.\u001b[39m_ascontainer(\u001b[38;5;28;43mself\u001b[39;49m\u001b[38;5;241;43m.\u001b[39;49m\u001b[43mtoarray\u001b[49m\u001b[43m(\u001b[49m\u001b[43morder\u001b[49m\u001b[38;5;241;43m=\u001b[39;49m\u001b[43morder\u001b[49m\u001b[43m,\u001b[49m\u001b[43m \u001b[49m\u001b[43mout\u001b[49m\u001b[38;5;241;43m=\u001b[39;49m\u001b[43mout\u001b[49m\u001b[43m)\u001b[49m)\n",
      "File \u001b[1;32m~\\AppData\\Local\\anaconda3\\envs\\redes_neurais\\lib\\site-packages\\scipy\\sparse\\_compressed.py:1051\u001b[0m, in \u001b[0;36m_cs_matrix.toarray\u001b[1;34m(self, order, out)\u001b[0m\n\u001b[0;32m   1049\u001b[0m \u001b[38;5;28;01mif\u001b[39;00m out \u001b[38;5;129;01mis\u001b[39;00m \u001b[38;5;28;01mNone\u001b[39;00m \u001b[38;5;129;01mand\u001b[39;00m order \u001b[38;5;129;01mis\u001b[39;00m \u001b[38;5;28;01mNone\u001b[39;00m:\n\u001b[0;32m   1050\u001b[0m     order \u001b[38;5;241m=\u001b[39m \u001b[38;5;28mself\u001b[39m\u001b[38;5;241m.\u001b[39m_swap(\u001b[38;5;124m'\u001b[39m\u001b[38;5;124mcf\u001b[39m\u001b[38;5;124m'\u001b[39m)[\u001b[38;5;241m0\u001b[39m]\n\u001b[1;32m-> 1051\u001b[0m out \u001b[38;5;241m=\u001b[39m \u001b[38;5;28;43mself\u001b[39;49m\u001b[38;5;241;43m.\u001b[39;49m\u001b[43m_process_toarray_args\u001b[49m\u001b[43m(\u001b[49m\u001b[43morder\u001b[49m\u001b[43m,\u001b[49m\u001b[43m \u001b[49m\u001b[43mout\u001b[49m\u001b[43m)\u001b[49m\n\u001b[0;32m   1052\u001b[0m \u001b[38;5;28;01mif\u001b[39;00m \u001b[38;5;129;01mnot\u001b[39;00m (out\u001b[38;5;241m.\u001b[39mflags\u001b[38;5;241m.\u001b[39mc_contiguous \u001b[38;5;129;01mor\u001b[39;00m out\u001b[38;5;241m.\u001b[39mflags\u001b[38;5;241m.\u001b[39mf_contiguous):\n\u001b[0;32m   1053\u001b[0m     \u001b[38;5;28;01mraise\u001b[39;00m \u001b[38;5;167;01mValueError\u001b[39;00m(\u001b[38;5;124m'\u001b[39m\u001b[38;5;124mOutput array must be C or F contiguous\u001b[39m\u001b[38;5;124m'\u001b[39m)\n",
      "File \u001b[1;32m~\\AppData\\Local\\anaconda3\\envs\\redes_neurais\\lib\\site-packages\\scipy\\sparse\\_base.py:1298\u001b[0m, in \u001b[0;36mspmatrix._process_toarray_args\u001b[1;34m(self, order, out)\u001b[0m\n\u001b[0;32m   1296\u001b[0m     \u001b[38;5;28;01mreturn\u001b[39;00m out\n\u001b[0;32m   1297\u001b[0m \u001b[38;5;28;01melse\u001b[39;00m:\n\u001b[1;32m-> 1298\u001b[0m     \u001b[38;5;28;01mreturn\u001b[39;00m \u001b[43mnp\u001b[49m\u001b[38;5;241;43m.\u001b[39;49m\u001b[43mzeros\u001b[49m\u001b[43m(\u001b[49m\u001b[38;5;28;43mself\u001b[39;49m\u001b[38;5;241;43m.\u001b[39;49m\u001b[43mshape\u001b[49m\u001b[43m,\u001b[49m\u001b[43m \u001b[49m\u001b[43mdtype\u001b[49m\u001b[38;5;241;43m=\u001b[39;49m\u001b[38;5;28;43mself\u001b[39;49m\u001b[38;5;241;43m.\u001b[39;49m\u001b[43mdtype\u001b[49m\u001b[43m,\u001b[49m\u001b[43m \u001b[49m\u001b[43morder\u001b[49m\u001b[38;5;241;43m=\u001b[39;49m\u001b[43morder\u001b[49m\u001b[43m)\u001b[49m\n",
      "\u001b[1;31mMemoryError\u001b[0m: Unable to allocate 167. GiB for an array with shape (374362, 119620) and data type float32"
     ]
    }
   ],
   "source": []
  },
  {
   "cell_type": "code",
   "execution_count": null,
   "id": "a6c8522b",
   "metadata": {},
   "outputs": [],
   "source": []
  }
 ],
 "metadata": {
  "kernelspec": {
   "display_name": "Python 3 (ipykernel)",
   "language": "python",
   "name": "python3"
  },
  "language_info": {
   "codemirror_mode": {
    "name": "ipython",
    "version": 3
   },
   "file_extension": ".py",
   "mimetype": "text/x-python",
   "name": "python",
   "nbconvert_exporter": "python",
   "pygments_lexer": "ipython3",
   "version": "3.8.18"
  }
 },
 "nbformat": 4,
 "nbformat_minor": 5
}
