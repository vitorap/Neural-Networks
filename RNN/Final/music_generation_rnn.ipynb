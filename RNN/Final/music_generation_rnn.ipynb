{
  "cells": [
    {
      "cell_type": "markdown",
      "metadata": {
        "id": "M4xOsFiu-1-c"
      },
      "source": [
        "# Generate music with an RNN"
      ]
    },
    {
      "cell_type": "markdown",
      "metadata": {
        "id": "hr78EkAY-FFg"
      },
      "source": [
        "This Jupyter notebook presents a comprehensive study on the application of Recurrent Neural Networks (RNNs) for the task of music generation. The document encapsulates the methodology employed in constructing a neural network architecture that is capable of producing musical compositions. Utilizing TensorFlow's computational framework, the work systematically explores the intricacies of sequence modeling and pattern recognition inherent in music synthesis. The procedural narrative includes the formulation of the problem, data preprocessing techniques, model training procedures, and the evaluation of generated musical outputs. This scholarly endeavor aims to contribute to the field of computational creativity by demonstrating the potential of machine learning algorithms in artistic domains such as music"
      ]
    },
    {
      "cell_type": "markdown",
      "metadata": {
        "id": "4ZniYb7Y_0Ey"
      },
      "source": [
        "## Setup"
      ]
    },
    {
      "cell_type": "code",
      "execution_count": 1,
      "metadata": {
        "execution": {
          "iopub.execute_input": "2023-10-27T05:48:48.391602Z",
          "iopub.status.busy": "2023-10-27T05:48:48.391216Z",
          "iopub.status.idle": "2023-10-27T05:49:09.042026Z",
          "shell.execute_reply": "2023-10-27T05:49:09.041092Z"
        },
        "id": "kahm6Z8v_TqC",
        "colab": {
          "base_uri": "https://localhost:8080/"
        },
        "outputId": "afcfe847-6e3a-472a-aeee-4e0467473dd0"
      },
      "outputs": [
        {
          "output_type": "stream",
          "name": "stdout",
          "text": [
            "Requirement already satisfied: pretty_midi in /usr/local/lib/python3.10/dist-packages (0.2.10)\n",
            "Requirement already satisfied: numpy>=1.7.0 in /usr/local/lib/python3.10/dist-packages (from pretty_midi) (1.23.5)\n",
            "Requirement already satisfied: mido>=1.1.16 in /usr/local/lib/python3.10/dist-packages (from pretty_midi) (1.3.2)\n",
            "Requirement already satisfied: six in /usr/local/lib/python3.10/dist-packages (from pretty_midi) (1.16.0)\n",
            "Requirement already satisfied: packaging~=23.1 in /usr/local/lib/python3.10/dist-packages (from mido>=1.1.16->pretty_midi) (23.2)\n",
            "Reading package lists... Done\n",
            "Building dependency tree... Done\n",
            "Reading state information... Done\n",
            "fluidsynth is already the newest version (2.2.5-1).\n",
            "0 upgraded, 0 newly installed, 0 to remove and 24 not upgraded.\n",
            "Requirement already satisfied: pyfluidsynth in /usr/local/lib/python3.10/dist-packages (1.3.2)\n",
            "Requirement already satisfied: numpy in /usr/local/lib/python3.10/dist-packages (from pyfluidsynth) (1.23.5)\n"
          ]
        }
      ],
      "source": [
        "!pip install pretty_midi\n",
        "!sudo apt install -y fluidsynth\n",
        "!pip install --upgrade pyfluidsynth"
      ]
    },
    {
      "cell_type": "code",
      "execution_count": 2,
      "metadata": {
        "execution": {
          "iopub.execute_input": "2023-10-27T05:49:14.360535Z",
          "iopub.status.busy": "2023-10-27T05:49:14.359813Z",
          "iopub.status.idle": "2023-10-27T05:49:17.503487Z",
          "shell.execute_reply": "2023-10-27T05:49:17.502667Z"
        },
        "id": "GsLFq7nsiqcq"
      },
      "outputs": [],
      "source": [
        "import collections\n",
        "import datetime\n",
        "import fluidsynth\n",
        "import glob\n",
        "import numpy as np\n",
        "import pathlib\n",
        "import pandas as pd\n",
        "import pretty_midi\n",
        "import seaborn as sns\n",
        "import tensorflow as tf\n",
        "\n",
        "from IPython import display\n",
        "from matplotlib import pyplot as plt\n",
        "from typing import Optional\n",
        "\n",
        "seed = 42\n",
        "tf.random.set_seed(seed)\n",
        "np.random.seed(seed)\n",
        "\n",
        "# Sampling rate for audio playback\n",
        "_SAMPLING_RATE = 16000"
      ]
    },
    {
      "cell_type": "markdown",
      "metadata": {
        "id": "FzIbfb-Ikgg7"
      },
      "source": [
        "## Import the dataset"
      ]
    },
    {
      "cell_type": "code",
      "execution_count": 3,
      "metadata": {
        "execution": {
          "iopub.execute_input": "2023-10-27T05:49:17.515178Z",
          "iopub.status.busy": "2023-10-27T05:49:17.514526Z",
          "iopub.status.idle": "2023-10-27T05:49:18.943808Z",
          "shell.execute_reply": "2023-10-27T05:49:18.943068Z"
        },
        "id": "mwja4SWmibrL",
        "colab": {
          "base_uri": "https://localhost:8080/"
        },
        "outputId": "7c63cfa5-f8ef-45f6-babb-638cc74029a5"
      },
      "outputs": [
        {
          "output_type": "stream",
          "name": "stdout",
          "text": [
            "The total number of files found is: 48\n"
          ]
        }
      ],
      "source": [
        "data_dir = pathlib.Path('/content/chopin')\n",
        "\n",
        "import glob\n",
        "\n",
        "\n",
        "\n",
        "midi_files = glob.glob(str(data_dir/'*.mid*'))\n",
        "count = len(midi_files)\n",
        "print(f\"The total number of files found is: {count}\")"
      ]
    },
    {
      "cell_type": "markdown",
      "metadata": {
        "id": "KVQfV2hVKB28"
      },
      "source": [
        "## Converting the notes to a DataFrame"
      ]
    },
    {
      "cell_type": "markdown",
      "metadata": {
        "id": "jutzynyqX_GC"
      },
      "source": [
        "In the development of the model, three variables are integral for the representation of a musical note: `pitch`, `step`, and `duration`. The `pitch` corresponds to the MIDI note number, reflecting the perceptual quality of the sound. `Step` is defined as the time interval elapsed since the commencement of the track or the previous note. Lastly, `duration` represents the temporal extent for which the note persists, calculated as the difference between the termination and initiation times of the note."
      ]
    },
    {
      "cell_type": "code",
      "execution_count": 4,
      "metadata": {
        "execution": {
          "iopub.execute_input": "2023-10-27T05:49:22.782152Z",
          "iopub.status.busy": "2023-10-27T05:49:22.781569Z",
          "iopub.status.idle": "2023-10-27T05:49:22.787191Z",
          "shell.execute_reply": "2023-10-27T05:49:22.786583Z"
        },
        "id": "Wyp_wdcEPWby"
      },
      "outputs": [],
      "source": [
        "import pretty_midi\n",
        "import pandas as pd\n",
        "from collections import defaultdict\n",
        "import numpy as np\n",
        "\n",
        "def convert_midi_to_dataframe(midi_path: str) -> pd.DataFrame:\n",
        "    # Load MIDI file\n",
        "    pretty_midi_file = pretty_midi.PrettyMIDI(midi_path)\n",
        "    primary_instrument = pretty_midi_file.instruments[0]\n",
        "\n",
        "    # Extracting note information\n",
        "    note_data = defaultdict(list)\n",
        "    for note in sorted(primary_instrument.notes, key=lambda x: x.start):\n",
        "        note_data['pitch'].append(note.pitch)\n",
        "        note_data['start_time'].append(note.start)\n",
        "        note_data['end_time'].append(note.end)\n",
        "        note_data['duration'].append(note.end - note.start)\n",
        "\n",
        "    # Creating pandas DataFrame from note data\n",
        "    df = pd.DataFrame(note_data)\n",
        "    df['time_step'] = df['start_time'].diff().fillna(0)\n",
        "    return df\n"
      ]
    },
    {
      "cell_type": "code",
      "execution_count": 5,
      "metadata": {
        "execution": {
          "iopub.execute_input": "2023-10-27T05:49:23.081233Z",
          "iopub.status.busy": "2023-10-27T05:49:23.080758Z",
          "iopub.status.idle": "2023-10-27T05:49:23.085712Z",
          "shell.execute_reply": "2023-10-27T05:49:23.085110Z"
        },
        "id": "liD2N7x_WOTp"
      },
      "outputs": [],
      "source": [
        "def plot_piano_roll(notes: pd.DataFrame, count: Optional[int] = None):\n",
        "  if count:\n",
        "    title = f'First {count} notes'\n",
        "  else:\n",
        "    title = f'Whole track'\n",
        "    count = len(notes['pitch'])\n",
        "  plt.figure(figsize=(20, 4))\n",
        "  plot_pitch = np.stack([notes['pitch'], notes['pitch']], axis=0)\n",
        "  plot_start_stop = np.stack([notes['start_time'], notes['end_time']], axis=0)\n",
        "  plt.plot(\n",
        "      plot_start_stop[:, :count], plot_pitch[:, :count], color=\"b\", marker=\".\")\n",
        "  plt.xlabel('Time [s]')\n",
        "  plt.ylabel('Pitch')\n",
        "  _ = plt.title(title)"
      ]
    },
    {
      "cell_type": "markdown",
      "metadata": {
        "id": "gcUyCXYhXeVA"
      },
      "source": [
        "Plot the notes for the entire track."
      ]
    },
    {
      "cell_type": "code",
      "source": [
        "sample_file = midi_files[2]\n",
        "print(sample_file)\n",
        "\n",
        "raw_notes = convert_midi_to_dataframe(sample_file)\n",
        "raw_notes.head(100)"
      ],
      "metadata": {
        "colab": {
          "base_uri": "https://localhost:8080/",
          "height": 441
        },
        "id": "xaDI1tF5PgW8",
        "outputId": "616c53e1-e9f6-4569-aaac-2c379a3e8307"
      },
      "execution_count": 6,
      "outputs": [
        {
          "output_type": "stream",
          "name": "stdout",
          "text": [
            "/content/chopin/chpn-p8.mid\n"
          ]
        },
        {
          "output_type": "execute_result",
          "data": {
            "text/plain": [
              "    pitch  start_time   end_time  duration  time_step\n",
              "0      73    0.083333   0.166360  0.083026   0.000000\n",
              "1      68    0.166360   0.248929  0.082569   0.083026\n",
              "2      71    0.248929   0.331197  0.082267   0.082569\n",
              "3      69    0.331197   0.413015  0.081819   0.082267\n",
              "4      66    0.413015   0.494537  0.081522   0.081819\n",
              "..    ...         ...        ...       ...        ...\n",
              "95     73   10.140684  10.245643  0.104959   0.207641\n",
              "96     73   10.319534  10.393064  0.073529   0.178851\n",
              "97     68   10.393064  10.466235  0.073171   0.073529\n",
              "98     71   10.466235  10.539050  0.072816   0.073171\n",
              "99     69   10.539050  10.611514  0.072464   0.072816\n",
              "\n",
              "[100 rows x 5 columns]"
            ],
            "text/html": [
              "\n",
              "  <div id=\"df-562b5240-257c-498c-96e7-42f67fd3eac2\" class=\"colab-df-container\">\n",
              "    <div>\n",
              "<style scoped>\n",
              "    .dataframe tbody tr th:only-of-type {\n",
              "        vertical-align: middle;\n",
              "    }\n",
              "\n",
              "    .dataframe tbody tr th {\n",
              "        vertical-align: top;\n",
              "    }\n",
              "\n",
              "    .dataframe thead th {\n",
              "        text-align: right;\n",
              "    }\n",
              "</style>\n",
              "<table border=\"1\" class=\"dataframe\">\n",
              "  <thead>\n",
              "    <tr style=\"text-align: right;\">\n",
              "      <th></th>\n",
              "      <th>pitch</th>\n",
              "      <th>start_time</th>\n",
              "      <th>end_time</th>\n",
              "      <th>duration</th>\n",
              "      <th>time_step</th>\n",
              "    </tr>\n",
              "  </thead>\n",
              "  <tbody>\n",
              "    <tr>\n",
              "      <th>0</th>\n",
              "      <td>73</td>\n",
              "      <td>0.083333</td>\n",
              "      <td>0.166360</td>\n",
              "      <td>0.083026</td>\n",
              "      <td>0.000000</td>\n",
              "    </tr>\n",
              "    <tr>\n",
              "      <th>1</th>\n",
              "      <td>68</td>\n",
              "      <td>0.166360</td>\n",
              "      <td>0.248929</td>\n",
              "      <td>0.082569</td>\n",
              "      <td>0.083026</td>\n",
              "    </tr>\n",
              "    <tr>\n",
              "      <th>2</th>\n",
              "      <td>71</td>\n",
              "      <td>0.248929</td>\n",
              "      <td>0.331197</td>\n",
              "      <td>0.082267</td>\n",
              "      <td>0.082569</td>\n",
              "    </tr>\n",
              "    <tr>\n",
              "      <th>3</th>\n",
              "      <td>69</td>\n",
              "      <td>0.331197</td>\n",
              "      <td>0.413015</td>\n",
              "      <td>0.081819</td>\n",
              "      <td>0.082267</td>\n",
              "    </tr>\n",
              "    <tr>\n",
              "      <th>4</th>\n",
              "      <td>66</td>\n",
              "      <td>0.413015</td>\n",
              "      <td>0.494537</td>\n",
              "      <td>0.081522</td>\n",
              "      <td>0.081819</td>\n",
              "    </tr>\n",
              "    <tr>\n",
              "      <th>...</th>\n",
              "      <td>...</td>\n",
              "      <td>...</td>\n",
              "      <td>...</td>\n",
              "      <td>...</td>\n",
              "      <td>...</td>\n",
              "    </tr>\n",
              "    <tr>\n",
              "      <th>95</th>\n",
              "      <td>73</td>\n",
              "      <td>10.140684</td>\n",
              "      <td>10.245643</td>\n",
              "      <td>0.104959</td>\n",
              "      <td>0.207641</td>\n",
              "    </tr>\n",
              "    <tr>\n",
              "      <th>96</th>\n",
              "      <td>73</td>\n",
              "      <td>10.319534</td>\n",
              "      <td>10.393064</td>\n",
              "      <td>0.073529</td>\n",
              "      <td>0.178851</td>\n",
              "    </tr>\n",
              "    <tr>\n",
              "      <th>97</th>\n",
              "      <td>68</td>\n",
              "      <td>10.393064</td>\n",
              "      <td>10.466235</td>\n",
              "      <td>0.073171</td>\n",
              "      <td>0.073529</td>\n",
              "    </tr>\n",
              "    <tr>\n",
              "      <th>98</th>\n",
              "      <td>71</td>\n",
              "      <td>10.466235</td>\n",
              "      <td>10.539050</td>\n",
              "      <td>0.072816</td>\n",
              "      <td>0.073171</td>\n",
              "    </tr>\n",
              "    <tr>\n",
              "      <th>99</th>\n",
              "      <td>69</td>\n",
              "      <td>10.539050</td>\n",
              "      <td>10.611514</td>\n",
              "      <td>0.072464</td>\n",
              "      <td>0.072816</td>\n",
              "    </tr>\n",
              "  </tbody>\n",
              "</table>\n",
              "<p>100 rows × 5 columns</p>\n",
              "</div>\n",
              "    <div class=\"colab-df-buttons\">\n",
              "\n",
              "  <div class=\"colab-df-container\">\n",
              "    <button class=\"colab-df-convert\" onclick=\"convertToInteractive('df-562b5240-257c-498c-96e7-42f67fd3eac2')\"\n",
              "            title=\"Convert this dataframe to an interactive table.\"\n",
              "            style=\"display:none;\">\n",
              "\n",
              "  <svg xmlns=\"http://www.w3.org/2000/svg\" height=\"24px\" viewBox=\"0 -960 960 960\">\n",
              "    <path d=\"M120-120v-720h720v720H120Zm60-500h600v-160H180v160Zm220 220h160v-160H400v160Zm0 220h160v-160H400v160ZM180-400h160v-160H180v160Zm440 0h160v-160H620v160ZM180-180h160v-160H180v160Zm440 0h160v-160H620v160Z\"/>\n",
              "  </svg>\n",
              "    </button>\n",
              "\n",
              "  <style>\n",
              "    .colab-df-container {\n",
              "      display:flex;\n",
              "      gap: 12px;\n",
              "    }\n",
              "\n",
              "    .colab-df-convert {\n",
              "      background-color: #E8F0FE;\n",
              "      border: none;\n",
              "      border-radius: 50%;\n",
              "      cursor: pointer;\n",
              "      display: none;\n",
              "      fill: #1967D2;\n",
              "      height: 32px;\n",
              "      padding: 0 0 0 0;\n",
              "      width: 32px;\n",
              "    }\n",
              "\n",
              "    .colab-df-convert:hover {\n",
              "      background-color: #E2EBFA;\n",
              "      box-shadow: 0px 1px 2px rgba(60, 64, 67, 0.3), 0px 1px 3px 1px rgba(60, 64, 67, 0.15);\n",
              "      fill: #174EA6;\n",
              "    }\n",
              "\n",
              "    .colab-df-buttons div {\n",
              "      margin-bottom: 4px;\n",
              "    }\n",
              "\n",
              "    [theme=dark] .colab-df-convert {\n",
              "      background-color: #3B4455;\n",
              "      fill: #D2E3FC;\n",
              "    }\n",
              "\n",
              "    [theme=dark] .colab-df-convert:hover {\n",
              "      background-color: #434B5C;\n",
              "      box-shadow: 0px 1px 3px 1px rgba(0, 0, 0, 0.15);\n",
              "      filter: drop-shadow(0px 1px 2px rgba(0, 0, 0, 0.3));\n",
              "      fill: #FFFFFF;\n",
              "    }\n",
              "  </style>\n",
              "\n",
              "    <script>\n",
              "      const buttonEl =\n",
              "        document.querySelector('#df-562b5240-257c-498c-96e7-42f67fd3eac2 button.colab-df-convert');\n",
              "      buttonEl.style.display =\n",
              "        google.colab.kernel.accessAllowed ? 'block' : 'none';\n",
              "\n",
              "      async function convertToInteractive(key) {\n",
              "        const element = document.querySelector('#df-562b5240-257c-498c-96e7-42f67fd3eac2');\n",
              "        const dataTable =\n",
              "          await google.colab.kernel.invokeFunction('convertToInteractive',\n",
              "                                                    [key], {});\n",
              "        if (!dataTable) return;\n",
              "\n",
              "        const docLinkHtml = 'Like what you see? Visit the ' +\n",
              "          '<a target=\"_blank\" href=https://colab.research.google.com/notebooks/data_table.ipynb>data table notebook</a>'\n",
              "          + ' to learn more about interactive tables.';\n",
              "        element.innerHTML = '';\n",
              "        dataTable['output_type'] = 'display_data';\n",
              "        await google.colab.output.renderOutput(dataTable, element);\n",
              "        const docLink = document.createElement('div');\n",
              "        docLink.innerHTML = docLinkHtml;\n",
              "        element.appendChild(docLink);\n",
              "      }\n",
              "    </script>\n",
              "  </div>\n",
              "\n",
              "\n",
              "<div id=\"df-ffbe6728-af55-4d84-9cc0-eec766a6a8b7\">\n",
              "  <button class=\"colab-df-quickchart\" onclick=\"quickchart('df-ffbe6728-af55-4d84-9cc0-eec766a6a8b7')\"\n",
              "            title=\"Suggest charts\"\n",
              "            style=\"display:none;\">\n",
              "\n",
              "<svg xmlns=\"http://www.w3.org/2000/svg\" height=\"24px\"viewBox=\"0 0 24 24\"\n",
              "     width=\"24px\">\n",
              "    <g>\n",
              "        <path d=\"M19 3H5c-1.1 0-2 .9-2 2v14c0 1.1.9 2 2 2h14c1.1 0 2-.9 2-2V5c0-1.1-.9-2-2-2zM9 17H7v-7h2v7zm4 0h-2V7h2v10zm4 0h-2v-4h2v4z\"/>\n",
              "    </g>\n",
              "</svg>\n",
              "  </button>\n",
              "\n",
              "<style>\n",
              "  .colab-df-quickchart {\n",
              "      --bg-color: #E8F0FE;\n",
              "      --fill-color: #1967D2;\n",
              "      --hover-bg-color: #E2EBFA;\n",
              "      --hover-fill-color: #174EA6;\n",
              "      --disabled-fill-color: #AAA;\n",
              "      --disabled-bg-color: #DDD;\n",
              "  }\n",
              "\n",
              "  [theme=dark] .colab-df-quickchart {\n",
              "      --bg-color: #3B4455;\n",
              "      --fill-color: #D2E3FC;\n",
              "      --hover-bg-color: #434B5C;\n",
              "      --hover-fill-color: #FFFFFF;\n",
              "      --disabled-bg-color: #3B4455;\n",
              "      --disabled-fill-color: #666;\n",
              "  }\n",
              "\n",
              "  .colab-df-quickchart {\n",
              "    background-color: var(--bg-color);\n",
              "    border: none;\n",
              "    border-radius: 50%;\n",
              "    cursor: pointer;\n",
              "    display: none;\n",
              "    fill: var(--fill-color);\n",
              "    height: 32px;\n",
              "    padding: 0;\n",
              "    width: 32px;\n",
              "  }\n",
              "\n",
              "  .colab-df-quickchart:hover {\n",
              "    background-color: var(--hover-bg-color);\n",
              "    box-shadow: 0 1px 2px rgba(60, 64, 67, 0.3), 0 1px 3px 1px rgba(60, 64, 67, 0.15);\n",
              "    fill: var(--button-hover-fill-color);\n",
              "  }\n",
              "\n",
              "  .colab-df-quickchart-complete:disabled,\n",
              "  .colab-df-quickchart-complete:disabled:hover {\n",
              "    background-color: var(--disabled-bg-color);\n",
              "    fill: var(--disabled-fill-color);\n",
              "    box-shadow: none;\n",
              "  }\n",
              "\n",
              "  .colab-df-spinner {\n",
              "    border: 2px solid var(--fill-color);\n",
              "    border-color: transparent;\n",
              "    border-bottom-color: var(--fill-color);\n",
              "    animation:\n",
              "      spin 1s steps(1) infinite;\n",
              "  }\n",
              "\n",
              "  @keyframes spin {\n",
              "    0% {\n",
              "      border-color: transparent;\n",
              "      border-bottom-color: var(--fill-color);\n",
              "      border-left-color: var(--fill-color);\n",
              "    }\n",
              "    20% {\n",
              "      border-color: transparent;\n",
              "      border-left-color: var(--fill-color);\n",
              "      border-top-color: var(--fill-color);\n",
              "    }\n",
              "    30% {\n",
              "      border-color: transparent;\n",
              "      border-left-color: var(--fill-color);\n",
              "      border-top-color: var(--fill-color);\n",
              "      border-right-color: var(--fill-color);\n",
              "    }\n",
              "    40% {\n",
              "      border-color: transparent;\n",
              "      border-right-color: var(--fill-color);\n",
              "      border-top-color: var(--fill-color);\n",
              "    }\n",
              "    60% {\n",
              "      border-color: transparent;\n",
              "      border-right-color: var(--fill-color);\n",
              "    }\n",
              "    80% {\n",
              "      border-color: transparent;\n",
              "      border-right-color: var(--fill-color);\n",
              "      border-bottom-color: var(--fill-color);\n",
              "    }\n",
              "    90% {\n",
              "      border-color: transparent;\n",
              "      border-bottom-color: var(--fill-color);\n",
              "    }\n",
              "  }\n",
              "</style>\n",
              "\n",
              "  <script>\n",
              "    async function quickchart(key) {\n",
              "      const quickchartButtonEl =\n",
              "        document.querySelector('#' + key + ' button');\n",
              "      quickchartButtonEl.disabled = true;  // To prevent multiple clicks.\n",
              "      quickchartButtonEl.classList.add('colab-df-spinner');\n",
              "      try {\n",
              "        const charts = await google.colab.kernel.invokeFunction(\n",
              "            'suggestCharts', [key], {});\n",
              "      } catch (error) {\n",
              "        console.error('Error during call to suggestCharts:', error);\n",
              "      }\n",
              "      quickchartButtonEl.classList.remove('colab-df-spinner');\n",
              "      quickchartButtonEl.classList.add('colab-df-quickchart-complete');\n",
              "    }\n",
              "    (() => {\n",
              "      let quickchartButtonEl =\n",
              "        document.querySelector('#df-ffbe6728-af55-4d84-9cc0-eec766a6a8b7 button');\n",
              "      quickchartButtonEl.style.display =\n",
              "        google.colab.kernel.accessAllowed ? 'block' : 'none';\n",
              "    })();\n",
              "  </script>\n",
              "</div>\n",
              "\n",
              "    </div>\n",
              "  </div>\n"
            ]
          },
          "metadata": {},
          "execution_count": 6
        }
      ]
    },
    {
      "cell_type": "code",
      "execution_count": 7,
      "metadata": {
        "execution": {
          "iopub.execute_input": "2023-10-27T05:49:23.534716Z",
          "iopub.status.busy": "2023-10-27T05:49:23.534439Z",
          "iopub.status.idle": "2023-10-27T05:49:26.630422Z",
          "shell.execute_reply": "2023-10-27T05:49:26.629758Z"
        },
        "id": "G7l76hEDZX8Z",
        "colab": {
          "base_uri": "https://localhost:8080/",
          "height": 371
        },
        "outputId": "a481534d-9f3b-412a-e002-c908d299b4c2"
      },
      "outputs": [
        {
          "output_type": "display_data",
          "data": {
            "text/plain": [
              "<Figure size 2000x400 with 1 Axes>"
            ],
            "image/png": "[encoded data removed]"
          },
          "metadata": {}
        }
      ],
      "source": [
        "plot_piano_roll(raw_notes)"
      ]
    },
    {
      "cell_type": "markdown",
      "metadata": {
        "id": "poIivompcfS4"
      },
      "source": [
        "## Creating MIDI Files\n",
        "\n",
        "By transforming note information, such as pitch, duration, and timing, into a MIDI file, we are enabled to hear the song."
      ]
    },
    {
      "cell_type": "code",
      "execution_count": 8,
      "metadata": {
        "execution": {
          "iopub.execute_input": "2023-10-27T05:49:27.111241Z",
          "iopub.status.busy": "2023-10-27T05:49:27.110601Z",
          "iopub.status.idle": "2023-10-27T05:49:27.116133Z",
          "shell.execute_reply": "2023-10-27T05:49:27.115497Z"
        },
        "id": "BD5rsMRARYoV"
      },
      "outputs": [],
      "source": [
        "def create_midi_from_notes(\n",
        "    note_dataframe: pd.DataFrame,\n",
        "    target_file: str,\n",
        "    chosen_instrument: str,\n",
        "    note_intensity: int = 100  # Intensity of the note\n",
        ") -> pretty_midi.PrettyMIDI:\n",
        "\n",
        "    midi_creation = pretty_midi.PrettyMIDI()\n",
        "    midi_instrument = pretty_midi.Instrument(\n",
        "        program=pretty_midi.instrument_name_to_program(chosen_instrument))\n",
        "\n",
        "    last_start = 0\n",
        "    for index, single_note in note_dataframe.iterrows():\n",
        "        note_start = last_start + float(single_note['time_step'])\n",
        "        note_end = note_start + float(single_note['duration'])\n",
        "        midi_note = pretty_midi.Note(\n",
        "            velocity=int(note_intensity),\n",
        "            pitch=int(single_note['pitch']),  # Converting pitch to int\n",
        "            start=note_start,\n",
        "            end=note_end,\n",
        "        )\n",
        "        midi_instrument.notes.append(midi_note)\n",
        "        last_start = note_start\n",
        "\n",
        "    midi_creation.instruments.append(midi_instrument)\n",
        "    midi_creation.write(target_file)\n",
        "    return midi_creation\n"
      ]
    },
    {
      "cell_type": "code",
      "execution_count": 9,
      "metadata": {
        "execution": {
          "iopub.execute_input": "2023-10-27T05:49:27.119331Z",
          "iopub.status.busy": "2023-10-27T05:49:27.118817Z",
          "iopub.status.idle": "2023-10-27T05:49:27.428690Z",
          "shell.execute_reply": "2023-10-27T05:49:27.427818Z"
        },
        "id": "wTazLbuWPIPF",
        "colab": {
          "base_uri": "https://localhost:8080/",
          "height": 17
        },
        "outputId": "1c76fe48-f7fe-452b-fe2c-2de6d775dd04"
      },
      "outputs": [
        {
          "output_type": "display_data",
          "data": {
            "text/plain": [
              "<IPython.core.display.Javascript object>"
            ],
            "application/javascript": [
              "\n",
              "    async function download(id, filename, size) {\n",
              "      if (!google.colab.kernel.accessAllowed) {\n",
              "        return;\n",
              "      }\n",
              "      const div = document.createElement('div');\n",
              "      const label = document.createElement('label');\n",
              "      label.textContent = `Downloading \"${filename}\": `;\n",
              "      div.appendChild(label);\n",
              "      const progress = document.createElement('progress');\n",
              "      progress.max = size;\n",
              "      div.appendChild(progress);\n",
              "      document.body.appendChild(div);\n",
              "\n",
              "      const buffers = [];\n",
              "      let downloaded = 0;\n",
              "\n",
              "      const channel = await google.colab.kernel.comms.open(id);\n",
              "      // Send a message to notify the kernel that we're ready.\n",
              "      channel.send({})\n",
              "\n",
              "      for await (const message of channel.messages) {\n",
              "        // Send a message to notify the kernel that we're ready.\n",
              "        channel.send({})\n",
              "        if (message.buffers) {\n",
              "          for (const buffer of message.buffers) {\n",
              "            buffers.push(buffer);\n",
              "            downloaded += buffer.byteLength;\n",
              "            progress.value = downloaded;\n",
              "          }\n",
              "        }\n",
              "      }\n",
              "      const blob = new Blob(buffers, {type: 'application/binary'});\n",
              "      const a = document.createElement('a');\n",
              "      a.href = window.URL.createObjectURL(blob);\n",
              "      a.download = filename;\n",
              "      div.appendChild(a);\n",
              "      a.click();\n",
              "      div.remove();\n",
              "    }\n",
              "  "
            ]
          },
          "metadata": {}
        },
        {
          "output_type": "display_data",
          "data": {
            "text/plain": [
              "<IPython.core.display.Javascript object>"
            ],
            "application/javascript": [
              "download(\"download_7d3c2d2b-df37-4d66-9397-63d080fab4b3\", \"example.midi\", 4665)"
            ]
          },
          "metadata": {}
        }
      ],
      "source": [
        "from google.colab import files\n",
        "\n",
        "example_file = 'example.midi'\n",
        "example_pm = create_midi_from_notes(note_dataframe=raw_notes, target_file=example_file, chosen_instrument='Overdriven Guitar')\n",
        "\n",
        "\n",
        "files.download(example_file)"
      ]
    },
    {
      "cell_type": "markdown",
      "metadata": {
        "id": "pfRNk9tEScuf"
      },
      "source": [
        "## Formulating the Training Dataset\n",
        "In this section, we undertake the task of formulating the training dataset, a pivotal step in the process of training our model. The initial phase involves the extraction of musical notes from MIDI files. For the sake of initial experimentation and to maintain computational efficiency, we commence with a relatively small subset of files. As progress is made, one can incrementally include a larger corpus of MIDI files. It should be noted that this extraction process may require a few minutes, contingent upon the number of files and the complexity of their content."
      ]
    },
    {
      "cell_type": "markdown",
      "metadata": {
        "id": "b77zHR1udDrK"
      },
      "source": [
        "Create the training dataset by extracting notes from the MIDI files. You can start by using a small number of files, and experiment later with more. This may take a couple minutes."
      ]
    },
    {
      "cell_type": "code",
      "execution_count": 10,
      "metadata": {
        "execution": {
          "iopub.execute_input": "2023-10-27T05:49:30.593454Z",
          "iopub.status.busy": "2023-10-27T05:49:30.592666Z",
          "iopub.status.idle": "2023-10-27T05:49:32.530301Z",
          "shell.execute_reply": "2023-10-27T05:49:32.529521Z"
        },
        "id": "GiaQiTnXSW-T",
        "colab": {
          "base_uri": "https://localhost:8080/"
        },
        "outputId": "5dc95687-4f48-4322-f1f0-d3b2e7d4f72b"
      },
      "outputs": [
        {
          "output_type": "stream",
          "name": "stdout",
          "text": [
            "Total number of extracted notes: 40305\n"
          ]
        }
      ],
      "source": [
        "# Define the number of MIDI files to process\n",
        "files_to_process = 200\n",
        "collected_notes = []\n",
        "\n",
        "# Iteratively process each MIDI file and extract notes\n",
        "for file_path in midi_files[:files_to_process]:\n",
        "    extracted_notes = convert_midi_to_dataframe(file_path)\n",
        "    collected_notes.append(extracted_notes)\n",
        "\n",
        "# Consolidate all extracted notes into a single DataFrame\n",
        "consolidated_notes = pd.concat(collected_notes)\n",
        "total_notes_count = len(consolidated_notes)\n",
        "print(f'Total number of extracted notes: {total_notes_count}')\n"
      ]
    },
    {
      "cell_type": "markdown",
      "source": [
        "## Generation of TensorFlow Dataset\n",
        "Following the assembly of the training dataset, the subsequent step is to convert the parsed notes into a TensorFlow dataset.  The tf.data.Dataset structure will be employed to encapsulate our notes data, ensuring  compatibility with TensorFlow's training procedures."
      ],
      "metadata": {
        "id": "ff-c6p-vHtDQ"
      }
    },
    {
      "cell_type": "code",
      "source": [
        "# Define the order of features in our dataset\n",
        "feature_order = ['pitch', 'duration', 'time_step']\n",
        "structured_notes = np.stack([consolidated_notes[feature] for feature in feature_order], axis=1)\n",
        "\n",
        "# Convert the structured array into a TensorFlow dataset\n",
        "training_dataset = tf.data.Dataset.from_tensor_slices(structured_notes)\n",
        "print(training_dataset.element_spec)\n"
      ],
      "metadata": {
        "colab": {
          "base_uri": "https://localhost:8080/"
        },
        "id": "Q7dlWQoUHJ3w",
        "outputId": "a86d355d-5ce5-4ed7-e7d7-5213677197ac"
      },
      "execution_count": 11,
      "outputs": [
        {
          "output_type": "stream",
          "name": "stdout",
          "text": [
            "TensorSpec(shape=(3,), dtype=tf.float64, name=None)\n"
          ]
        }
      ]
    },
    {
      "cell_type": "markdown",
      "metadata": {
        "id": "Sj9SXRCjt3I7"
      },
      "source": [
        "\n",
        "**Enhancing Model Training with Sequential Data**\n",
        "\n",
        "### RNN-Based Learning for Musical Sequences\n",
        "\n",
        "The fundamental aspect of our strategy is to train a model, specifically a Recurrent Neural Network (RNN), on batches of sequential musical note data. Each training example consists of a series of notes, acting as input features, and the immediate subsequent note, serving as the target label. This approach is meticulously crafted to enable the RNN model to discern and predict the forthcoming note in a musical sequence.\n",
        "\n",
        "#### Why RNNs for Music Sequences?\n",
        "\n",
        "RNNs are uniquely suited for sequential data analysis due to their inherent design, which allows them to maintain a 'memory' of previous inputs through internal states. This memory is instrumental in understanding the context in a sequence, making RNNs ideal for applications like music generation where the relevance of a note often depends on preceding notes.\n",
        "\n",
        "Mathematically, the hidden state \\( h_t \\) at time step \\( t \\) in an RNN is updated as follows:\n",
        "\n",
        "\\[ h_t = f(W_{hh}h_{t-1} + W_{xh}x_t + b_h) \\]\n",
        "\n",
        "Where:\n",
        "- \\( h_{t-1} \\) is the previous hidden state.\n",
        "- \\( x_t \\) is the input at time step \\( t \\).\n",
        "- \\( W_{hh} \\) and \\( W_{xh} \\) are the weights.\n",
        "- \\( b_h \\) is the bias.\n",
        "- \\( f \\) is the activation function, often a non-linear function like tanh or ReLU.\n",
        "\n",
        "### Windowing Technique for Structuring Data\n",
        "\n",
        "To adapt our data for RNN training, we employ a windowing technique, whereby each window encapsulates a sequence of notes of a predetermined length (`sequence_length`). This technique segments our dataset into a sequence of input features and their corresponding next-note labels, which is critical for training our RNN.\n",
        "\n",
        "This windowing effectively prepares the dataset for the RNN, allowing the model to learn the temporal dependencies and patterns inherent in music. The sequence length `sequence_length` is a crucial hyperparameter, as it determines the extent of temporal context the model will consider for each prediction.\n",
        "\n",
        "By applying this windowing method, we transform our musical data into a format conducive to the unique strengths of RNNs, setting the stage for effective training and generation of music sequences.\n"
      ]
    },
    {
      "cell_type": "code",
      "source": [
        "def generate_note_sequences(dataset: tf.data.Dataset, sequence_length: int, total_notes: int = 128) -> tf.data.Dataset:\n",
        "    \"\"\"Generates a TensorFlow Dataset of note sequences and corresponding labels.\"\"\"\n",
        "    sequence_length += 1  # Include extra note for labeling\n",
        "\n",
        "    # Create windows of notes\n",
        "    note_windows = dataset.window(sequence_length, shift=1, stride=1, drop_remainder=True)\n",
        "\n",
        "    # Flatten the nested dataset structure\n",
        "    flatten_windows = lambda window: window.batch(sequence_length, drop_remainder=True)\n",
        "    note_sequences = note_windows.flat_map(flatten_windows)\n",
        "\n",
        "    # Function to normalize note pitch\n",
        "    def normalize_pitch(note_sequence):\n",
        "        normalized_sequence = note_sequence / [total_notes, 1.0, 1.0]\n",
        "        return normalized_sequence\n",
        "\n",
        "    # Function to separate inputs and labels\n",
        "    def separate_labels(note_sequence):\n",
        "        input_features = note_sequence[:-1]\n",
        "        label = note_sequence[-1]\n",
        "        label_dict = {feature_name: label[idx] for idx, feature_name in enumerate(['pitch', 'duration', 'time_step'])}\n",
        "\n",
        "        return normalize_pitch(input_features), label_dict\n",
        "\n",
        "    return note_sequences.map(separate_labels, num_parallel_calls=tf.data.AUTOTUNE)\n"
      ],
      "metadata": {
        "id": "BLaaAtPiJHZX"
      },
      "execution_count": 12,
      "outputs": []
    },
    {
      "cell_type": "markdown",
      "metadata": {
        "id": "2xDX5pVkegrv"
      },
      "source": [
        "# Optimal Sequence Length Determination and Vocabulary Size\n",
        "\n",
        "Defining the Sequence Length\n",
        "In the realm of Recurrent Neural Network (RNN) based music generation, the length of the input sequence (denoted as sequence_length) plays a major role in model performance. This length determines the number of notes the RNN will consider when making a prediction about the next note in a sequence. A judicious selection of sequence_length is paramount, as it directly influences the model's ability to capture temporal dependencies in the music data.\n",
        "\n",
        "The vocab_size is set at 128, mirroring the total pitches available in the pretty_midi library, thereby encompassing the entire range of standard MIDI pitches."
      ]
    },
    {
      "cell_type": "code",
      "execution_count": 13,
      "metadata": {
        "execution": {
          "iopub.execute_input": "2023-10-27T05:49:34.755296Z",
          "iopub.status.busy": "2023-10-27T05:49:34.754816Z",
          "iopub.status.idle": "2023-10-27T05:49:34.850722Z",
          "shell.execute_reply": "2023-10-27T05:49:34.850146Z"
        },
        "id": "fGA3VxcFXZ4T",
        "colab": {
          "base_uri": "https://localhost:8080/"
        },
        "outputId": "c337dc1f-feef-4d4d-f855-3dff6742f632"
      },
      "outputs": [
        {
          "output_type": "stream",
          "name": "stdout",
          "text": [
            "(TensorSpec(shape=(64, 3), dtype=tf.float64, name=None), {'pitch': TensorSpec(shape=(), dtype=tf.float64, name=None), 'duration': TensorSpec(shape=(), dtype=tf.float64, name=None), 'time_step': TensorSpec(shape=(), dtype=tf.float64, name=None)})\n"
          ]
        }
      ],
      "source": [
        "# Setting sequence length and vocabulary size\n",
        "sequence_length = 64\n",
        "pitch_vocabulary_size = 128\n",
        "\n",
        "# Generating the note sequences dataset\n",
        "sequence_dataset = generate_note_sequences(training_dataset, sequence_length, pitch_vocabulary_size)\n",
        "print(sequence_dataset.element_spec)\n"
      ]
    },
    {
      "cell_type": "markdown",
      "metadata": {
        "id": "AX9nKmSYetGo"
      },
      "source": [
        "### Estrutura do Dataset e Alvo da Predição\n",
        "A estrutura do dataset, especialmente no contexto de uma RNN, oferece uma compreensão sobre a configuração dos dados de entrada e saída. No nosso caso, a estrutura do dataset (64, 3) indica que o modelo processará 128 conjuntos de 3 valores cada como entrada. Cada conjunto destes representa, respectivamente, a altura da nota (pitch), o intervalo de tempo desde a última nota (step), e a duração da nota (duration). Com isso, o objetivo é prever não apenas a próxima nota em sequência, mas também suas características temporais e de duração. Esta abordagem é fundamental para que a RNN aprenda o padrão de progressão das notas em sequências musicais, incorporando não apenas a melodia, mas também o ritmo e a dinâmica da composição."
      ]
    },
    {
      "cell_type": "markdown",
      "metadata": {
        "id": "kR3TVZZGk5Qq"
      },
      "source": [
        "### Otimização de Dados para Treinamento Eficiente de Modelo RNN\n",
        "\n",
        "#### Configuração de Batching e Performance\n",
        "\n",
        "A preparação eficiente do dataset para treinamento de um modelo RNN envolve a criação de batches e a configuração otimizada de desempenho. O `batch_size` é definido como 128, permitindo que o modelo processe 128 exemplos em cada etapa de treinamento.\n",
        "\n",
        "O `buffer_size`, calculado como o total de notas menos o comprimento da sequência, é usado no embaralhamento do dataset. O embaralhamento é feito na ordem das sequências no dataset, mantendo a ordem das notas dentro de cada sequência. Isso evita o overfitting, garantindo que o modelo aprenda padrões gerais em vez da ordem específica das sequências.\n",
        "\n",
        "O dataset é então configurado para melhorar a velocidade de treinamento, utilizando caching para armazenar os dados em memória após o embaralhamento e batching. O prefetching com `tf.data.experimental.AUTOTUNE` é aplicado para otimizar a pré-busca de dados, aprimorando a eficiência do treinamento."
      ]
    },
    {
      "cell_type": "code",
      "execution_count": 14,
      "metadata": {
        "execution": {
          "iopub.execute_input": "2023-10-27T05:49:34.917542Z",
          "iopub.status.busy": "2023-10-27T05:49:34.916944Z",
          "iopub.status.idle": "2023-10-27T05:49:35.898556Z",
          "shell.execute_reply": "2023-10-27T05:49:35.897869Z"
        },
        "id": "fTpFoiM_AV_Y"
      },
      "outputs": [],
      "source": [
        "# Definição do tamanho do batch e do buffer size\n",
        "batch_size = 128\n",
        "buffer_size = total_notes_count - sequence_length  # Número de itens no dataset\n",
        "\n",
        "# Preparação do dataset de treinamento\n",
        "train_dataset = (sequence_dataset\n",
        "            .shuffle(buffer_size)  # Embaralha os dados utilizando o buffer_size\n",
        "            .batch(batch_size, drop_remainder=True)  # Cria batches de tamanho definido, descartando os dados restantes\n",
        "            .cache()  # Armazena o dataset em cache para acelerar o acesso durante o treinamento\n",
        "            .prefetch(tf.data.experimental.AUTOTUNE))  # Pré-busca dos dados para otimizar o carregamento\n"
      ]
    },
    {
      "cell_type": "code",
      "execution_count": 15,
      "metadata": {
        "execution": {
          "iopub.execute_input": "2023-10-27T05:49:35.902303Z",
          "iopub.status.busy": "2023-10-27T05:49:35.902059Z",
          "iopub.status.idle": "2023-10-27T05:49:35.906779Z",
          "shell.execute_reply": "2023-10-27T05:49:35.906186Z"
        },
        "id": "LySbjV0GzXQu",
        "colab": {
          "base_uri": "https://localhost:8080/"
        },
        "outputId": "dd47f012-2178-4b07-91e6-316780ce41ba"
      },
      "outputs": [
        {
          "output_type": "execute_result",
          "data": {
            "text/plain": [
              "(TensorSpec(shape=(128, 64, 3), dtype=tf.float64, name=None),\n",
              " {'pitch': TensorSpec(shape=(128,), dtype=tf.float64, name=None),\n",
              "  'duration': TensorSpec(shape=(128,), dtype=tf.float64, name=None),\n",
              "  'time_step': TensorSpec(shape=(128,), dtype=tf.float64, name=None)})"
            ]
          },
          "metadata": {},
          "execution_count": 15
        }
      ],
      "source": [
        "train_dataset.element_spec"
      ]
    },
    {
      "cell_type": "markdown",
      "metadata": {
        "id": "cWZmfkshqP8G"
      },
      "source": [
        "## Criação e Treinamento do Modelo\n",
        " ### Estrutura e Função de Perda do Modelo\n",
        "\n",
        " A Huber Loss é uma função de perda robusta que é particularmente eficaz ao lidar com outliers nos dados. Esta função combina as características do erro quadrático médio (MSE) e do erro absoluto médio (MAE), sendo quadrática para erros menores e linear para erros maiores. Essa propriedade torna a Huber Loss uma escolha adequada para a previsão das características step e duration em nosso modelo de RNN, especialmente porque esperamos a presença de outliers. Ao minimizar o impacto desses pontos atípicos, a Huber Loss permite um aprendizado mais estável e confiável.\n",
        "\n",
        " Nesta implementação, a HuberLossPositivePressure é uma classe personalizada que estende a funcionalidade da Huber Loss, adicionando um termo que penaliza as previsões negativas. O parâmetro positive_pressure_weight controla a intensidade dessa penalidade. Esse ajuste é particularmente útil para as características step e duration, onde valores negativos não são desejáveis."
      ]
    },
    {
      "cell_type": "code",
      "execution_count": 16,
      "metadata": {
        "execution": {
          "iopub.execute_input": "2023-10-27T05:49:35.910163Z",
          "iopub.status.busy": "2023-10-27T05:49:35.909617Z",
          "iopub.status.idle": "2023-10-27T05:49:35.913210Z",
          "shell.execute_reply": "2023-10-27T05:49:35.912637Z"
        },
        "id": "erxLOif08e8v",
        "colab": {
          "base_uri": "https://localhost:8080/"
        },
        "outputId": "f7616d53-1016-453f-ef34-8aec81289176"
      },
      "outputs": [
        {
          "output_type": "stream",
          "name": "stdout",
          "text": [
            "Model: \"model\"\n",
            "__________________________________________________________________________________________________\n",
            " Layer (type)                Output Shape                 Param #   Connected to                  \n",
            "==================================================================================================\n",
            " input_1 (InputLayer)        [(None, 64, 3)]              0         []                            \n",
            "                                                                                                  \n",
            " lstm (LSTM)                 (None, 64, 128)              67584     ['input_1[0][0]']             \n",
            "                                                                                                  \n",
            " lstm_1 (LSTM)               (None, 32)                   20608     ['lstm[0][0]']                \n",
            "                                                                                                  \n",
            " duration (Dense)            (None, 1)                    33        ['lstm_1[0][0]']              \n",
            "                                                                                                  \n",
            " pitch (Dense)               (None, 128)                  4224      ['lstm_1[0][0]']              \n",
            "                                                                                                  \n",
            " time_step (Dense)           (None, 1)                    33        ['lstm_1[0][0]']              \n",
            "                                                                                                  \n",
            "==================================================================================================\n",
            "Total params: 92482 (361.26 KB)\n",
            "Trainable params: 92482 (361.26 KB)\n",
            "Non-trainable params: 0 (0.00 Byte)\n",
            "__________________________________________________________________________________________________\n"
          ]
        }
      ],
      "source": [
        "from tensorflow.keras.losses import Loss\n",
        "import tensorflow as tf\n",
        "\n",
        "class HuberLossPositivePressure(Loss):\n",
        "    def __init__(self, delta=1.0, positive_pressure_weight=10.0, **kwargs):\n",
        "        super().__init__(**kwargs)\n",
        "        self.delta = delta\n",
        "        self.positive_pressure_weight = positive_pressure_weight\n",
        "\n",
        "    def call(self, y_true, y_pred):\n",
        "        error = y_true - y_pred\n",
        "        is_small_error = tf.abs(error) <= self.delta\n",
        "        squared_loss = tf.square(error) / 2\n",
        "        linear_loss = self.delta * (tf.abs(error) - self.delta / 2)\n",
        "\n",
        "        loss = tf.where(is_small_error, squared_loss, linear_loss)\n",
        "        positive_pressure = self.positive_pressure_weight * tf.maximum(-y_pred, 0.0)\n",
        "\n",
        "        return tf.reduce_mean(loss + positive_pressure)\n",
        "\n",
        "# Uso da HuberLossPositivePressure personalizada\n",
        "input_shape = (sequence_length, 3)\n",
        "learning_rate = 0.01\n",
        "\n",
        "inputs = tf.keras.Input(input_shape)\n",
        "\n",
        "# Primeira camada LSTM com return_sequences=True\n",
        "x = tf.keras.layers.LSTM(128, return_sequences=True)(inputs)\n",
        "\n",
        "# Segunda camada LSTM\n",
        "x = tf.keras.layers.LSTM(32)(x)\n",
        "\n",
        "# Camadas de saída\n",
        "outputs = {\n",
        "  'pitch': tf.keras.layers.Dense(128, name='pitch')(x),\n",
        "  'duration': tf.keras.layers.Dense(1, name='duration')(x),\n",
        "  'time_step': tf.keras.layers.Dense(1, name='time_step')(x),\n",
        "}\n",
        "\n",
        "model = tf.keras.Model(inputs, outputs)\n",
        "\n",
        "loss = {\n",
        "    'pitch': tf.keras.losses.SparseCategoricalCrossentropy(from_logits=True),\n",
        "    'duration': HuberLossPositivePressure(),\n",
        "    'time_step': HuberLossPositivePressure(),\n",
        "}\n",
        "\n",
        "optimizer = tf.keras.optimizers.Adam(learning_rate=learning_rate)\n",
        "\n",
        "model.compile(loss=loss, optimizer=optimizer)\n",
        "\n",
        "model.summary()\n"
      ]
    },
    {
      "cell_type": "markdown",
      "metadata": {
        "id": "VDL0Jypt3eU5"
      },
      "source": [
        "Vamos avaliar o modelo antes do treinamento\n"
      ]
    },
    {
      "cell_type": "code",
      "execution_count": 17,
      "metadata": {
        "execution": {
          "iopub.execute_input": "2023-10-27T05:49:36.329835Z",
          "iopub.status.busy": "2023-10-27T05:49:36.329196Z",
          "iopub.status.idle": "2023-10-27T05:49:39.968077Z",
          "shell.execute_reply": "2023-10-27T05:49:39.967243Z"
        },
        "id": "BlATt7Rl0XJl",
        "colab": {
          "base_uri": "https://localhost:8080/"
        },
        "outputId": "e18d3f06-2b53-416c-b795-b36d0275bd3a"
      },
      "outputs": [
        {
          "output_type": "stream",
          "name": "stdout",
          "text": [
            "314/314 [==============================] - 26s 6ms/step - loss: 5.6069 - duration_loss: 0.6972 - pitch_loss: 4.8459 - time_step_loss: 0.0638\n"
          ]
        },
        {
          "output_type": "execute_result",
          "data": {
            "text/plain": [
              "{'loss': 5.606943130493164,\n",
              " 'duration_loss': 0.6971966624259949,\n",
              " 'pitch_loss': 4.845920085906982,\n",
              " 'time_step_loss': 0.06382777541875839}"
            ]
          },
          "metadata": {},
          "execution_count": 17
        }
      ],
      "source": [
        "losses = model.evaluate(train_dataset, return_dict=True)\n",
        "losses"
      ]
    },
    {
      "cell_type": "markdown",
      "metadata": {
        "id": "KLvNLvtR3W59"
      },
      "source": [
        "Vamos usar pesos para balancear a funcao de perda e entao avaliar novamente\n"
      ]
    },
    {
      "cell_type": "code",
      "execution_count": 18,
      "metadata": {
        "execution": {
          "iopub.execute_input": "2023-10-27T05:49:39.971964Z",
          "iopub.status.busy": "2023-10-27T05:49:39.971339Z",
          "iopub.status.idle": "2023-10-27T05:49:39.980154Z",
          "shell.execute_reply": "2023-10-27T05:49:39.979557Z"
        },
        "id": "9fQB5SiN3ufX",
        "colab": {
          "base_uri": "https://localhost:8080/"
        },
        "outputId": "61967361-7350-4f7e-9c31-d0479a6c0eb6"
      },
      "outputs": [
        {
          "output_type": "stream",
          "name": "stdout",
          "text": [
            "314/314 [==============================] - 3s 6ms/step - loss: 1.2456 - duration_loss: 0.6972 - pitch_loss: 4.8459 - time_step_loss: 0.0638\n"
          ]
        },
        {
          "output_type": "execute_result",
          "data": {
            "text/plain": [
              "{'loss': 1.2456164360046387,\n",
              " 'duration_loss': 0.6971966624259949,\n",
              " 'pitch_loss': 4.845920085906982,\n",
              " 'time_step_loss': 0.06382777541875839}"
            ]
          },
          "metadata": {},
          "execution_count": 18
        }
      ],
      "source": [
        "model.compile(\n",
        "    loss=loss,\n",
        "    loss_weights={\n",
        "        'pitch': 0.1,\n",
        "        'step': 1,\n",
        "        'duration':1,\n",
        "    },\n",
        "    optimizer=optimizer,\n",
        ")\n",
        "\n",
        "model.evaluate(train_dataset, return_dict=True)"
      ]
    },
    {
      "cell_type": "markdown",
      "metadata": {
        "id": "SJbn7HZgfosr"
      },
      "source": [
        "## Treinar o modelo"
      ]
    },
    {
      "cell_type": "code",
      "execution_count": 19,
      "metadata": {
        "execution": {
          "iopub.execute_input": "2023-10-27T05:49:41.533240Z",
          "iopub.status.busy": "2023-10-27T05:49:41.532589Z",
          "iopub.status.idle": "2023-10-27T05:49:41.536815Z",
          "shell.execute_reply": "2023-10-27T05:49:41.536131Z"
        },
        "id": "uQA_rwKEgPjp"
      },
      "outputs": [],
      "source": [
        "training_callbacks = [\n",
        "    tf.keras.callbacks.ModelCheckpoint(\n",
        "        filepath='./model_checkpoints/checkpoint_epoch_{epoch}',\n",
        "        save_weights_only=True,\n",
        "        save_best_only=True,\n",
        "        monitor='loss',\n",
        "        mode='min'),\n",
        "    tf.keras.callbacks.EarlyStopping(\n",
        "        monitor='loss',\n",
        "        min_delta=0.001,\n",
        "        patience=10,\n",
        "        verbose=2,\n",
        "        mode='min',\n",
        "        restore_best_weights=False)\n",
        "]\n"
      ]
    },
    {
      "cell_type": "code",
      "source": [
        "# para checar se estamos conectados a GPU.\n",
        "# reduzi treinamento de 3h para 6 minutos com a GPU.\n",
        "\n",
        "!nvidia-smi\n",
        "\n",
        "\n"
      ],
      "metadata": {
        "colab": {
          "base_uri": "https://localhost:8080/"
        },
        "id": "IqQT4Fe0a1bK",
        "outputId": "16dd3709-c408-4121-93ca-5d6e0f769063"
      },
      "execution_count": 20,
      "outputs": [
        {
          "output_type": "stream",
          "name": "stdout",
          "text": [
            "Wed Dec 20 17:36:11 2023       \n",
            "+---------------------------------------------------------------------------------------+\n",
            "| NVIDIA-SMI 535.104.05             Driver Version: 535.104.05   CUDA Version: 12.2     |\n",
            "|-----------------------------------------+----------------------+----------------------+\n",
            "| GPU  Name                 Persistence-M | Bus-Id        Disp.A | Volatile Uncorr. ECC |\n",
            "| Fan  Temp   Perf          Pwr:Usage/Cap |         Memory-Usage | GPU-Util  Compute M. |\n",
            "|                                         |                      |               MIG M. |\n",
            "|=========================================+======================+======================|\n",
            "|   0  Tesla T4                       Off | 00000000:00:04.0 Off |                    0 |\n",
            "| N/A   73C    P0              45W /  70W |    203MiB / 15360MiB |     31%      Default |\n",
            "|                                         |                      |                  N/A |\n",
            "+-----------------------------------------+----------------------+----------------------+\n",
            "                                                                                         \n",
            "+---------------------------------------------------------------------------------------+\n",
            "| Processes:                                                                            |\n",
            "|  GPU   GI   CI        PID   Type   Process name                            GPU Memory |\n",
            "|        ID   ID                                                             Usage      |\n",
            "|=======================================================================================|\n",
            "+---------------------------------------------------------------------------------------+\n"
          ]
        }
      ]
    },
    {
      "cell_type": "code",
      "execution_count": 21,
      "metadata": {
        "execution": {
          "iopub.execute_input": "2023-10-27T05:49:41.540069Z",
          "iopub.status.busy": "2023-10-27T05:49:41.539587Z",
          "iopub.status.idle": "2023-10-27T05:50:35.597977Z",
          "shell.execute_reply": "2023-10-27T05:50:35.597181Z"
        },
        "id": "aLoYY8-XaPFN",
        "colab": {
          "base_uri": "https://localhost:8080/"
        },
        "outputId": "39de9f9e-7457-4252-924e-2df0608ae5ce"
      },
      "outputs": [
        {
          "output_type": "stream",
          "name": "stdout",
          "text": [
            "Epoch 1/500\n",
            "314/314 [==============================] - 8s 10ms/step - loss: 0.4666 - duration_loss: 0.0484 - pitch_loss: 3.7677 - time_step_loss: 0.0415\n",
            "Epoch 2/500\n",
            "314/314 [==============================] - 3s 9ms/step - loss: 0.4187 - duration_loss: 0.0390 - pitch_loss: 3.4568 - time_step_loss: 0.0340\n",
            "Epoch 3/500\n",
            "314/314 [==============================] - 3s 10ms/step - loss: 0.3862 - duration_loss: 0.0380 - pitch_loss: 3.1749 - time_step_loss: 0.0307\n",
            "Epoch 4/500\n",
            "314/314 [==============================] - 3s 9ms/step - loss: 0.3755 - duration_loss: 0.0368 - pitch_loss: 3.1079 - time_step_loss: 0.0279\n",
            "Epoch 5/500\n",
            "314/314 [==============================] - 3s 9ms/step - loss: 0.3691 - duration_loss: 0.0358 - pitch_loss: 3.0695 - time_step_loss: 0.0263\n",
            "Epoch 6/500\n",
            "314/314 [==============================] - 3s 10ms/step - loss: 0.3643 - duration_loss: 0.0347 - pitch_loss: 3.0411 - time_step_loss: 0.0255\n",
            "Epoch 7/500\n",
            "314/314 [==============================] - 3s 10ms/step - loss: 0.3584 - duration_loss: 0.0336 - pitch_loss: 3.0014 - time_step_loss: 0.0247\n",
            "Epoch 8/500\n",
            "314/314 [==============================] - 3s 9ms/step - loss: 0.3517 - duration_loss: 0.0324 - pitch_loss: 2.9559 - time_step_loss: 0.0237\n",
            "Epoch 9/500\n",
            "314/314 [==============================] - 3s 9ms/step - loss: 0.3505 - duration_loss: 0.0319 - pitch_loss: 2.9464 - time_step_loss: 0.0239\n",
            "Epoch 10/500\n",
            "314/314 [==============================] - 4s 11ms/step - loss: 0.3436 - duration_loss: 0.0305 - pitch_loss: 2.9002 - time_step_loss: 0.0231\n",
            "Epoch 11/500\n",
            "314/314 [==============================] - 3s 9ms/step - loss: 0.3363 - duration_loss: 0.0297 - pitch_loss: 2.8400 - time_step_loss: 0.0226\n",
            "Epoch 12/500\n",
            "314/314 [==============================] - 5s 15ms/step - loss: 0.3302 - duration_loss: 0.0291 - pitch_loss: 2.7892 - time_step_loss: 0.0222\n",
            "Epoch 13/500\n",
            "314/314 [==============================] - 3s 10ms/step - loss: 0.3232 - duration_loss: 0.0278 - pitch_loss: 2.7386 - time_step_loss: 0.0216\n",
            "Epoch 14/500\n",
            "314/314 [==============================] - 3s 9ms/step - loss: 0.3180 - duration_loss: 0.0275 - pitch_loss: 2.6903 - time_step_loss: 0.0215\n",
            "Epoch 15/500\n",
            "314/314 [==============================] - 3s 9ms/step - loss: 0.3112 - duration_loss: 0.0263 - pitch_loss: 2.6387 - time_step_loss: 0.0210\n",
            "Epoch 16/500\n",
            "314/314 [==============================] - 4s 12ms/step - loss: 0.3059 - duration_loss: 0.0258 - pitch_loss: 2.5907 - time_step_loss: 0.0209\n",
            "Epoch 17/500\n",
            "314/314 [==============================] - 3s 10ms/step - loss: 0.3007 - duration_loss: 0.0253 - pitch_loss: 2.5477 - time_step_loss: 0.0206\n",
            "Epoch 18/500\n",
            "314/314 [==============================] - 3s 9ms/step - loss: 0.2969 - duration_loss: 0.0250 - pitch_loss: 2.5160 - time_step_loss: 0.0204\n",
            "Epoch 19/500\n",
            "314/314 [==============================] - 4s 12ms/step - loss: 0.2907 - duration_loss: 0.0238 - pitch_loss: 2.4666 - time_step_loss: 0.0203\n",
            "Epoch 20/500\n",
            "314/314 [==============================] - 3s 9ms/step - loss: 0.2873 - duration_loss: 0.0236 - pitch_loss: 2.4371 - time_step_loss: 0.0199\n",
            "Epoch 21/500\n",
            "314/314 [==============================] - 3s 9ms/step - loss: 0.2802 - duration_loss: 0.0217 - pitch_loss: 2.3873 - time_step_loss: 0.0198\n",
            "Epoch 22/500\n",
            "314/314 [==============================] - 3s 9ms/step - loss: 0.2754 - duration_loss: 0.0214 - pitch_loss: 2.3490 - time_step_loss: 0.0191\n",
            "Epoch 23/500\n",
            "314/314 [==============================] - 3s 10ms/step - loss: 0.2751 - duration_loss: 0.0219 - pitch_loss: 2.3373 - time_step_loss: 0.0195\n",
            "Epoch 24/500\n",
            "314/314 [==============================] - 3s 9ms/step - loss: 0.2724 - duration_loss: 0.0211 - pitch_loss: 2.3238 - time_step_loss: 0.0189\n",
            "Epoch 25/500\n",
            "314/314 [==============================] - 3s 10ms/step - loss: 0.2660 - duration_loss: 0.0204 - pitch_loss: 2.2675 - time_step_loss: 0.0189\n",
            "Epoch 26/500\n",
            "314/314 [==============================] - 3s 9ms/step - loss: 0.2633 - duration_loss: 0.0202 - pitch_loss: 2.2413 - time_step_loss: 0.0189\n",
            "Epoch 27/500\n",
            "314/314 [==============================] - 3s 9ms/step - loss: 0.2592 - duration_loss: 0.0195 - pitch_loss: 2.2142 - time_step_loss: 0.0183\n",
            "Epoch 28/500\n",
            "314/314 [==============================] - 3s 9ms/step - loss: 0.2574 - duration_loss: 0.0199 - pitch_loss: 2.1895 - time_step_loss: 0.0185\n",
            "Epoch 29/500\n",
            "314/314 [==============================] - 3s 10ms/step - loss: 0.2545 - duration_loss: 0.0196 - pitch_loss: 2.1650 - time_step_loss: 0.0185\n",
            "Epoch 30/500\n",
            "314/314 [==============================] - 3s 9ms/step - loss: 0.2505 - duration_loss: 0.0194 - pitch_loss: 2.1328 - time_step_loss: 0.0179\n",
            "Epoch 31/500\n",
            "314/314 [==============================] - 3s 9ms/step - loss: 0.2476 - duration_loss: 0.0186 - pitch_loss: 2.1103 - time_step_loss: 0.0180\n",
            "Epoch 32/500\n",
            "314/314 [==============================] - 3s 9ms/step - loss: 0.2452 - duration_loss: 0.0183 - pitch_loss: 2.0923 - time_step_loss: 0.0177\n",
            "Epoch 33/500\n",
            "314/314 [==============================] - 3s 11ms/step - loss: 0.2405 - duration_loss: 0.0173 - pitch_loss: 2.0561 - time_step_loss: 0.0176\n",
            "Epoch 34/500\n",
            "314/314 [==============================] - 3s 11ms/step - loss: 0.2395 - duration_loss: 0.0178 - pitch_loss: 2.0425 - time_step_loss: 0.0174\n",
            "Epoch 35/500\n",
            "314/314 [==============================] - 3s 10ms/step - loss: 0.2359 - duration_loss: 0.0177 - pitch_loss: 2.0088 - time_step_loss: 0.0173\n",
            "Epoch 36/500\n",
            "314/314 [==============================] - 3s 9ms/step - loss: 0.2318 - duration_loss: 0.0167 - pitch_loss: 1.9810 - time_step_loss: 0.0170\n",
            "Epoch 37/500\n",
            "314/314 [==============================] - 3s 9ms/step - loss: 0.2303 - duration_loss: 0.0170 - pitch_loss: 1.9640 - time_step_loss: 0.0169\n",
            "Epoch 38/500\n",
            "314/314 [==============================] - 3s 10ms/step - loss: 0.2309 - duration_loss: 0.0171 - pitch_loss: 1.9684 - time_step_loss: 0.0169\n",
            "Epoch 39/500\n",
            "314/314 [==============================] - 3s 10ms/step - loss: 0.2238 - duration_loss: 0.0161 - pitch_loss: 1.9110 - time_step_loss: 0.0166\n",
            "Epoch 40/500\n",
            "314/314 [==============================] - 3s 9ms/step - loss: 0.2243 - duration_loss: 0.0161 - pitch_loss: 1.9214 - time_step_loss: 0.0160\n",
            "Epoch 41/500\n",
            "314/314 [==============================] - 3s 9ms/step - loss: 0.2300 - duration_loss: 0.0172 - pitch_loss: 1.9541 - time_step_loss: 0.0174\n",
            "Epoch 42/500\n",
            "314/314 [==============================] - 4s 11ms/step - loss: 0.2240 - duration_loss: 0.0169 - pitch_loss: 1.9032 - time_step_loss: 0.0167\n",
            "Epoch 43/500\n",
            "314/314 [==============================] - 3s 9ms/step - loss: 0.2171 - duration_loss: 0.0160 - pitch_loss: 1.8481 - time_step_loss: 0.0163\n",
            "Epoch 44/500\n",
            "314/314 [==============================] - 3s 9ms/step - loss: 0.2144 - duration_loss: 0.0151 - pitch_loss: 1.8338 - time_step_loss: 0.0159\n",
            "Epoch 45/500\n",
            "314/314 [==============================] - 3s 9ms/step - loss: 0.2141 - duration_loss: 0.0154 - pitch_loss: 1.8270 - time_step_loss: 0.0159\n",
            "Epoch 46/500\n",
            "314/314 [==============================] - 4s 13ms/step - loss: 0.2099 - duration_loss: 0.0149 - pitch_loss: 1.7942 - time_step_loss: 0.0156\n",
            "Epoch 47/500\n",
            "314/314 [==============================] - 3s 9ms/step - loss: 0.2109 - duration_loss: 0.0159 - pitch_loss: 1.7899 - time_step_loss: 0.0160\n",
            "Epoch 48/500\n",
            "314/314 [==============================] - 3s 9ms/step - loss: 0.2078 - duration_loss: 0.0148 - pitch_loss: 1.7727 - time_step_loss: 0.0158\n",
            "Epoch 49/500\n",
            "314/314 [==============================] - 3s 10ms/step - loss: 0.2059 - duration_loss: 0.0149 - pitch_loss: 1.7537 - time_step_loss: 0.0156\n",
            "Epoch 50/500\n",
            "314/314 [==============================] - 3s 10ms/step - loss: 0.2053 - duration_loss: 0.0150 - pitch_loss: 1.7426 - time_step_loss: 0.0160\n",
            "Epoch 51/500\n",
            "314/314 [==============================] - 3s 9ms/step - loss: 0.2016 - duration_loss: 0.0146 - pitch_loss: 1.7147 - time_step_loss: 0.0155\n",
            "Epoch 52/500\n",
            "314/314 [==============================] - 3s 11ms/step - loss: 0.2039 - duration_loss: 0.0153 - pitch_loss: 1.7293 - time_step_loss: 0.0156\n",
            "Epoch 53/500\n",
            "314/314 [==============================] - 3s 9ms/step - loss: 0.1986 - duration_loss: 0.0142 - pitch_loss: 1.6879 - time_step_loss: 0.0156\n",
            "Epoch 54/500\n",
            "314/314 [==============================] - 3s 9ms/step - loss: 0.1945 - duration_loss: 0.0137 - pitch_loss: 1.6595 - time_step_loss: 0.0149\n",
            "Epoch 55/500\n",
            "314/314 [==============================] - 3s 9ms/step - loss: 0.1966 - duration_loss: 0.0144 - pitch_loss: 1.6712 - time_step_loss: 0.0151\n",
            "Epoch 56/500\n",
            "314/314 [==============================] - 3s 11ms/step - loss: 0.1947 - duration_loss: 0.0142 - pitch_loss: 1.6556 - time_step_loss: 0.0150\n",
            "Epoch 57/500\n",
            "314/314 [==============================] - 3s 9ms/step - loss: 0.1932 - duration_loss: 0.0138 - pitch_loss: 1.6448 - time_step_loss: 0.0149\n",
            "Epoch 58/500\n",
            "314/314 [==============================] - 3s 9ms/step - loss: 0.1946 - duration_loss: 0.0141 - pitch_loss: 1.6493 - time_step_loss: 0.0156\n",
            "Epoch 59/500\n",
            "314/314 [==============================] - 3s 9ms/step - loss: 0.1956 - duration_loss: 0.0150 - pitch_loss: 1.6536 - time_step_loss: 0.0153\n",
            "Epoch 60/500\n",
            "314/314 [==============================] - 3s 9ms/step - loss: 0.1908 - duration_loss: 0.0142 - pitch_loss: 1.6193 - time_step_loss: 0.0147\n",
            "Epoch 61/500\n",
            "314/314 [==============================] - 3s 9ms/step - loss: 0.1873 - duration_loss: 0.0131 - pitch_loss: 1.5973 - time_step_loss: 0.0145\n",
            "Epoch 62/500\n",
            "314/314 [==============================] - 3s 10ms/step - loss: 0.1857 - duration_loss: 0.0130 - pitch_loss: 1.5833 - time_step_loss: 0.0144\n",
            "Epoch 63/500\n",
            "314/314 [==============================] - 3s 10ms/step - loss: 0.1881 - duration_loss: 0.0138 - pitch_loss: 1.5956 - time_step_loss: 0.0147\n",
            "Epoch 64/500\n",
            "314/314 [==============================] - 3s 9ms/step - loss: 0.1955 - duration_loss: 0.0153 - pitch_loss: 1.6502 - time_step_loss: 0.0153\n",
            "Epoch 65/500\n",
            "314/314 [==============================] - 3s 11ms/step - loss: 0.1874 - duration_loss: 0.0142 - pitch_loss: 1.5817 - time_step_loss: 0.0151\n",
            "Epoch 66/500\n",
            "314/314 [==============================] - 3s 9ms/step - loss: 0.4332 - duration_loss: 0.0496 - pitch_loss: 3.4673 - time_step_loss: 0.0369\n",
            "Epoch 67/500\n",
            "314/314 [==============================] - 3s 9ms/step - loss: 0.4540 - duration_loss: 0.0458 - pitch_loss: 3.7011 - time_step_loss: 0.0381\n",
            "Epoch 68/500\n",
            "314/314 [==============================] - 3s 9ms/step - loss: 0.4487 - duration_loss: 0.0432 - pitch_loss: 3.6792 - time_step_loss: 0.0375\n",
            "Epoch 69/500\n",
            "314/314 [==============================] - 4s 12ms/step - loss: 0.4453 - duration_loss: 0.0423 - pitch_loss: 3.6573 - time_step_loss: 0.0373\n",
            "Epoch 70/500\n",
            "314/314 [==============================] - 3s 9ms/step - loss: 0.4433 - duration_loss: 0.0417 - pitch_loss: 3.6443 - time_step_loss: 0.0372\n",
            "Epoch 71/500\n",
            "314/314 [==============================] - 3s 9ms/step - loss: 0.4414 - duration_loss: 0.0412 - pitch_loss: 3.6308 - time_step_loss: 0.0371\n",
            "Epoch 72/500\n",
            "314/314 [==============================] - 3s 11ms/step - loss: 0.4380 - duration_loss: 0.0409 - pitch_loss: 3.6005 - time_step_loss: 0.0371\n",
            "Epoch 72: early stopping\n",
            "Tempo total de treinamento: 276.46 segundos\n"
          ]
        }
      ],
      "source": [
        "import time\n",
        "\n",
        "# Iniciar a medição do tempo\n",
        "start_time = time.time()\n",
        "\n",
        "# Definindo o número de épocas\n",
        "total_epochs = 500\n",
        "\n",
        "# Treinando o modelo\n",
        "training_history = model.fit(\n",
        "    train_dataset,\n",
        "    epochs=total_epochs,\n",
        "    callbacks=training_callbacks,  # Supondo que a lista de callbacks foi renomeada\n",
        ")\n",
        "\n",
        "# Calculando o tempo total de treinamento\n",
        "elapsed_time = time.time() - start_time\n",
        "print(f\"Tempo total de treinamento: {elapsed_time:.2f} segundos\")\n"
      ]
    },
    {
      "cell_type": "code",
      "execution_count": 22,
      "metadata": {
        "execution": {
          "iopub.execute_input": "2023-10-27T05:50:35.601477Z",
          "iopub.status.busy": "2023-10-27T05:50:35.600923Z",
          "iopub.status.idle": "2023-10-27T05:50:35.703594Z",
          "shell.execute_reply": "2023-10-27T05:50:35.703004Z"
        },
        "id": "PYBSjgDWiUfT",
        "colab": {
          "base_uri": "https://localhost:8080/",
          "height": 412
        },
        "outputId": "c02c5a6a-1399-46a1-bbea-61ee8f512f6a"
      },
      "outputs": [
        {
          "output_type": "display_data",
          "data": {
            "text/plain": [
              "<Figure size 800x400 with 1 Axes>"
            ],
            "image/png": "[encoded data removed]"
          },
          "metadata": {}
        }
      ],
      "source": [
        "import matplotlib.pyplot as plt\n",
        "\n",
        "# Preparando os dados para plotagem\n",
        "epochs = training_history.epoch\n",
        "total_loss = training_history.history['loss']\n",
        "\n",
        "# Criando o gráfico\n",
        "plt.figure(figsize=(8, 4))  # Definindo o tamanho da figura\n",
        "plt.plot(epochs, total_loss, color='blue', marker='o', linestyle='-', label='Perda Total')  # Plotando a perda total\n",
        "plt.title('Análise da Perda Durante o Treinamento')  # Título do gráfico\n",
        "plt.xlabel('Épocas')  # Rótulo do eixo x\n",
        "plt.ylabel('Perda')  # Rótulo do eixo y\n",
        "plt.legend()  # Adicionando a legenda\n",
        "plt.grid(True)  # Adicionando uma grade para melhor leitura\n",
        "plt.show()  # Exibindo o gráfico\n"
      ]
    },
    {
      "cell_type": "markdown",
      "metadata": {
        "id": "Wbaoiy4Hf-n5"
      },
      "source": [
        "## Geração de Notas Musicais com Modelo Sequencial\n",
        "\n",
        "Para gerar notas musicais utilizando o modelo treinado, inicialmente é necessário fornecer uma sequência inicial de notas. A função apresentada a seguir é responsável por gerar uma única nota baseada em uma sequência de notas existente.\n",
        "\n",
        "Diferentemente de selecionar a nota mais provável em cada passo, a função utiliza uma abordagem baseada na distribuição softmax das notas produzidas pelo modelo, realizando uma amostragem. Esse método evita a criação de sequências repetitivas e monótonas.\n",
        "\n",
        "O parâmetro temperature influencia a aleatoriedade na geração."
      ]
    },
    {
      "cell_type": "code",
      "execution_count": 23,
      "metadata": {
        "execution": {
          "iopub.execute_input": "2023-10-27T05:50:35.709746Z",
          "iopub.status.busy": "2023-10-27T05:50:35.709360Z",
          "iopub.status.idle": "2023-10-27T05:50:35.714724Z",
          "shell.execute_reply": "2023-10-27T05:50:35.714131Z"
        },
        "id": "1mil8ZyJNe1w"
      },
      "outputs": [],
      "source": [
        "def gerar_nota(\n",
        "    notas: np.ndarray,\n",
        "    modelo: tf.keras.Model,\n",
        "    temperatura: float = 3.0) -> tuple[int, float, float]:\n",
        "  \"\"\"Gera uma nota no formato (altura, passo, duração) usando um modelo sequencial treinado.\"\"\"\n",
        "\n",
        "  if temperatura <= 0:\n",
        "      raise ValueError(\"A temperatura deve ser maior que zero.\")\n",
        "\n",
        "  # Adicionando dimensão para o batch\n",
        "  entradas = tf.expand_dims(notas, 0)\n",
        "\n",
        "  predicoes = modelo.predict(entradas)\n",
        "  logitos_altura = predicoes['pitch']\n",
        "  duracao = predicoes['duration']\n",
        "  passo_tempo = predicoes['time_step']\n",
        "\n",
        "  # Ajustando os logits pela temperatura\n",
        "  logitos_altura /= temperatura\n",
        "  altura = tf.random.categorical(logitos_altura, num_samples=1)\n",
        "  altura = tf.squeeze(altura, axis=-1)\n",
        "  duracao = tf.squeeze(duracao, axis=-1)\n",
        "  passo_tempo = tf.squeeze(passo_tempo, axis=-1)\n",
        "\n",
        "  # Assegurando que `passo_tempo` e `duracao` sejam valores não-negativos\n",
        "  passo_tempo = tf.maximum(0, passo_tempo)\n",
        "  duracao = tf.maximum(0, duracao)\n",
        "\n",
        "  return int(altura.numpy()), float(passo_tempo.numpy()), float(duracao.numpy())\n"
      ]
    },
    {
      "cell_type": "code",
      "execution_count": 24,
      "metadata": {
        "execution": {
          "iopub.execute_input": "2023-10-27T05:50:35.720463Z",
          "iopub.status.busy": "2023-10-27T05:50:35.720078Z",
          "iopub.status.idle": "2023-10-27T05:50:46.044919Z",
          "shell.execute_reply": "2023-10-27T05:50:46.044150Z"
        },
        "id": "87fPl4auPdR3",
        "colab": {
          "base_uri": "https://localhost:8080/"
        },
        "outputId": "65997bd9-6397-40e2-f456-19ed4132467c"
      },
      "outputs": [
        {
          "output_type": "stream",
          "name": "stdout",
          "text": [
            "1/1 [==============================] - 1s 678ms/step\n",
            "1/1 [==============================] - 0s 25ms/step\n",
            "1/1 [==============================] - 0s 19ms/step\n",
            "1/1 [==============================] - 0s 19ms/step\n",
            "1/1 [==============================] - 0s 18ms/step\n",
            "1/1 [==============================] - 0s 18ms/step\n",
            "1/1 [==============================] - 0s 18ms/step\n",
            "1/1 [==============================] - 0s 22ms/step\n",
            "1/1 [==============================] - 0s 18ms/step\n",
            "1/1 [==============================] - 0s 19ms/step\n",
            "1/1 [==============================] - 0s 21ms/step\n",
            "1/1 [==============================] - 0s 18ms/step\n",
            "1/1 [==============================] - 0s 23ms/step\n",
            "1/1 [==============================] - 0s 18ms/step\n",
            "1/1 [==============================] - 0s 20ms/step\n",
            "1/1 [==============================] - 0s 18ms/step\n",
            "1/1 [==============================] - 0s 20ms/step\n",
            "1/1 [==============================] - 0s 19ms/step\n",
            "1/1 [==============================] - 0s 19ms/step\n",
            "1/1 [==============================] - 0s 23ms/step\n",
            "1/1 [==============================] - 0s 18ms/step\n",
            "1/1 [==============================] - 0s 21ms/step\n",
            "1/1 [==============================] - 0s 18ms/step\n",
            "1/1 [==============================] - 0s 19ms/step\n",
            "1/1 [==============================] - 0s 20ms/step\n",
            "1/1 [==============================] - 0s 19ms/step\n",
            "1/1 [==============================] - 0s 21ms/step\n",
            "1/1 [==============================] - 0s 19ms/step\n",
            "1/1 [==============================] - 0s 18ms/step\n",
            "1/1 [==============================] - 0s 19ms/step\n",
            "1/1 [==============================] - 0s 25ms/step\n",
            "1/1 [==============================] - 0s 18ms/step\n",
            "1/1 [==============================] - 0s 19ms/step\n",
            "1/1 [==============================] - 0s 19ms/step\n",
            "1/1 [==============================] - 0s 19ms/step\n",
            "1/1 [==============================] - 0s 20ms/step\n",
            "1/1 [==============================] - 0s 19ms/step\n",
            "1/1 [==============================] - 0s 19ms/step\n",
            "1/1 [==============================] - 0s 22ms/step\n",
            "1/1 [==============================] - 0s 18ms/step\n",
            "1/1 [==============================] - 0s 20ms/step\n",
            "1/1 [==============================] - 0s 22ms/step\n",
            "1/1 [==============================] - 0s 19ms/step\n",
            "1/1 [==============================] - 0s 19ms/step\n",
            "1/1 [==============================] - 0s 19ms/step\n",
            "1/1 [==============================] - 0s 20ms/step\n",
            "1/1 [==============================] - 0s 26ms/step\n",
            "1/1 [==============================] - 0s 20ms/step\n",
            "1/1 [==============================] - 0s 97ms/step\n",
            "1/1 [==============================] - 0s 97ms/step\n",
            "1/1 [==============================] - 0s 80ms/step\n",
            "1/1 [==============================] - 0s 18ms/step\n",
            "1/1 [==============================] - 0s 19ms/step\n",
            "1/1 [==============================] - 0s 20ms/step\n",
            "1/1 [==============================] - 0s 19ms/step\n",
            "1/1 [==============================] - 0s 19ms/step\n",
            "1/1 [==============================] - 0s 20ms/step\n",
            "1/1 [==============================] - 0s 19ms/step\n",
            "1/1 [==============================] - 0s 18ms/step\n",
            "1/1 [==============================] - 0s 19ms/step\n",
            "1/1 [==============================] - 0s 20ms/step\n",
            "1/1 [==============================] - 0s 19ms/step\n",
            "1/1 [==============================] - 0s 19ms/step\n",
            "1/1 [==============================] - 0s 21ms/step\n",
            "1/1 [==============================] - 0s 19ms/step\n",
            "1/1 [==============================] - 0s 19ms/step\n",
            "1/1 [==============================] - 0s 18ms/step\n",
            "1/1 [==============================] - 0s 19ms/step\n",
            "1/1 [==============================] - 0s 22ms/step\n",
            "1/1 [==============================] - 0s 22ms/step\n",
            "1/1 [==============================] - 0s 20ms/step\n",
            "1/1 [==============================] - 0s 20ms/step\n",
            "1/1 [==============================] - 0s 20ms/step\n",
            "1/1 [==============================] - 0s 19ms/step\n",
            "1/1 [==============================] - 0s 22ms/step\n",
            "1/1 [==============================] - 0s 19ms/step\n",
            "1/1 [==============================] - 0s 19ms/step\n",
            "1/1 [==============================] - 0s 19ms/step\n",
            "1/1 [==============================] - 0s 23ms/step\n",
            "1/1 [==============================] - 0s 20ms/step\n",
            "1/1 [==============================] - 0s 19ms/step\n",
            "1/1 [==============================] - 0s 20ms/step\n",
            "1/1 [==============================] - 0s 19ms/step\n",
            "1/1 [==============================] - 0s 19ms/step\n",
            "1/1 [==============================] - 0s 18ms/step\n",
            "1/1 [==============================] - 0s 18ms/step\n",
            "1/1 [==============================] - 0s 20ms/step\n",
            "1/1 [==============================] - 0s 19ms/step\n",
            "1/1 [==============================] - 0s 19ms/step\n",
            "1/1 [==============================] - 0s 20ms/step\n",
            "1/1 [==============================] - 0s 19ms/step\n",
            "1/1 [==============================] - 0s 19ms/step\n",
            "1/1 [==============================] - 0s 19ms/step\n",
            "1/1 [==============================] - 0s 19ms/step\n",
            "1/1 [==============================] - 0s 18ms/step\n",
            "1/1 [==============================] - 0s 21ms/step\n",
            "1/1 [==============================] - 0s 19ms/step\n",
            "1/1 [==============================] - 0s 22ms/step\n",
            "1/1 [==============================] - 0s 21ms/step\n",
            "1/1 [==============================] - 0s 19ms/step\n",
            "1/1 [==============================] - 0s 19ms/step\n",
            "1/1 [==============================] - 0s 29ms/step\n",
            "1/1 [==============================] - 0s 20ms/step\n",
            "1/1 [==============================] - 0s 18ms/step\n",
            "1/1 [==============================] - 0s 19ms/step\n",
            "1/1 [==============================] - 0s 19ms/step\n",
            "1/1 [==============================] - 0s 19ms/step\n",
            "1/1 [==============================] - 0s 19ms/step\n",
            "1/1 [==============================] - 0s 20ms/step\n",
            "1/1 [==============================] - 0s 22ms/step\n",
            "1/1 [==============================] - 0s 22ms/step\n",
            "1/1 [==============================] - 0s 19ms/step\n",
            "1/1 [==============================] - 0s 18ms/step\n",
            "1/1 [==============================] - 0s 19ms/step\n",
            "1/1 [==============================] - 0s 20ms/step\n",
            "1/1 [==============================] - 0s 32ms/step\n",
            "1/1 [==============================] - 0s 42ms/step\n",
            "1/1 [==============================] - 0s 31ms/step\n",
            "1/1 [==============================] - 0s 29ms/step\n",
            "1/1 [==============================] - 0s 30ms/step\n",
            "1/1 [==============================] - 0s 33ms/step\n",
            "1/1 [==============================] - 0s 29ms/step\n",
            "1/1 [==============================] - 0s 30ms/step\n",
            "1/1 [==============================] - 0s 27ms/step\n",
            "1/1 [==============================] - 0s 27ms/step\n",
            "1/1 [==============================] - 0s 31ms/step\n",
            "1/1 [==============================] - 0s 29ms/step\n",
            "1/1 [==============================] - 0s 30ms/step\n",
            "1/1 [==============================] - 0s 28ms/step\n",
            "1/1 [==============================] - 0s 27ms/step\n",
            "1/1 [==============================] - 0s 32ms/step\n",
            "1/1 [==============================] - 0s 28ms/step\n",
            "1/1 [==============================] - 0s 29ms/step\n",
            "1/1 [==============================] - 0s 33ms/step\n",
            "1/1 [==============================] - 0s 28ms/step\n",
            "1/1 [==============================] - 0s 28ms/step\n",
            "1/1 [==============================] - 0s 28ms/step\n",
            "1/1 [==============================] - 0s 28ms/step\n",
            "1/1 [==============================] - 0s 27ms/step\n",
            "1/1 [==============================] - 0s 33ms/step\n",
            "1/1 [==============================] - 0s 30ms/step\n",
            "1/1 [==============================] - 0s 29ms/step\n",
            "1/1 [==============================] - 0s 30ms/step\n",
            "1/1 [==============================] - 0s 30ms/step\n",
            "1/1 [==============================] - 0s 28ms/step\n",
            "1/1 [==============================] - 0s 30ms/step\n",
            "1/1 [==============================] - 0s 20ms/step\n",
            "1/1 [==============================] - 0s 21ms/step\n",
            "1/1 [==============================] - 0s 20ms/step\n",
            "1/1 [==============================] - 0s 20ms/step\n",
            "1/1 [==============================] - 0s 20ms/step\n",
            "1/1 [==============================] - 0s 25ms/step\n",
            "1/1 [==============================] - 0s 19ms/step\n",
            "1/1 [==============================] - 0s 19ms/step\n",
            "1/1 [==============================] - 0s 19ms/step\n",
            "1/1 [==============================] - 0s 20ms/step\n",
            "1/1 [==============================] - 0s 19ms/step\n",
            "1/1 [==============================] - 0s 19ms/step\n",
            "1/1 [==============================] - 0s 21ms/step\n",
            "1/1 [==============================] - 0s 24ms/step\n",
            "1/1 [==============================] - 0s 21ms/step\n",
            "1/1 [==============================] - 0s 21ms/step\n",
            "1/1 [==============================] - 0s 19ms/step\n",
            "1/1 [==============================] - 0s 20ms/step\n",
            "1/1 [==============================] - 0s 19ms/step\n",
            "1/1 [==============================] - 0s 18ms/step\n",
            "1/1 [==============================] - 0s 21ms/step\n",
            "1/1 [==============================] - 0s 19ms/step\n",
            "1/1 [==============================] - 0s 19ms/step\n",
            "1/1 [==============================] - 0s 18ms/step\n",
            "1/1 [==============================] - 0s 20ms/step\n",
            "1/1 [==============================] - 0s 19ms/step\n",
            "1/1 [==============================] - 0s 23ms/step\n",
            "1/1 [==============================] - 0s 20ms/step\n",
            "1/1 [==============================] - 0s 19ms/step\n",
            "1/1 [==============================] - 0s 22ms/step\n",
            "1/1 [==============================] - 0s 20ms/step\n",
            "1/1 [==============================] - 0s 19ms/step\n",
            "1/1 [==============================] - 0s 18ms/step\n",
            "1/1 [==============================] - 0s 19ms/step\n",
            "1/1 [==============================] - 0s 19ms/step\n",
            "1/1 [==============================] - 0s 27ms/step\n",
            "1/1 [==============================] - 0s 20ms/step\n",
            "1/1 [==============================] - 0s 19ms/step\n",
            "1/1 [==============================] - 0s 19ms/step\n",
            "1/1 [==============================] - 0s 19ms/step\n",
            "1/1 [==============================] - 0s 19ms/step\n",
            "1/1 [==============================] - 0s 19ms/step\n",
            "1/1 [==============================] - 0s 24ms/step\n",
            "1/1 [==============================] - 0s 20ms/step\n",
            "1/1 [==============================] - 0s 21ms/step\n",
            "1/1 [==============================] - 0s 20ms/step\n",
            "1/1 [==============================] - 0s 18ms/step\n",
            "1/1 [==============================] - 0s 21ms/step\n",
            "1/1 [==============================] - 0s 18ms/step\n",
            "1/1 [==============================] - 0s 19ms/step\n",
            "1/1 [==============================] - 0s 19ms/step\n",
            "1/1 [==============================] - 0s 22ms/step\n",
            "1/1 [==============================] - 0s 19ms/step\n",
            "1/1 [==============================] - 0s 19ms/step\n",
            "1/1 [==============================] - 0s 19ms/step\n",
            "1/1 [==============================] - 0s 20ms/step\n",
            "1/1 [==============================] - 0s 20ms/step\n",
            "1/1 [==============================] - 0s 18ms/step\n",
            "1/1 [==============================] - 0s 19ms/step\n",
            "1/1 [==============================] - 0s 19ms/step\n",
            "1/1 [==============================] - 0s 19ms/step\n",
            "1/1 [==============================] - 0s 20ms/step\n",
            "1/1 [==============================] - 0s 20ms/step\n",
            "1/1 [==============================] - 0s 19ms/step\n",
            "1/1 [==============================] - 0s 19ms/step\n",
            "1/1 [==============================] - 0s 19ms/step\n",
            "1/1 [==============================] - 0s 19ms/step\n",
            "1/1 [==============================] - 0s 20ms/step\n",
            "1/1 [==============================] - 0s 19ms/step\n",
            "1/1 [==============================] - 0s 22ms/step\n",
            "1/1 [==============================] - 0s 20ms/step\n",
            "1/1 [==============================] - 0s 20ms/step\n",
            "1/1 [==============================] - 0s 19ms/step\n",
            "1/1 [==============================] - 0s 20ms/step\n",
            "1/1 [==============================] - 0s 20ms/step\n",
            "1/1 [==============================] - 0s 19ms/step\n",
            "1/1 [==============================] - 0s 19ms/step\n",
            "1/1 [==============================] - 0s 20ms/step\n",
            "1/1 [==============================] - 0s 20ms/step\n",
            "1/1 [==============================] - 0s 20ms/step\n",
            "1/1 [==============================] - 0s 20ms/step\n",
            "1/1 [==============================] - 0s 19ms/step\n",
            "1/1 [==============================] - 0s 19ms/step\n",
            "1/1 [==============================] - 0s 19ms/step\n",
            "1/1 [==============================] - 0s 19ms/step\n",
            "1/1 [==============================] - 0s 20ms/step\n",
            "1/1 [==============================] - 0s 19ms/step\n",
            "1/1 [==============================] - 0s 25ms/step\n",
            "1/1 [==============================] - 0s 20ms/step\n",
            "1/1 [==============================] - 0s 20ms/step\n",
            "1/1 [==============================] - 0s 20ms/step\n",
            "1/1 [==============================] - 0s 19ms/step\n",
            "1/1 [==============================] - 0s 19ms/step\n",
            "1/1 [==============================] - 0s 20ms/step\n",
            "1/1 [==============================] - 0s 19ms/step\n",
            "1/1 [==============================] - 0s 19ms/step\n",
            "1/1 [==============================] - 0s 19ms/step\n",
            "1/1 [==============================] - 0s 25ms/step\n",
            "1/1 [==============================] - 0s 20ms/step\n",
            "1/1 [==============================] - 0s 20ms/step\n",
            "1/1 [==============================] - 0s 23ms/step\n",
            "1/1 [==============================] - 0s 22ms/step\n",
            "1/1 [==============================] - 0s 21ms/step\n",
            "1/1 [==============================] - 0s 21ms/step\n",
            "1/1 [==============================] - 0s 22ms/step\n",
            "1/1 [==============================] - 0s 19ms/step\n",
            "1/1 [==============================] - 0s 19ms/step\n",
            "1/1 [==============================] - 0s 20ms/step\n",
            "1/1 [==============================] - 0s 19ms/step\n",
            "1/1 [==============================] - 0s 20ms/step\n",
            "1/1 [==============================] - 0s 20ms/step\n",
            "1/1 [==============================] - 0s 19ms/step\n",
            "1/1 [==============================] - 0s 20ms/step\n",
            "1/1 [==============================] - 0s 20ms/step\n",
            "1/1 [==============================] - 0s 20ms/step\n",
            "1/1 [==============================] - 0s 19ms/step\n",
            "1/1 [==============================] - 0s 19ms/step\n",
            "1/1 [==============================] - 0s 22ms/step\n",
            "1/1 [==============================] - 0s 19ms/step\n",
            "1/1 [==============================] - 0s 20ms/step\n",
            "1/1 [==============================] - 0s 20ms/step\n",
            "1/1 [==============================] - 0s 19ms/step\n",
            "1/1 [==============================] - 0s 21ms/step\n",
            "1/1 [==============================] - 0s 19ms/step\n",
            "1/1 [==============================] - 0s 20ms/step\n",
            "1/1 [==============================] - 0s 20ms/step\n",
            "1/1 [==============================] - 0s 20ms/step\n",
            "1/1 [==============================] - 0s 22ms/step\n",
            "1/1 [==============================] - 0s 19ms/step\n",
            "1/1 [==============================] - 0s 20ms/step\n",
            "1/1 [==============================] - 0s 19ms/step\n",
            "1/1 [==============================] - 0s 19ms/step\n",
            "1/1 [==============================] - 0s 20ms/step\n",
            "1/1 [==============================] - 0s 20ms/step\n",
            "1/1 [==============================] - 0s 19ms/step\n",
            "1/1 [==============================] - 0s 19ms/step\n",
            "1/1 [==============================] - 0s 19ms/step\n",
            "1/1 [==============================] - 0s 20ms/step\n",
            "1/1 [==============================] - 0s 19ms/step\n",
            "1/1 [==============================] - 0s 21ms/step\n",
            "1/1 [==============================] - 0s 20ms/step\n",
            "1/1 [==============================] - 0s 19ms/step\n",
            "1/1 [==============================] - 0s 27ms/step\n",
            "1/1 [==============================] - 0s 19ms/step\n",
            "1/1 [==============================] - 0s 21ms/step\n",
            "1/1 [==============================] - 0s 18ms/step\n",
            "1/1 [==============================] - 0s 18ms/step\n",
            "1/1 [==============================] - 0s 19ms/step\n",
            "1/1 [==============================] - 0s 19ms/step\n",
            "1/1 [==============================] - 0s 31ms/step\n",
            "1/1 [==============================] - 0s 26ms/step\n",
            "1/1 [==============================] - 0s 30ms/step\n",
            "1/1 [==============================] - 0s 30ms/step\n",
            "1/1 [==============================] - 0s 30ms/step\n"
          ]
        }
      ],
      "source": [
        "temperature = 2.0\n",
        "num_predictions = 300\n",
        "total_notes = 128\n",
        "\n",
        "sample_notes = np.stack([raw_notes[key] for key in feature_order], axis=1)\n",
        "\n",
        "input_notes = (\n",
        "    sample_notes[:sequence_length] / np.array([total_notes, 1, 1]))\n",
        "\n",
        "num_notes_in_sample = sample_notes.shape[0]\n",
        "\n",
        "\n",
        "generated_notes = []\n",
        "prev_start = 0\n",
        "for _ in range(num_predictions):\n",
        "  pitch, time_step, duration = gerar_nota(input_notes, model, temperature)\n",
        "  start = prev_start + time_step\n",
        "  end = start + duration\n",
        "  input_note = (pitch, duration, time_step)\n",
        "  generated_notes.append((*input_note, start, end))\n",
        "  input_notes = np.delete(input_notes, 0, axis=0)\n",
        "  input_notes = np.append(input_notes, np.expand_dims(input_note, 0), axis=0)\n",
        "  prev_start = start\n",
        "\n",
        "generated_notes = pd.DataFrame(\n",
        "    generated_notes, columns=(*feature_order, 'start', 'end'))"
      ]
    },
    {
      "cell_type": "code",
      "execution_count": 25,
      "metadata": {
        "execution": {
          "iopub.execute_input": "2023-10-27T05:50:46.061009Z",
          "iopub.status.busy": "2023-10-27T05:50:46.060481Z",
          "iopub.status.idle": "2023-10-27T05:50:46.477060Z",
          "shell.execute_reply": "2023-10-27T05:50:46.476278Z"
        },
        "id": "e9K9KHPaTNnK",
        "colab": {
          "base_uri": "https://localhost:8080/",
          "height": 17
        },
        "outputId": "8590680f-cfcf-4b7c-c9d6-a19e95cdd3b0"
      },
      "outputs": [
        {
          "output_type": "display_data",
          "data": {
            "text/plain": [
              "<IPython.core.display.Javascript object>"
            ],
            "application/javascript": [
              "\n",
              "    async function download(id, filename, size) {\n",
              "      if (!google.colab.kernel.accessAllowed) {\n",
              "        return;\n",
              "      }\n",
              "      const div = document.createElement('div');\n",
              "      const label = document.createElement('label');\n",
              "      label.textContent = `Downloading \"${filename}\": `;\n",
              "      div.appendChild(label);\n",
              "      const progress = document.createElement('progress');\n",
              "      progress.max = size;\n",
              "      div.appendChild(progress);\n",
              "      document.body.appendChild(div);\n",
              "\n",
              "      const buffers = [];\n",
              "      let downloaded = 0;\n",
              "\n",
              "      const channel = await google.colab.kernel.comms.open(id);\n",
              "      // Send a message to notify the kernel that we're ready.\n",
              "      channel.send({})\n",
              "\n",
              "      for await (const message of channel.messages) {\n",
              "        // Send a message to notify the kernel that we're ready.\n",
              "        channel.send({})\n",
              "        if (message.buffers) {\n",
              "          for (const buffer of message.buffers) {\n",
              "            buffers.push(buffer);\n",
              "            downloaded += buffer.byteLength;\n",
              "            progress.value = downloaded;\n",
              "          }\n",
              "        }\n",
              "      }\n",
              "      const blob = new Blob(buffers, {type: 'application/binary'});\n",
              "      const a = document.createElement('a');\n",
              "      a.href = window.URL.createObjectURL(blob);\n",
              "      a.download = filename;\n",
              "      div.appendChild(a);\n",
              "      a.click();\n",
              "      div.remove();\n",
              "    }\n",
              "  "
            ]
          },
          "metadata": {}
        },
        {
          "output_type": "display_data",
          "data": {
            "text/plain": [
              "<IPython.core.display.Javascript object>"
            ],
            "application/javascript": [
              "download(\"download_7b46f857-d7e0-450b-ae9e-0c515c261d1c\", \"output.mid\", 1857)"
            ]
          },
          "metadata": {}
        }
      ],
      "source": [
        "out_file = 'output.mid'\n",
        "out_pm = create_midi_from_notes(generated_notes, target_file=out_file, chosen_instrument='Acoustic Grand Piano')\n",
        "#out_pm = create_midi_from_notes(generated_notes, target_file=out_file, chosen_instrument='Overdriven Guitar')\n",
        "\n",
        "from google.colab import files\n",
        "files.download(out_file)\n",
        "\n"
      ]
    },
    {
      "cell_type": "code",
      "source": [
        "def plot_distributions(notes: pd.DataFrame, drop_percentile=2.5):\n",
        "  plt.figure(figsize=[15, 5])\n",
        "  plt.subplot(1, 3, 1)\n",
        "  sns.histplot(notes, x=\"pitch\", bins=20)\n",
        "\n",
        "  plt.subplot(1, 3, 2)\n",
        "  max_step = np.percentile(notes['time_step'], 100 - drop_percentile)\n",
        "  sns.histplot(notes, x=\"time_step\", bins=np.linspace(0, max_step, 21))\n",
        "\n",
        "  plt.subplot(1, 3, 3)\n",
        "  max_duration = np.percentile(notes['duration'], 100 - drop_percentile)\n",
        "  sns.histplot(notes, x=\"duration\", bins=np.linspace(0, max_duration, 21))\n",
        "\n",
        "  plot_distributions(raw_notes)\n",
        "plot_distributions(generated_notes)"
      ],
      "metadata": {
        "id": "S-dZp13IdoYY"
      },
      "execution_count": 31,
      "outputs": []
    },
    {
      "cell_type": "code",
      "source": [
        "import matplotlib.pyplot as plt\n",
        "import seaborn as sns\n",
        "import numpy as np\n",
        "import pandas as pd\n",
        "\n",
        "def plot_distributions(notes: pd.DataFrame, label: str, drop_percentile=2.5):\n",
        "    plt.figure(figsize=[15, 5])\n",
        "\n",
        "    # Plot pitch\n",
        "    plt.subplot(1, 3, 1)\n",
        "    sns.histplot(notes, x=\"pitch\", bins=20, label=label, kde=True)\n",
        "    plt.legend()\n",
        "    plt.title(\"Pitch Distribution\")\n",
        "\n",
        "    # Plot time_step\n",
        "    plt.subplot(1, 3, 2)\n",
        "    max_step = np.percentile(notes['time_step'], 100 - drop_percentile)\n",
        "    sns.histplot(notes, x=\"time_step\", bins=np.linspace(0, max_step, 21), label=label, kde=True)\n",
        "    plt.legend()\n",
        "    plt.title(\"Time Step Distribution\")\n",
        "\n",
        "    # Plot duration\n",
        "    plt.subplot(1, 3, 3)\n",
        "    max_duration = np.percentile(notes['duration'], 100 - drop_percentile)\n",
        "    sns.histplot(notes, x=\"duration\", bins=np.linspace(0, max_duration, 21), label=label, kde=True)\n",
        "    plt.legend()\n",
        "    plt.title(\"Duration Distribution\")\n",
        "\n",
        "    plt.show()\n",
        "\n",
        "# Exemplo de como chamar a função para a música de exemplo e a música gerada\n",
        "plot_distributions(raw_notes, label='Raw Notes')\n",
        "plot_distributions(generated_notes, label='Generated Notes')\n"
      ],
      "metadata": {
        "colab": {
          "base_uri": "https://localhost:8080/",
          "height": 957
        },
        "id": "B2rwOCvcZ83Q",
        "outputId": "182adf67-9ed6-4a6c-90c7-bf052a74fe3f"
      },
      "execution_count": 34,
      "outputs": [
        {
          "output_type": "display_data",
          "data": {
            "text/plain": [
              "<Figure size 1500x500 with 3 Axes>"
            ],
            "image/png": "[encoded data removed]"
          },
          "metadata": {}
        },
        {
          "output_type": "display_data",
          "data": {
            "text/plain": [
              "<Figure size 1500x500 with 3 Axes>"
            ],
            "image/png": "[encoded data removed]"
          },
          "metadata": {}
        }
      ]
    }
  ],
  "metadata": {
    "accelerator": "GPU",
    "colab": {
      "provenance": []
    },
    "kernelspec": {
      "display_name": "Python 3",
      "name": "python3"
    },
    "language_info": {
      "codemirror_mode": {
        "name": "ipython",
        "version": 3
      },
      "file_extension": ".py",
      "mimetype": "text/x-python",
      "name": "python",
      "nbconvert_exporter": "python",
      "pygments_lexer": "ipython3",
      "version": "3.9.18"
    }
  },
  "nbformat": 4,
  "nbformat_minor": 0
}