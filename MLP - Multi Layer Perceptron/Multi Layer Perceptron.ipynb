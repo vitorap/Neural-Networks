{
 "cells": [
  {
   "cell_type": "markdown",
   "id": "effd8b9e",
   "metadata": {},
   "source": [
    "# Começando com o Dataset de Classificação: Iris"
   ]
  },
  {
   "cell_type": "markdown",
   "id": "41919003",
   "metadata": {},
   "source": [
    "## Importar bibliotecas e carregar o dataset:"
   ]
  },
  {
   "cell_type": "code",
   "execution_count": 1,
   "id": "397d3dc9",
   "metadata": {},
   "outputs": [],
   "source": [
    "import pandas as pd\n",
    "import seaborn as sns\n",
    "import matplotlib.pyplot as plt\n",
    "from sklearn import datasets\n",
    "\n",
    "# Carregando o dataset Iris\n",
    "iris = datasets.load_iris()\n",
    "df_iris = pd.DataFrame(data=iris.data, columns=iris.feature_names)\n",
    "df_iris['species'] = iris.target\n",
    "\n",
    "# Mostrando as primeiras linhas\n",
    "df_iris\n"
   ]
  },
  {
   "cell_type": "markdown",
   "id": "a60790dd",
   "metadata": {},
   "source": [
    "## Visualização inicial dos dados:"
   ]
  },
  {
   "cell_type": "code",
   "execution_count": 2,
   "id": "65e90970",
   "metadata": {},
   "outputs": [],
   "source": [
    "# Pairplot para visualizar as distribuições e relações entre os atributos\n",
    "sns.pairplot(df_iris, hue='species')\n",
    "plt.show()"
   ]
  },
  {
   "cell_type": "markdown",
   "id": "55e2f94d",
   "metadata": {},
   "source": [
    "# Dataset de Regressão: Red Wine Quality\n",
    "\n",
    "Dataset disponivel em: https://www.kaggle.com/datasets/uciml/red-wine-quality-cortez-et-al-2009/"
   ]
  },
  {
   "cell_type": "markdown",
   "id": "66bfefa8",
   "metadata": {},
   "source": [
    "## Importação das bibliotecas e carregamento do dataset\n",
    "É necessario fazer o download do dataset do link fornecido e salvar o arquivo como winequality-red.csv em seu diretório atual."
   ]
  },
  {
   "cell_type": "code",
   "execution_count": 1,
   "id": "86642450",
   "metadata": {},
   "outputs": [
    {
     "name": "stdout",
     "output_type": "stream",
     "text": [
      "\n",
      "Maior valor da coluna 'quality': 8\n",
      "Menor valor da coluna 'quality': 3\n"
     ]
    },
    {
     "data": {
      "text/html": [
       "<div>\n",
       "<style scoped>\n",
       "    .dataframe tbody tr th:only-of-type {\n",
       "        vertical-align: middle;\n",
       "    }\n",
       "\n",
       "    .dataframe tbody tr th {\n",
       "        vertical-align: top;\n",
       "    }\n",
       "\n",
       "    .dataframe thead th {\n",
       "        text-align: right;\n",
       "    }\n",
       "</style>\n",
       "<table border=\"1\" class=\"dataframe\">\n",
       "  <thead>\n",
       "    <tr style=\"text-align: right;\">\n",
       "      <th></th>\n",
       "      <th>fixed acidity</th>\n",
       "      <th>volatile acidity</th>\n",
       "      <th>citric acid</th>\n",
       "      <th>residual sugar</th>\n",
       "      <th>chlorides</th>\n",
       "      <th>free sulfur dioxide</th>\n",
       "      <th>total sulfur dioxide</th>\n",
       "      <th>density</th>\n",
       "      <th>pH</th>\n",
       "      <th>sulphates</th>\n",
       "      <th>alcohol</th>\n",
       "      <th>quality</th>\n",
       "    </tr>\n",
       "  </thead>\n",
       "  <tbody>\n",
       "    <tr>\n",
       "      <th>0</th>\n",
       "      <td>7.4</td>\n",
       "      <td>0.70</td>\n",
       "      <td>0.00</td>\n",
       "      <td>1.9</td>\n",
       "      <td>0.076</td>\n",
       "      <td>11.0</td>\n",
       "      <td>34.0</td>\n",
       "      <td>0.9978</td>\n",
       "      <td>3.51</td>\n",
       "      <td>0.56</td>\n",
       "      <td>9.4</td>\n",
       "      <td>5</td>\n",
       "    </tr>\n",
       "    <tr>\n",
       "      <th>1</th>\n",
       "      <td>7.8</td>\n",
       "      <td>0.88</td>\n",
       "      <td>0.00</td>\n",
       "      <td>2.6</td>\n",
       "      <td>0.098</td>\n",
       "      <td>25.0</td>\n",
       "      <td>67.0</td>\n",
       "      <td>0.9968</td>\n",
       "      <td>3.20</td>\n",
       "      <td>0.68</td>\n",
       "      <td>9.8</td>\n",
       "      <td>5</td>\n",
       "    </tr>\n",
       "    <tr>\n",
       "      <th>2</th>\n",
       "      <td>7.8</td>\n",
       "      <td>0.76</td>\n",
       "      <td>0.04</td>\n",
       "      <td>2.3</td>\n",
       "      <td>0.092</td>\n",
       "      <td>15.0</td>\n",
       "      <td>54.0</td>\n",
       "      <td>0.9970</td>\n",
       "      <td>3.26</td>\n",
       "      <td>0.65</td>\n",
       "      <td>9.8</td>\n",
       "      <td>5</td>\n",
       "    </tr>\n",
       "    <tr>\n",
       "      <th>3</th>\n",
       "      <td>11.2</td>\n",
       "      <td>0.28</td>\n",
       "      <td>0.56</td>\n",
       "      <td>1.9</td>\n",
       "      <td>0.075</td>\n",
       "      <td>17.0</td>\n",
       "      <td>60.0</td>\n",
       "      <td>0.9980</td>\n",
       "      <td>3.16</td>\n",
       "      <td>0.58</td>\n",
       "      <td>9.8</td>\n",
       "      <td>6</td>\n",
       "    </tr>\n",
       "    <tr>\n",
       "      <th>4</th>\n",
       "      <td>7.4</td>\n",
       "      <td>0.70</td>\n",
       "      <td>0.00</td>\n",
       "      <td>1.9</td>\n",
       "      <td>0.076</td>\n",
       "      <td>11.0</td>\n",
       "      <td>34.0</td>\n",
       "      <td>0.9978</td>\n",
       "      <td>3.51</td>\n",
       "      <td>0.56</td>\n",
       "      <td>9.4</td>\n",
       "      <td>5</td>\n",
       "    </tr>\n",
       "  </tbody>\n",
       "</table>\n",
       "</div>"
      ],
      "text/plain": [
       "   fixed acidity  volatile acidity  citric acid  residual sugar  chlorides  \\\n",
       "0            7.4              0.70         0.00             1.9      0.076   \n",
       "1            7.8              0.88         0.00             2.6      0.098   \n",
       "2            7.8              0.76         0.04             2.3      0.092   \n",
       "3           11.2              0.28         0.56             1.9      0.075   \n",
       "4            7.4              0.70         0.00             1.9      0.076   \n",
       "\n",
       "   free sulfur dioxide  total sulfur dioxide  density    pH  sulphates  \\\n",
       "0                 11.0                  34.0   0.9978  3.51       0.56   \n",
       "1                 25.0                  67.0   0.9968  3.20       0.68   \n",
       "2                 15.0                  54.0   0.9970  3.26       0.65   \n",
       "3                 17.0                  60.0   0.9980  3.16       0.58   \n",
       "4                 11.0                  34.0   0.9978  3.51       0.56   \n",
       "\n",
       "   alcohol  quality  \n",
       "0      9.4        5  \n",
       "1      9.8        5  \n",
       "2      9.8        5  \n",
       "3      9.8        6  \n",
       "4      9.4        5  "
      ]
     },
     "execution_count": 1,
     "metadata": {},
     "output_type": "execute_result"
    }
   ],
   "source": [
    "import pandas as pd\n",
    "import seaborn as sns\n",
    "import matplotlib.pyplot as plt\n",
    "\n",
    "# Carregando o dataset Wine Quality\n",
    "df_wine = pd.read_csv('winequality-red.csv')\n",
    "\n",
    "# Mostrando o valor máximo e mínimo da coluna 'quality' no DataFrame Wine Quality\n",
    "max_quality = df_wine['quality'].max()\n",
    "min_quality = df_wine['quality'].min()\n",
    "print(\"\\nMaior valor da coluna 'quality':\", max_quality)\n",
    "print(\"Menor valor da coluna 'quality':\", min_quality)\n",
    "\n",
    "# Mostrando as primeiras linhas\n",
    "df_wine.head()\n",
    "\n"
   ]
  },
  {
   "cell_type": "markdown",
   "id": "882adc12",
   "metadata": {},
   "source": [
    "## Estatísticas básicas:"
   ]
  },
  {
   "cell_type": "code",
   "execution_count": null,
   "id": "56ae1f3f",
   "metadata": {},
   "outputs": [
    {
     "data": {
      "text/html": [
       "<div>\n",
       "<style scoped>\n",
       "    .dataframe tbody tr th:only-of-type {\n",
       "        vertical-align: middle;\n",
       "    }\n",
       "\n",
       "    .dataframe tbody tr th {\n",
       "        vertical-align: top;\n",
       "    }\n",
       "\n",
       "    .dataframe thead th {\n",
       "        text-align: right;\n",
       "    }\n",
       "</style>\n",
       "<table border=\"1\" class=\"dataframe\">\n",
       "  <thead>\n",
       "    <tr style=\"text-align: right;\">\n",
       "      <th></th>\n",
       "      <th>fixed acidity</th>\n",
       "      <th>volatile acidity</th>\n",
       "      <th>citric acid</th>\n",
       "      <th>residual sugar</th>\n",
       "      <th>chlorides</th>\n",
       "      <th>free sulfur dioxide</th>\n",
       "      <th>total sulfur dioxide</th>\n",
       "      <th>density</th>\n",
       "      <th>pH</th>\n",
       "      <th>sulphates</th>\n",
       "      <th>alcohol</th>\n",
       "      <th>quality</th>\n",
       "    </tr>\n",
       "  </thead>\n",
       "  <tbody>\n",
       "    <tr>\n",
       "      <th>count</th>\n",
       "      <td>1599.000000</td>\n",
       "      <td>1599.000000</td>\n",
       "      <td>1599.000000</td>\n",
       "      <td>1599.000000</td>\n",
       "      <td>1599.000000</td>\n",
       "      <td>1599.000000</td>\n",
       "      <td>1599.000000</td>\n",
       "      <td>1599.000000</td>\n",
       "      <td>1599.000000</td>\n",
       "      <td>1599.000000</td>\n",
       "      <td>1599.000000</td>\n",
       "      <td>1599.000000</td>\n",
       "    </tr>\n",
       "    <tr>\n",
       "      <th>mean</th>\n",
       "      <td>8.319637</td>\n",
       "      <td>0.527821</td>\n",
       "      <td>0.270976</td>\n",
       "      <td>2.538806</td>\n",
       "      <td>0.087467</td>\n",
       "      <td>15.874922</td>\n",
       "      <td>46.467792</td>\n",
       "      <td>0.996747</td>\n",
       "      <td>3.311113</td>\n",
       "      <td>0.658149</td>\n",
       "      <td>10.422983</td>\n",
       "      <td>5.636023</td>\n",
       "    </tr>\n",
       "    <tr>\n",
       "      <th>std</th>\n",
       "      <td>1.741096</td>\n",
       "      <td>0.179060</td>\n",
       "      <td>0.194801</td>\n",
       "      <td>1.409928</td>\n",
       "      <td>0.047065</td>\n",
       "      <td>10.460157</td>\n",
       "      <td>32.895324</td>\n",
       "      <td>0.001887</td>\n",
       "      <td>0.154386</td>\n",
       "      <td>0.169507</td>\n",
       "      <td>1.065668</td>\n",
       "      <td>0.807569</td>\n",
       "    </tr>\n",
       "    <tr>\n",
       "      <th>min</th>\n",
       "      <td>4.600000</td>\n",
       "      <td>0.120000</td>\n",
       "      <td>0.000000</td>\n",
       "      <td>0.900000</td>\n",
       "      <td>0.012000</td>\n",
       "      <td>1.000000</td>\n",
       "      <td>6.000000</td>\n",
       "      <td>0.990070</td>\n",
       "      <td>2.740000</td>\n",
       "      <td>0.330000</td>\n",
       "      <td>8.400000</td>\n",
       "      <td>3.000000</td>\n",
       "    </tr>\n",
       "    <tr>\n",
       "      <th>25%</th>\n",
       "      <td>7.100000</td>\n",
       "      <td>0.390000</td>\n",
       "      <td>0.090000</td>\n",
       "      <td>1.900000</td>\n",
       "      <td>0.070000</td>\n",
       "      <td>7.000000</td>\n",
       "      <td>22.000000</td>\n",
       "      <td>0.995600</td>\n",
       "      <td>3.210000</td>\n",
       "      <td>0.550000</td>\n",
       "      <td>9.500000</td>\n",
       "      <td>5.000000</td>\n",
       "    </tr>\n",
       "    <tr>\n",
       "      <th>50%</th>\n",
       "      <td>7.900000</td>\n",
       "      <td>0.520000</td>\n",
       "      <td>0.260000</td>\n",
       "      <td>2.200000</td>\n",
       "      <td>0.079000</td>\n",
       "      <td>14.000000</td>\n",
       "      <td>38.000000</td>\n",
       "      <td>0.996750</td>\n",
       "      <td>3.310000</td>\n",
       "      <td>0.620000</td>\n",
       "      <td>10.200000</td>\n",
       "      <td>6.000000</td>\n",
       "    </tr>\n",
       "    <tr>\n",
       "      <th>75%</th>\n",
       "      <td>9.200000</td>\n",
       "      <td>0.640000</td>\n",
       "      <td>0.420000</td>\n",
       "      <td>2.600000</td>\n",
       "      <td>0.090000</td>\n",
       "      <td>21.000000</td>\n",
       "      <td>62.000000</td>\n",
       "      <td>0.997835</td>\n",
       "      <td>3.400000</td>\n",
       "      <td>0.730000</td>\n",
       "      <td>11.100000</td>\n",
       "      <td>6.000000</td>\n",
       "    </tr>\n",
       "    <tr>\n",
       "      <th>max</th>\n",
       "      <td>15.900000</td>\n",
       "      <td>1.580000</td>\n",
       "      <td>1.000000</td>\n",
       "      <td>15.500000</td>\n",
       "      <td>0.611000</td>\n",
       "      <td>72.000000</td>\n",
       "      <td>289.000000</td>\n",
       "      <td>1.003690</td>\n",
       "      <td>4.010000</td>\n",
       "      <td>2.000000</td>\n",
       "      <td>14.900000</td>\n",
       "      <td>8.000000</td>\n",
       "    </tr>\n",
       "  </tbody>\n",
       "</table>\n",
       "</div>"
      ],
      "text/plain": [
       "       fixed acidity  volatile acidity  citric acid  residual sugar  \\\n",
       "count    1599.000000       1599.000000  1599.000000     1599.000000   \n",
       "mean        8.319637          0.527821     0.270976        2.538806   \n",
       "std         1.741096          0.179060     0.194801        1.409928   \n",
       "min         4.600000          0.120000     0.000000        0.900000   \n",
       "25%         7.100000          0.390000     0.090000        1.900000   \n",
       "50%         7.900000          0.520000     0.260000        2.200000   \n",
       "75%         9.200000          0.640000     0.420000        2.600000   \n",
       "max        15.900000          1.580000     1.000000       15.500000   \n",
       "\n",
       "         chlorides  free sulfur dioxide  total sulfur dioxide      density  \\\n",
       "count  1599.000000          1599.000000           1599.000000  1599.000000   \n",
       "mean      0.087467            15.874922             46.467792     0.996747   \n",
       "std       0.047065            10.460157             32.895324     0.001887   \n",
       "min       0.012000             1.000000              6.000000     0.990070   \n",
       "25%       0.070000             7.000000             22.000000     0.995600   \n",
       "50%       0.079000            14.000000             38.000000     0.996750   \n",
       "75%       0.090000            21.000000             62.000000     0.997835   \n",
       "max       0.611000            72.000000            289.000000     1.003690   \n",
       "\n",
       "                pH    sulphates      alcohol      quality  \n",
       "count  1599.000000  1599.000000  1599.000000  1599.000000  \n",
       "mean      3.311113     0.658149    10.422983     5.636023  \n",
       "std       0.154386     0.169507     1.065668     0.807569  \n",
       "min       2.740000     0.330000     8.400000     3.000000  \n",
       "25%       3.210000     0.550000     9.500000     5.000000  \n",
       "50%       3.310000     0.620000    10.200000     6.000000  \n",
       "75%       3.400000     0.730000    11.100000     6.000000  \n",
       "max       4.010000     2.000000    14.900000     8.000000  "
      ]
     },
     "execution_count": 2,
     "metadata": {},
     "output_type": "execute_result"
    }
   ],
   "source": [
    "# Resumo estatístico\n",
    "df_wine.describe()\n"
   ]
  },
  {
   "cell_type": "markdown",
   "id": "212c4ec3",
   "metadata": {},
   "source": [
    "## Verificar valores ausentes:\n",
    "\n",
    "A ideia aqui é verificar a integridade do dataset antes de prosseguirmos, uma vez que foi um dataset escolhido ao acaso da internet."
   ]
  },
  {
   "cell_type": "code",
   "execution_count": null,
   "id": "79bf41fe",
   "metadata": {},
   "outputs": [
    {
     "data": {
      "text/plain": [
       "fixed acidity           0\n",
       "volatile acidity        0\n",
       "citric acid             0\n",
       "residual sugar          0\n",
       "chlorides               0\n",
       "free sulfur dioxide     0\n",
       "total sulfur dioxide    0\n",
       "density                 0\n",
       "pH                      0\n",
       "sulphates               0\n",
       "alcohol                 0\n",
       "quality                 0\n",
       "dtype: int64"
      ]
     },
     "execution_count": 3,
     "metadata": {},
     "output_type": "execute_result"
    }
   ],
   "source": [
    "df_wine.isnull().sum()\n"
   ]
  },
  {
   "cell_type": "markdown",
   "id": "3b0031ac",
   "metadata": {},
   "source": [
    "Dataset esta integro, podemos prosseguir\n",
    "\n",
    "## Dividir os Dados em Treino, Validação e Teste:\n",
    "Isso nos permite avaliar a performance do modelo em dados nunca vistos e ajustar o modelo conforme necessário."
   ]
  },
  {
   "cell_type": "code",
   "execution_count": 2,
   "id": "98b77ee3",
   "metadata": {},
   "outputs": [],
   "source": [
    "from sklearn.model_selection import train_test_split\n",
    "\n",
    "X = df_wine.drop('quality', axis=1)\n",
    "y = df_wine['quality']\n",
    "\n",
    "# Dividindo em treino (80%) e teste (20%)\n",
    "X_train, X_test, y_train, y_test = train_test_split(X, y, test_size=0.2, random_state=42)\n",
    "\n",
    "# Dividindo os dados de treino em treino (80%) e validação (20%)\n",
    "X_train, X_val, y_train, y_val = train_test_split(X_train, y_train, test_size=0.2, random_state=42)\n"
   ]
  },
  {
   "cell_type": "markdown",
   "id": "880512c2",
   "metadata": {},
   "source": [
    "## Normalização:\n",
    "\n",
    "A normalização garante que todas as características tenham a mesma escala, o que pode acelerar o treinamento e melhorar a performance do modelo."
   ]
  },
  {
   "cell_type": "code",
   "execution_count": null,
   "id": "c81b6886",
   "metadata": {},
   "outputs": [
    {
     "name": "stdout",
     "output_type": "stream",
     "text": [
      "Dados de treino normalizados\n",
      "[[-0.36458197  0.27028307 -0.88452628 ... -1.50331912 -0.96231644\n",
      "  -0.61284241]\n",
      " [ 2.08646306 -0.82422292  1.09972703 ... -0.98778743 -0.29662295\n",
      "  -0.13057021]\n",
      " [ 0.86094055 -0.16751933  1.09972703 ... -0.02116552  0.70191728\n",
      "   0.25524755]\n",
      " ...\n",
      " [ 2.611687   -1.26202532  2.37168427 ... -0.73002159  0.59096836\n",
      "   0.35170199]\n",
      " [-0.4812984   0.84489871 -1.03716115 ...  0.4299247  -0.6294697\n",
      "   0.44815643]\n",
      " [-1.06488055  0.46182161 -1.39330918 ...  0.94545638 -0.07472512\n",
      "  -1.19156904]]\n"
     ]
    }
   ],
   "source": [
    "from sklearn.preprocessing import StandardScaler\n",
    "\n",
    "scaler = StandardScaler()\n",
    "\n",
    "# Ajuste e transformação dos dados de treino\n",
    "X_train_scaled = scaler.fit_transform(X_train)\n",
    "\n",
    "# Transformação dos dados de validação e teste (usando a mesma escala dos dados de treino)\n",
    "X_val_scaled = scaler.transform(X_val)\n",
    "X_test_scaled = scaler.transform(X_test)\n",
    "print(\"Dados de treino normalizados\")\n",
    "print(X_train_scaled)"
   ]
  },
  {
   "cell_type": "markdown",
   "id": "33d492c3",
   "metadata": {},
   "source": [
    "## Construção da MLP para o Dataset Wine Quality\n",
    "### Importar as bibliotecas necessárias"
   ]
  },
  {
   "cell_type": "code",
   "execution_count": 8,
   "id": "98b71169",
   "metadata": {},
   "outputs": [],
   "source": [
    "import tensorflow as tf\n",
    "from tensorflow.keras.models import Sequential\n",
    "from tensorflow.keras.layers import Dense\n",
    "from tensorflow.keras.optimizers import SGD"
   ]
  },
  {
   "cell_type": "markdown",
   "id": "473d5d9f",
   "metadata": {},
   "source": [
    "### Definição da Arquitetura da MLP"
   ]
  },
  {
   "cell_type": "code",
   "execution_count": 3,
   "id": "134168eb",
   "metadata": {},
   "outputs": [],
   "source": [
    "def build_mlp(input_dim, layers, output_dim, output_activation):\n",
    "    \"\"\"\n",
    "    Constrói uma MLP com a arquitetura especificada.\n",
    "\n",
    "    Parâmetros:\n",
    "    - input_dim: Dimensão do vetor de entrada.\n",
    "    - layers: Lista com o número de neurônios em cada camada oculta.\n",
    "    - output_dim: Número de neurônios na camada de saída.\n",
    "    - output_activation: Função de ativação da camada de saída.\n",
    "    \n",
    "    Retorna:\n",
    "    - Modelo da MLP construída.\n",
    "    \"\"\"\n",
    "\n",
    "    model = Sequential()\n",
    "    \n",
    "    # Adicionando a primeira camada oculta e definindo a camada de entrada\n",
    "    model.add(Dense(layers[0], activation='relu', input_dim=input_dim))\n",
    "    \n",
    "    # Adicionando camadas ocultas adicionais (se houver)\n",
    "    for neurons in layers[1:]:\n",
    "        model.add(Dense(neurons, activation='relu'))\n",
    "    \n",
    "    # Adicionando camada de saída\n",
    "    model.add(Dense(output_dim, activation=output_activation))\n",
    "    \n",
    "    return model\n"
   ]
  },
  {
   "cell_type": "markdown",
   "id": "1a01dc38",
   "metadata": {},
   "source": [
    "### Construção e Compilação da MLP"
   ]
  },
  {
   "cell_type": "code",
   "execution_count": 4,
   "id": "d986938a",
   "metadata": {},
   "outputs": [
    {
     "ename": "NameError",
     "evalue": "name 'X_train_scaled' is not defined",
     "output_type": "error",
     "traceback": [
      "\u001b[1;31m---------------------------------------------------------------------------\u001b[0m",
      "\u001b[1;31mNameError\u001b[0m                                 Traceback (most recent call last)",
      "Cell \u001b[1;32mIn[4], line 2\u001b[0m\n\u001b[0;32m      1\u001b[0m \u001b[38;5;66;03m# Parâmetros\u001b[39;00m\n\u001b[1;32m----> 2\u001b[0m input_dim \u001b[38;5;241m=\u001b[39m \u001b[43mX_train_scaled\u001b[49m\u001b[38;5;241m.\u001b[39mshape[\u001b[38;5;241m1\u001b[39m]  \u001b[38;5;66;03m# Número de características\u001b[39;00m\n\u001b[0;32m      3\u001b[0m layers \u001b[38;5;241m=\u001b[39m [\u001b[38;5;241m64\u001b[39m, \u001b[38;5;241m32\u001b[39m, \u001b[38;5;241m16\u001b[39m, \u001b[38;5;241m8\u001b[39m]  \u001b[38;5;66;03m# Exemplo de topologia com 4 camadas ocultas\u001b[39;00m\n\u001b[0;32m      4\u001b[0m output_dim \u001b[38;5;241m=\u001b[39m \u001b[38;5;241m1\u001b[39m  \u001b[38;5;66;03m# Problema de regressão\u001b[39;00m\n",
      "\u001b[1;31mNameError\u001b[0m: name 'X_train_scaled' is not defined"
     ]
    }
   ],
   "source": [
    "# Parâmetros\n",
    "input_dim = X_train_scaled.shape[1]  # Número de características\n",
    "layers = [64, 32, 16, 8]  # Exemplo de topologia com 4 camadas ocultas\n",
    "output_dim = 1  # Problema de regressão\n",
    "output_activation = 'linear'\n",
    "\n",
    "# Construir e compilar o modelo\n",
    "model = build_mlp(input_dim, layers, output_dim, output_activation)\n",
    "model.compile(optimizer=SGD(), loss='mean_squared_error', metrics=['mean_absolute_error'])\n"
   ]
  },
  {
   "cell_type": "markdown",
   "id": "5dda124e",
   "metadata": {},
   "source": [
    "### Treinamento da MLP:\n",
    "\n",
    "Qual melhor numero de epocas? Testar diferentes variaçoes..."
   ]
  },
  {
   "cell_type": "code",
   "execution_count": null,
   "id": "6d1a0169",
   "metadata": {},
   "outputs": [],
   "source": [
    "history = model.fit(X_train_scaled, y_train, validation_data=(X_val_scaled, y_val), epochs=100, batch_size=32)\n"
   ]
  },
  {
   "cell_type": "markdown",
   "id": "9999fb41",
   "metadata": {},
   "source": [
    "### Avaliação do Modelo:"
   ]
  },
  {
   "cell_type": "code",
   "execution_count": 12,
   "id": "74997382",
   "metadata": {},
   "outputs": [
    {
     "name": "stdout",
     "output_type": "stream",
     "text": [
      "10/10 [==============================] - 0s 1ms/step - loss: 0.5396 - mean_absolute_error: 0.5464\n",
      "Perda no conjunto de teste: 0.5396\n",
      "Erro absoluto médio no conjunto de teste: 0.5464\n"
     ]
    }
   ],
   "source": [
    "loss, mae = model.evaluate(X_test_scaled, y_test)\n",
    "print(f\"Perda no conjunto de teste: {loss:.4f}\")\n",
    "print(f\"Erro absoluto médio no conjunto de teste: {mae:.4f}\")\n"
   ]
  },
  {
   "cell_type": "code",
   "execution_count": null,
   "id": "109ae5d1",
   "metadata": {},
   "outputs": [],
   "source": []
  }
 ],
 "metadata": {
  "kernelspec": {
   "display_name": "Python 3 (ipykernel)",
   "language": "python",
   "name": "python3"
  },
  "language_info": {
   "codemirror_mode": {
    "name": "ipython",
    "version": 3
   },
   "file_extension": ".py",
   "mimetype": "text/x-python",
   "name": "python",
   "nbconvert_exporter": "python",
   "pygments_lexer": "ipython3",
   "version": "3.8.18"
  }
 },
 "nbformat": 4,
 "nbformat_minor": 5
}
